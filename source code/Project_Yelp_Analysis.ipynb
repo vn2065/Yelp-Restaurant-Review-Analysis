{
 "cells": [
  {
   "cell_type": "code",
   "execution_count": 1,
   "metadata": {
    "colab": {
     "base_uri": "https://localhost:8080/"
    },
    "id": "5PO5j7oiY82B",
    "outputId": "d9cbb423-ffbe-4fd5-d43e-ecaddd045539"
   },
   "outputs": [
    {
     "name": "stderr",
     "output_type": "stream",
     "text": [
      "C:\\Users\\pital\\anaconda3\\lib\\site-packages\\pyspark\\sql\\context.py:112: FutureWarning: Deprecated in 3.0.0. Use SparkSession.builder.getOrCreate() instead.\n",
      "  warnings.warn(\n",
      "C:\\Users\\pital\\anaconda3\\lib\\site-packages\\pyspark\\sql\\context.py:157: FutureWarning: Deprecated in 3.0.0. Use SparkSession.builder.getOrCreate() instead.\n",
      "  warnings.warn(\n"
     ]
    },
    {
     "data": {
      "text/plain": "<pyspark.sql.context.SQLContext at 0x20247e2c280>"
     },
     "execution_count": 1,
     "metadata": {},
     "output_type": "execute_result"
    }
   ],
   "source": [
    "import pyspark\n",
    "from pyspark.sql import SQLContext\n",
    "\n",
    "conf = pyspark.SparkConf()\n",
    "\n",
    "conf.set(\"spark.driver.memory\",\"20g\")\n",
    "conf.set(\"spark.executor.memory\",\"20g\")\n",
    "conf.set(\"spark.driver.cores\",\"4\")\n",
    "conf.set(\"spark.num.executors\",\"6\")\n",
    "conf.set(\"spark.executor.cores\",\"4\")\n",
    "conf.set('spark.driver.memory','4g')\n",
    "sc = pyspark.SparkContext(conf=conf)\n",
    "\n",
    "sqlContext = SQLContext(sc)\n",
    "spark = pyspark.SQLContext.getOrCreate(sc)\n",
    "spark"
   ]
  },
  {
   "cell_type": "code",
   "source": [
    "import os\n",
    "os.environ['PYSPARK_SUBMIT_ARGS'] = '--packages com.datastax.spark:spark-cassandra-connector_2.11:2.3.0 --conf spark.cassandra.connection.host=127.0.0.1 pyspark-shell'\n",
    "\n",
    "def load_and_get_table_df(keys_space_name, table_name):\n",
    "    table_df = sqlContext.read\\\n",
    "        .format(\"org.apache.spark.sql.cassandra\")\\\n",
    "        .options(table=table_name, keyspace=keys_space_name)\\\n",
    "        .load()\n",
    "    return table_df\n",
    "\n",
    "\n",
    "reviews = load_and_get_table_df(\"yelp\", \"reviews\")\n",
    "business = load_and_get_table_df(\"yelp\", \"businesses\")"
   ],
   "metadata": {
    "id": "nncYG0lOSY2f"
   },
   "execution_count": 2,
   "outputs": [
    {
     "ename": "Py4JJavaError",
     "evalue": "An error occurred while calling o40.load.\n: java.lang.ClassNotFoundException: \nFailed to find data source: org.apache.spark.sql.cassandra. Please find packages at\nhttps://spark.apache.org/third-party-projects.html\n       \r\n\tat org.apache.spark.sql.errors.QueryExecutionErrors$.failedToFindDataSourceError(QueryExecutionErrors.scala:574)\r\n\tat org.apache.spark.sql.execution.datasources.DataSource$.lookupDataSource(DataSource.scala:675)\r\n\tat org.apache.spark.sql.execution.datasources.DataSource$.lookupDataSourceV2(DataSource.scala:725)\r\n\tat org.apache.spark.sql.DataFrameReader.load(DataFrameReader.scala:207)\r\n\tat org.apache.spark.sql.DataFrameReader.load(DataFrameReader.scala:171)\r\n\tat java.base/jdk.internal.reflect.NativeMethodAccessorImpl.invoke0(Native Method)\r\n\tat java.base/jdk.internal.reflect.NativeMethodAccessorImpl.invoke(NativeMethodAccessorImpl.java:78)\r\n\tat java.base/jdk.internal.reflect.DelegatingMethodAccessorImpl.invoke(DelegatingMethodAccessorImpl.java:43)\r\n\tat java.base/java.lang.reflect.Method.invoke(Method.java:567)\r\n\tat py4j.reflection.MethodInvoker.invoke(MethodInvoker.java:244)\r\n\tat py4j.reflection.ReflectionEngine.invoke(ReflectionEngine.java:357)\r\n\tat py4j.Gateway.invoke(Gateway.java:282)\r\n\tat py4j.commands.AbstractCommand.invokeMethod(AbstractCommand.java:132)\r\n\tat py4j.commands.CallCommand.execute(CallCommand.java:79)\r\n\tat py4j.ClientServerConnection.waitForCommands(ClientServerConnection.java:182)\r\n\tat py4j.ClientServerConnection.run(ClientServerConnection.java:106)\r\n\tat java.base/java.lang.Thread.run(Thread.java:831)\r\nCaused by: java.lang.ClassNotFoundException: org.apache.spark.sql.cassandra.DefaultSource\r\n\tat java.base/java.net.URLClassLoader.findClass(URLClassLoader.java:433)\r\n\tat java.base/java.lang.ClassLoader.loadClass(ClassLoader.java:586)\r\n\tat java.base/java.lang.ClassLoader.loadClass(ClassLoader.java:519)\r\n\tat org.apache.spark.sql.execution.datasources.DataSource$.$anonfun$lookupDataSource$5(DataSource.scala:661)\r\n\tat scala.util.Try$.apply(Try.scala:213)\r\n\tat org.apache.spark.sql.execution.datasources.DataSource$.$anonfun$lookupDataSource$4(DataSource.scala:661)\r\n\tat scala.util.Failure.orElse(Try.scala:224)\r\n\tat org.apache.spark.sql.execution.datasources.DataSource$.lookupDataSource(DataSource.scala:661)\r\n\t... 15 more\r\n",
     "output_type": "error",
     "traceback": [
      "\u001B[1;31m---------------------------------------------------------------------------\u001B[0m",
      "\u001B[1;31mPy4JJavaError\u001B[0m                             Traceback (most recent call last)",
      "\u001B[1;32m<ipython-input-2-abf7c4b586fc>\u001B[0m in \u001B[0;36m<module>\u001B[1;34m\u001B[0m\n\u001B[0;32m     10\u001B[0m \u001B[1;33m\u001B[0m\u001B[0m\n\u001B[0;32m     11\u001B[0m \u001B[1;33m\u001B[0m\u001B[0m\n\u001B[1;32m---> 12\u001B[1;33m \u001B[0mreviews\u001B[0m \u001B[1;33m=\u001B[0m \u001B[0mload_and_get_table_df\u001B[0m\u001B[1;33m(\u001B[0m\u001B[1;34m\"yelp\"\u001B[0m\u001B[1;33m,\u001B[0m \u001B[1;34m\"reviews\"\u001B[0m\u001B[1;33m)\u001B[0m\u001B[1;33m\u001B[0m\u001B[1;33m\u001B[0m\u001B[0m\n\u001B[0m\u001B[0;32m     13\u001B[0m \u001B[0mbusiness\u001B[0m \u001B[1;33m=\u001B[0m \u001B[0mload_and_get_table_df\u001B[0m\u001B[1;33m(\u001B[0m\u001B[1;34m\"yelp\"\u001B[0m\u001B[1;33m,\u001B[0m \u001B[1;34m\"businesses\"\u001B[0m\u001B[1;33m)\u001B[0m\u001B[1;33m\u001B[0m\u001B[1;33m\u001B[0m\u001B[0m\n",
      "\u001B[1;32m<ipython-input-2-abf7c4b586fc>\u001B[0m in \u001B[0;36mload_and_get_table_df\u001B[1;34m(keys_space_name, table_name)\u001B[0m\n\u001B[0;32m      3\u001B[0m \u001B[1;33m\u001B[0m\u001B[0m\n\u001B[0;32m      4\u001B[0m \u001B[1;32mdef\u001B[0m \u001B[0mload_and_get_table_df\u001B[0m\u001B[1;33m(\u001B[0m\u001B[0mkeys_space_name\u001B[0m\u001B[1;33m,\u001B[0m \u001B[0mtable_name\u001B[0m\u001B[1;33m)\u001B[0m\u001B[1;33m:\u001B[0m\u001B[1;33m\u001B[0m\u001B[1;33m\u001B[0m\u001B[0m\n\u001B[1;32m----> 5\u001B[1;33m     \u001B[0mtable_df\u001B[0m \u001B[1;33m=\u001B[0m \u001B[0msqlContext\u001B[0m\u001B[1;33m.\u001B[0m\u001B[0mread\u001B[0m\u001B[0;31m\\\u001B[0m\u001B[1;33m\u001B[0m\u001B[1;33m\u001B[0m\u001B[0m\n\u001B[0m\u001B[0;32m      6\u001B[0m         \u001B[1;33m.\u001B[0m\u001B[0mformat\u001B[0m\u001B[1;33m(\u001B[0m\u001B[1;34m\"org.apache.spark.sql.cassandra\"\u001B[0m\u001B[1;33m)\u001B[0m\u001B[0;31m\\\u001B[0m\u001B[1;33m\u001B[0m\u001B[1;33m\u001B[0m\u001B[0m\n\u001B[0;32m      7\u001B[0m         \u001B[1;33m.\u001B[0m\u001B[0moptions\u001B[0m\u001B[1;33m(\u001B[0m\u001B[0mtable\u001B[0m\u001B[1;33m=\u001B[0m\u001B[0mtable_name\u001B[0m\u001B[1;33m,\u001B[0m \u001B[0mkeyspace\u001B[0m\u001B[1;33m=\u001B[0m\u001B[0mkeys_space_name\u001B[0m\u001B[1;33m)\u001B[0m\u001B[0;31m\\\u001B[0m\u001B[1;33m\u001B[0m\u001B[1;33m\u001B[0m\u001B[0m\n",
      "\u001B[1;32m~\\anaconda3\\lib\\site-packages\\pyspark\\sql\\readwriter.py\u001B[0m in \u001B[0;36mload\u001B[1;34m(self, path, format, schema, **options)\u001B[0m\n\u001B[0;32m    182\u001B[0m             \u001B[1;32mreturn\u001B[0m \u001B[0mself\u001B[0m\u001B[1;33m.\u001B[0m\u001B[0m_df\u001B[0m\u001B[1;33m(\u001B[0m\u001B[0mself\u001B[0m\u001B[1;33m.\u001B[0m\u001B[0m_jreader\u001B[0m\u001B[1;33m.\u001B[0m\u001B[0mload\u001B[0m\u001B[1;33m(\u001B[0m\u001B[0mself\u001B[0m\u001B[1;33m.\u001B[0m\u001B[0m_spark\u001B[0m\u001B[1;33m.\u001B[0m\u001B[0m_sc\u001B[0m\u001B[1;33m.\u001B[0m\u001B[0m_jvm\u001B[0m\u001B[1;33m.\u001B[0m\u001B[0mPythonUtils\u001B[0m\u001B[1;33m.\u001B[0m\u001B[0mtoSeq\u001B[0m\u001B[1;33m(\u001B[0m\u001B[0mpath\u001B[0m\u001B[1;33m)\u001B[0m\u001B[1;33m)\u001B[0m\u001B[1;33m)\u001B[0m\u001B[1;33m\u001B[0m\u001B[1;33m\u001B[0m\u001B[0m\n\u001B[0;32m    183\u001B[0m         \u001B[1;32melse\u001B[0m\u001B[1;33m:\u001B[0m\u001B[1;33m\u001B[0m\u001B[1;33m\u001B[0m\u001B[0m\n\u001B[1;32m--> 184\u001B[1;33m             \u001B[1;32mreturn\u001B[0m \u001B[0mself\u001B[0m\u001B[1;33m.\u001B[0m\u001B[0m_df\u001B[0m\u001B[1;33m(\u001B[0m\u001B[0mself\u001B[0m\u001B[1;33m.\u001B[0m\u001B[0m_jreader\u001B[0m\u001B[1;33m.\u001B[0m\u001B[0mload\u001B[0m\u001B[1;33m(\u001B[0m\u001B[1;33m)\u001B[0m\u001B[1;33m)\u001B[0m\u001B[1;33m\u001B[0m\u001B[1;33m\u001B[0m\u001B[0m\n\u001B[0m\u001B[0;32m    185\u001B[0m \u001B[1;33m\u001B[0m\u001B[0m\n\u001B[0;32m    186\u001B[0m     def json(\n",
      "\u001B[1;32m~\\anaconda3\\lib\\site-packages\\py4j\\java_gateway.py\u001B[0m in \u001B[0;36m__call__\u001B[1;34m(self, *args)\u001B[0m\n\u001B[0;32m   1319\u001B[0m \u001B[1;33m\u001B[0m\u001B[0m\n\u001B[0;32m   1320\u001B[0m         \u001B[0manswer\u001B[0m \u001B[1;33m=\u001B[0m \u001B[0mself\u001B[0m\u001B[1;33m.\u001B[0m\u001B[0mgateway_client\u001B[0m\u001B[1;33m.\u001B[0m\u001B[0msend_command\u001B[0m\u001B[1;33m(\u001B[0m\u001B[0mcommand\u001B[0m\u001B[1;33m)\u001B[0m\u001B[1;33m\u001B[0m\u001B[1;33m\u001B[0m\u001B[0m\n\u001B[1;32m-> 1321\u001B[1;33m         return_value = get_return_value(\n\u001B[0m\u001B[0;32m   1322\u001B[0m             answer, self.gateway_client, self.target_id, self.name)\n\u001B[0;32m   1323\u001B[0m \u001B[1;33m\u001B[0m\u001B[0m\n",
      "\u001B[1;32m~\\anaconda3\\lib\\site-packages\\pyspark\\sql\\utils.py\u001B[0m in \u001B[0;36mdeco\u001B[1;34m(*a, **kw)\u001B[0m\n\u001B[0;32m    188\u001B[0m     \u001B[1;32mdef\u001B[0m \u001B[0mdeco\u001B[0m\u001B[1;33m(\u001B[0m\u001B[1;33m*\u001B[0m\u001B[0ma\u001B[0m\u001B[1;33m:\u001B[0m \u001B[0mAny\u001B[0m\u001B[1;33m,\u001B[0m \u001B[1;33m**\u001B[0m\u001B[0mkw\u001B[0m\u001B[1;33m:\u001B[0m \u001B[0mAny\u001B[0m\u001B[1;33m)\u001B[0m \u001B[1;33m->\u001B[0m \u001B[0mAny\u001B[0m\u001B[1;33m:\u001B[0m\u001B[1;33m\u001B[0m\u001B[1;33m\u001B[0m\u001B[0m\n\u001B[0;32m    189\u001B[0m         \u001B[1;32mtry\u001B[0m\u001B[1;33m:\u001B[0m\u001B[1;33m\u001B[0m\u001B[1;33m\u001B[0m\u001B[0m\n\u001B[1;32m--> 190\u001B[1;33m             \u001B[1;32mreturn\u001B[0m \u001B[0mf\u001B[0m\u001B[1;33m(\u001B[0m\u001B[1;33m*\u001B[0m\u001B[0ma\u001B[0m\u001B[1;33m,\u001B[0m \u001B[1;33m**\u001B[0m\u001B[0mkw\u001B[0m\u001B[1;33m)\u001B[0m\u001B[1;33m\u001B[0m\u001B[1;33m\u001B[0m\u001B[0m\n\u001B[0m\u001B[0;32m    191\u001B[0m         \u001B[1;32mexcept\u001B[0m \u001B[0mPy4JJavaError\u001B[0m \u001B[1;32mas\u001B[0m \u001B[0me\u001B[0m\u001B[1;33m:\u001B[0m\u001B[1;33m\u001B[0m\u001B[1;33m\u001B[0m\u001B[0m\n\u001B[0;32m    192\u001B[0m             \u001B[0mconverted\u001B[0m \u001B[1;33m=\u001B[0m \u001B[0mconvert_exception\u001B[0m\u001B[1;33m(\u001B[0m\u001B[0me\u001B[0m\u001B[1;33m.\u001B[0m\u001B[0mjava_exception\u001B[0m\u001B[1;33m)\u001B[0m\u001B[1;33m\u001B[0m\u001B[1;33m\u001B[0m\u001B[0m\n",
      "\u001B[1;32m~\\anaconda3\\lib\\site-packages\\py4j\\protocol.py\u001B[0m in \u001B[0;36mget_return_value\u001B[1;34m(answer, gateway_client, target_id, name)\u001B[0m\n\u001B[0;32m    324\u001B[0m             \u001B[0mvalue\u001B[0m \u001B[1;33m=\u001B[0m \u001B[0mOUTPUT_CONVERTER\u001B[0m\u001B[1;33m[\u001B[0m\u001B[0mtype\u001B[0m\u001B[1;33m]\u001B[0m\u001B[1;33m(\u001B[0m\u001B[0manswer\u001B[0m\u001B[1;33m[\u001B[0m\u001B[1;36m2\u001B[0m\u001B[1;33m:\u001B[0m\u001B[1;33m]\u001B[0m\u001B[1;33m,\u001B[0m \u001B[0mgateway_client\u001B[0m\u001B[1;33m)\u001B[0m\u001B[1;33m\u001B[0m\u001B[1;33m\u001B[0m\u001B[0m\n\u001B[0;32m    325\u001B[0m             \u001B[1;32mif\u001B[0m \u001B[0manswer\u001B[0m\u001B[1;33m[\u001B[0m\u001B[1;36m1\u001B[0m\u001B[1;33m]\u001B[0m \u001B[1;33m==\u001B[0m \u001B[0mREFERENCE_TYPE\u001B[0m\u001B[1;33m:\u001B[0m\u001B[1;33m\u001B[0m\u001B[1;33m\u001B[0m\u001B[0m\n\u001B[1;32m--> 326\u001B[1;33m                 raise Py4JJavaError(\n\u001B[0m\u001B[0;32m    327\u001B[0m                     \u001B[1;34m\"An error occurred while calling {0}{1}{2}.\\n\"\u001B[0m\u001B[1;33m.\u001B[0m\u001B[1;33m\u001B[0m\u001B[1;33m\u001B[0m\u001B[0m\n\u001B[0;32m    328\u001B[0m                     format(target_id, \".\", name), value)\n",
      "\u001B[1;31mPy4JJavaError\u001B[0m: An error occurred while calling o40.load.\n: java.lang.ClassNotFoundException: \nFailed to find data source: org.apache.spark.sql.cassandra. Please find packages at\nhttps://spark.apache.org/third-party-projects.html\n       \r\n\tat org.apache.spark.sql.errors.QueryExecutionErrors$.failedToFindDataSourceError(QueryExecutionErrors.scala:574)\r\n\tat org.apache.spark.sql.execution.datasources.DataSource$.lookupDataSource(DataSource.scala:675)\r\n\tat org.apache.spark.sql.execution.datasources.DataSource$.lookupDataSourceV2(DataSource.scala:725)\r\n\tat org.apache.spark.sql.DataFrameReader.load(DataFrameReader.scala:207)\r\n\tat org.apache.spark.sql.DataFrameReader.load(DataFrameReader.scala:171)\r\n\tat java.base/jdk.internal.reflect.NativeMethodAccessorImpl.invoke0(Native Method)\r\n\tat java.base/jdk.internal.reflect.NativeMethodAccessorImpl.invoke(NativeMethodAccessorImpl.java:78)\r\n\tat java.base/jdk.internal.reflect.DelegatingMethodAccessorImpl.invoke(DelegatingMethodAccessorImpl.java:43)\r\n\tat java.base/java.lang.reflect.Method.invoke(Method.java:567)\r\n\tat py4j.reflection.MethodInvoker.invoke(MethodInvoker.java:244)\r\n\tat py4j.reflection.ReflectionEngine.invoke(ReflectionEngine.java:357)\r\n\tat py4j.Gateway.invoke(Gateway.java:282)\r\n\tat py4j.commands.AbstractCommand.invokeMethod(AbstractCommand.java:132)\r\n\tat py4j.commands.CallCommand.execute(CallCommand.java:79)\r\n\tat py4j.ClientServerConnection.waitForCommands(ClientServerConnection.java:182)\r\n\tat py4j.ClientServerConnection.run(ClientServerConnection.java:106)\r\n\tat java.base/java.lang.Thread.run(Thread.java:831)\r\nCaused by: java.lang.ClassNotFoundException: org.apache.spark.sql.cassandra.DefaultSource\r\n\tat java.base/java.net.URLClassLoader.findClass(URLClassLoader.java:433)\r\n\tat java.base/java.lang.ClassLoader.loadClass(ClassLoader.java:586)\r\n\tat java.base/java.lang.ClassLoader.loadClass(ClassLoader.java:519)\r\n\tat org.apache.spark.sql.execution.datasources.DataSource$.$anonfun$lookupDataSource$5(DataSource.scala:661)\r\n\tat scala.util.Try$.apply(Try.scala:213)\r\n\tat org.apache.spark.sql.execution.datasources.DataSource$.$anonfun$lookupDataSource$4(DataSource.scala:661)\r\n\tat scala.util.Failure.orElse(Try.scala:224)\r\n\tat org.apache.spark.sql.execution.datasources.DataSource$.lookupDataSource(DataSource.scala:661)\r\n\t... 15 more\r\n"
     ]
    }
   ]
  },
  {
   "cell_type": "markdown",
   "metadata": {
    "id": "8BEBiohxvglI"
   },
   "source": [
    "## Cleaning sample_businesses.json dataset"
   ]
  },
  {
   "cell_type": "code",
   "execution_count": null,
   "metadata": {
    "colab": {
     "base_uri": "https://localhost:8080/"
    },
    "id": "ucYHNNMUetyy",
    "outputId": "24b8618f-6ec2-4a4f-d557-35730c659162"
   },
   "outputs": [
    {
     "name": "stdout",
     "output_type": "stream",
     "text": [
      "root\n",
      " |-- address: string (nullable = true)\n",
      " |-- attributes: struct (nullable = true)\n",
      " |    |-- AcceptsInsurance: string (nullable = true)\n",
      " |    |-- AgesAllowed: string (nullable = true)\n",
      " |    |-- Alcohol: string (nullable = true)\n",
      " |    |-- Ambience: string (nullable = true)\n",
      " |    |-- BYOB: string (nullable = true)\n",
      " |    |-- BYOBCorkage: string (nullable = true)\n",
      " |    |-- BestNights: string (nullable = true)\n",
      " |    |-- BikeParking: string (nullable = true)\n",
      " |    |-- BusinessAcceptsBitcoin: string (nullable = true)\n",
      " |    |-- BusinessAcceptsCreditCards: string (nullable = true)\n",
      " |    |-- BusinessParking: string (nullable = true)\n",
      " |    |-- ByAppointmentOnly: string (nullable = true)\n",
      " |    |-- Caters: string (nullable = true)\n",
      " |    |-- CoatCheck: string (nullable = true)\n",
      " |    |-- Corkage: string (nullable = true)\n",
      " |    |-- DietaryRestrictions: string (nullable = true)\n",
      " |    |-- DogsAllowed: string (nullable = true)\n",
      " |    |-- DriveThru: string (nullable = true)\n",
      " |    |-- GoodForDancing: string (nullable = true)\n",
      " |    |-- GoodForKids: string (nullable = true)\n",
      " |    |-- GoodForMeal: string (nullable = true)\n",
      " |    |-- HairSpecializesIn: string (nullable = true)\n",
      " |    |-- HappyHour: string (nullable = true)\n",
      " |    |-- HasTV: string (nullable = true)\n",
      " |    |-- Music: string (nullable = true)\n",
      " |    |-- NoiseLevel: string (nullable = true)\n",
      " |    |-- Open24Hours: string (nullable = true)\n",
      " |    |-- OutdoorSeating: string (nullable = true)\n",
      " |    |-- RestaurantsAttire: string (nullable = true)\n",
      " |    |-- RestaurantsCounterService: string (nullable = true)\n",
      " |    |-- RestaurantsDelivery: string (nullable = true)\n",
      " |    |-- RestaurantsGoodForGroups: string (nullable = true)\n",
      " |    |-- RestaurantsPriceRange2: string (nullable = true)\n",
      " |    |-- RestaurantsReservations: string (nullable = true)\n",
      " |    |-- RestaurantsTableService: string (nullable = true)\n",
      " |    |-- RestaurantsTakeOut: string (nullable = true)\n",
      " |    |-- Smoking: string (nullable = true)\n",
      " |    |-- WheelchairAccessible: string (nullable = true)\n",
      " |    |-- WiFi: string (nullable = true)\n",
      " |-- business_id: string (nullable = true)\n",
      " |-- categories: string (nullable = true)\n",
      " |-- city: string (nullable = true)\n",
      " |-- hours: struct (nullable = true)\n",
      " |    |-- Friday: string (nullable = true)\n",
      " |    |-- Monday: string (nullable = true)\n",
      " |    |-- Saturday: string (nullable = true)\n",
      " |    |-- Sunday: string (nullable = true)\n",
      " |    |-- Thursday: string (nullable = true)\n",
      " |    |-- Tuesday: string (nullable = true)\n",
      " |    |-- Wednesday: string (nullable = true)\n",
      " |-- is_open: long (nullable = true)\n",
      " |-- latitude: double (nullable = true)\n",
      " |-- longitude: double (nullable = true)\n",
      " |-- name: string (nullable = true)\n",
      " |-- postal_code: string (nullable = true)\n",
      " |-- review_count: long (nullable = true)\n",
      " |-- stars: double (nullable = true)\n",
      " |-- state: string (nullable = true)\n",
      "\n",
      "+--------------------+--------------------+--------------------+--------------------+------------+--------------------+-------+-------------+--------------+--------------------+-----------+------------+-----+-----+\n",
      "|             address|          attributes|         business_id|          categories|        city|               hours|is_open|     latitude|     longitude|                name|postal_code|review_count|stars|state|\n",
      "+--------------------+--------------------+--------------------+--------------------+------------+--------------------+-------+-------------+--------------+--------------------+-----------+------------+-----+-----+\n",
      "|         935 Race St|{null, null, u'no...|MTSW4McQd7CbVtyjq...|Restaurants, Food...|Philadelphia|{7:0-21:0, 7:0-20...|      1|   39.9555052|   -75.1555641|  St Honore Pastries|      19107|          80|  4.0|   PA|\n",
      "|   8025 Mackenzie Rd|{null, null, u'fu...|k0hlBqXX-Bt0vf1op...|Pubs, Restaurants...|      Affton|                null|      0|   38.5651648|   -90.3210868|Tsevi's Pub And G...|      63123|          19|  3.0|   MO|\n",
      "| 2312 Dickerson Pike|{null, null, u'no...|bBDDEgkFA1Otx9Lfe...|Ice Cream & Froze...|   Nashville|{6:0-16:0, 0:0-0:...|      1|   36.2081024|   -86.7681696|      Sonic Drive-In|      37207|          10|  1.5|   TN|\n",
      "|                    |{null, null, 'non...|eEOYSgkmpB90uNA7l...|Vietnamese, Food,...|   Tampa Bay|{11:0-14:0, 11:0-...|      1|   27.9552692|   -82.4563199|Vietnamese Food T...|      33602|          10|  4.0|   FL|\n",
      "|        8901 US 31 S|{null, null, 'non...|il_Ro8jwPlHresjw9...|American (Traditi...|Indianapolis|{6:0-22:0, 6:0-22...|      1|39.6371332838| -86.127217412|             Denny's|      46227|          28|  2.5|   IN|\n",
      "|       2575 E Bay Dr|{null, null, u'no...|0bPLkL0QhhPO5kt1_...|Food, Delis, Ital...|       Largo|{10:0-20:0, 10:0-...|      0|   27.9161159|   -82.7604608|Zio's Italian Market|      33771|         100|  4.5|   FL|\n",
      "|         205 Race St|{null, null, 'ful...|MUTTqe8uqyMdBl186...|Sushi Bars, Resta...|Philadelphia|{13:30-23:0, null...|      1|    39.953949|   -75.1432262|            Tuna Bar|      19106|         245|  4.0|   PA|\n",
      "|       1224 South St|{null, null, u'no...|ROeacJQwBeh05Rqg7...| Korean, Restaurants|Philadelphia|{11:30-20:30, 11:...|      1|    39.943223|    -75.162568|                 BAP|      19147|         205|  4.5|   PA|\n",
      "| 10359 104 Street NW|{null, null, u'be...|WKMJwqnfZKsAae75R...|Coffee & Tea, Foo...|    Edmonton|{8:0-18:0, 8:0-18...|      0|   53.5460453|  -113.4991693|Roast Coffeehouse...|    T5J 1B9|          40|  4.0|   AB|\n",
      "|      6625 E 82nd St|{null, null, null...|kfNv-JZpuN6TVNSO6...|Steakhouses, Asia...|Indianapolis|{11:0-21:0, 11:0-...|      1|39.9043203184|   -86.0530799|     Hibachi Express|      46250|          20|  4.0|   IN|\n",
      "|  5505 S Virginia St|{null, null, 'ful...|9OG5YkX1g2GReZM0A...|Restaurants, Italian|        Reno|{11:0-21:0, 11:0-...|      1|   39.4761165|  -119.7893392|Romano's Macaroni...|      89502|         339|  2.5|   NV|\n",
      "|       215 1st Ave S|{null, null, u'fu...|tMkwHmWFUEXrC9Zdu...|Restaurants, Japa...|   Nashville|{16:0-23:0, null,...|      0|   36.1598858|   -86.7731974|  The Green Pheasant|      37201|         161|  4.0|   TN|\n",
      "|        767 S 9th St|{null, null, u'fu...|QdN72BWoyFypdGJhh...|Cocktail Bars, Ba...|Philadelphia|{12:0-2:0, 16:0-0...|      0|39.9398245705|-75.1574465632|             Bar One|      19147|          65|  4.0|   PA|\n",
      "|        4105 Main St|{null, null, u'no...|Mjboz24M9NlBeiOJK...|Pizza, Restaurant...|Philadelphia|{17:0-0:30, null,...|      0|   40.0224662|    -75.218314|    DeSandro on Main|      19127|          41|  3.0|   PA|\n",
      "|   10 Rittenhouse Pl|{null, null, u'no...|kV_Q1oqis8Qli8dUo...|  Pizza, Restaurants|     Ardmore|{11:0-1:0, 11:0-0...|      1|   40.0067071|    -75.289671|       Ardmore Pizza|      19003|         109|  3.5|   PA|\n",
      "|  901 N Delaware Ave|{null, null, null...|aPNXGTDkf-4bjhyMB...|Eatertainment, Ar...|Philadelphia|{16:0-19:0, 0:0-0...|      1|   39.9625821|   -75.1356571|          Craft Hall|      19123|          65|  3.5|   PA|\n",
      "|116 N Pottstown Pike|{null, null, u'fu...|2xVsWBNFwZOxIOdd9...|Restaurants, Burgers|       Exton|                null|      0|    40.029962|    -75.630607|Cheeseburger In P...|      19341|          20|  2.5|   PA|\n",
      "|        312 Piasa St|{null, null, u'fu...|ljxNT9p0y7YMPx0fc...|Restaurants, Spec...|       Alton|{16:0-22:0, 0:0-0...|      1|    38.896563|-90.1862032987|Tony's Restaurant...|      62002|          94|  3.0|   IL|\n",
      "|1625 W Valencia R...|{null, null, 'bee...|wghnIlMb_i5U46HMB...|Restaurants, Chinese|      Tucson|{11:0-21:0, 11:0-...|      0|   32.1323047|  -110.9999851|China Dragon Rest...|      85746|          23|  3.0|   AZ|\n",
      "|       2031 Broadway|{null, null, u'be...|lk9IwjZXqUMqqOhM7...|Coffee & Tea, Res...|   Nashville|{7:0-17:0, 7:0-17...|      0|   36.1483712|   -86.7988947|    Caviar & Bananas|      37203|         159|  3.5|   TN|\n",
      "+--------------------+--------------------+--------------------+--------------------+------------+--------------------+-------+-------------+--------------+--------------------+-----------+------------+-----+-----+\n",
      "only showing top 20 rows\n",
      "\n"
     ]
    },
    {
     "data": {
      "text/plain": [
       "36876"
      ]
     },
     "execution_count": 6,
     "metadata": {},
     "output_type": "execute_result"
    }
   ],
   "source": [
    "business.printSchema()\n",
    "business.show()\n",
    "business.count()"
   ]
  },
  {
   "cell_type": "code",
   "execution_count": null,
   "metadata": {
    "colab": {
     "base_uri": "https://localhost:8080/"
    },
    "id": "s5epFZfke29H",
    "outputId": "31d73c51-a439-4928-e29a-76005607843c"
   },
   "outputs": [
    {
     "name": "stdout",
     "output_type": "stream",
     "text": [
      "+--------------------+--------------------+--------------------+--------------------+------------+--------------------+-------+-------------+--------------+--------------------+-----------+------------+-----+-----+\n",
      "|             address|          attributes|         business_id|          categories|        city|               hours|is_open|     latitude|     longitude|                name|postal_code|review_count|stars|state|\n",
      "+--------------------+--------------------+--------------------+--------------------+------------+--------------------+-------+-------------+--------------+--------------------+-----------+------------+-----+-----+\n",
      "|         935 Race St|{null, null, u'no...|MTSW4McQd7CbVtyjq...|Restaurants, Food...|Philadelphia|{7:0-21:0, 7:0-20...|      1|   39.9555052|   -75.1555641|  St Honore Pastries|      19107|          80|  4.0|   PA|\n",
      "|   8025 Mackenzie Rd|{null, null, u'fu...|k0hlBqXX-Bt0vf1op...|Pubs, Restaurants...|      Affton|                null|      0|   38.5651648|   -90.3210868|Tsevi's Pub And G...|      63123|          19|  3.0|   MO|\n",
      "| 2312 Dickerson Pike|{null, null, u'no...|bBDDEgkFA1Otx9Lfe...|Ice Cream & Froze...|   Nashville|{6:0-16:0, 0:0-0:...|      1|   36.2081024|   -86.7681696|      Sonic Drive-In|      37207|          10|  1.5|   TN|\n",
      "|                    |{null, null, 'non...|eEOYSgkmpB90uNA7l...|Vietnamese, Food,...|   Tampa Bay|{11:0-14:0, 11:0-...|      1|   27.9552692|   -82.4563199|Vietnamese Food T...|      33602|          10|  4.0|   FL|\n",
      "|        8901 US 31 S|{null, null, 'non...|il_Ro8jwPlHresjw9...|American (Traditi...|Indianapolis|{6:0-22:0, 6:0-22...|      1|39.6371332838| -86.127217412|             Denny's|      46227|          28|  2.5|   IN|\n",
      "|       2575 E Bay Dr|{null, null, u'no...|0bPLkL0QhhPO5kt1_...|Food, Delis, Ital...|       Largo|{10:0-20:0, 10:0-...|      0|   27.9161159|   -82.7604608|Zio's Italian Market|      33771|         100|  4.5|   FL|\n",
      "|         205 Race St|{null, null, 'ful...|MUTTqe8uqyMdBl186...|Sushi Bars, Resta...|Philadelphia|{13:30-23:0, null...|      1|    39.953949|   -75.1432262|            Tuna Bar|      19106|         245|  4.0|   PA|\n",
      "|       1224 South St|{null, null, u'no...|ROeacJQwBeh05Rqg7...| Korean, Restaurants|Philadelphia|{11:30-20:30, 11:...|      1|    39.943223|    -75.162568|                 BAP|      19147|         205|  4.5|   PA|\n",
      "|      6625 E 82nd St|{null, null, null...|kfNv-JZpuN6TVNSO6...|Steakhouses, Asia...|Indianapolis|{11:0-21:0, 11:0-...|      1|39.9043203184|   -86.0530799|     Hibachi Express|      46250|          20|  4.0|   IN|\n",
      "|  5505 S Virginia St|{null, null, 'ful...|9OG5YkX1g2GReZM0A...|Restaurants, Italian|        Reno|{11:0-21:0, 11:0-...|      1|   39.4761165|  -119.7893392|Romano's Macaroni...|      89502|         339|  2.5|   NV|\n",
      "|       215 1st Ave S|{null, null, u'fu...|tMkwHmWFUEXrC9Zdu...|Restaurants, Japa...|   Nashville|{16:0-23:0, null,...|      0|   36.1598858|   -86.7731974|  The Green Pheasant|      37201|         161|  4.0|   TN|\n",
      "|        767 S 9th St|{null, null, u'fu...|QdN72BWoyFypdGJhh...|Cocktail Bars, Ba...|Philadelphia|{12:0-2:0, 16:0-0...|      0|39.9398245705|-75.1574465632|             Bar One|      19147|          65|  4.0|   PA|\n",
      "|        4105 Main St|{null, null, u'no...|Mjboz24M9NlBeiOJK...|Pizza, Restaurant...|Philadelphia|{17:0-0:30, null,...|      0|   40.0224662|    -75.218314|    DeSandro on Main|      19127|          41|  3.0|   PA|\n",
      "|   10 Rittenhouse Pl|{null, null, u'no...|kV_Q1oqis8Qli8dUo...|  Pizza, Restaurants|     Ardmore|{11:0-1:0, 11:0-0...|      1|   40.0067071|    -75.289671|       Ardmore Pizza|      19003|         109|  3.5|   PA|\n",
      "|  901 N Delaware Ave|{null, null, null...|aPNXGTDkf-4bjhyMB...|Eatertainment, Ar...|Philadelphia|{16:0-19:0, 0:0-0...|      1|   39.9625821|   -75.1356571|          Craft Hall|      19123|          65|  3.5|   PA|\n",
      "|116 N Pottstown Pike|{null, null, u'fu...|2xVsWBNFwZOxIOdd9...|Restaurants, Burgers|       Exton|                null|      0|    40.029962|    -75.630607|Cheeseburger In P...|      19341|          20|  2.5|   PA|\n",
      "|        312 Piasa St|{null, null, u'fu...|ljxNT9p0y7YMPx0fc...|Restaurants, Spec...|       Alton|{16:0-22:0, 0:0-0...|      1|    38.896563|-90.1862032987|Tony's Restaurant...|      62002|          94|  3.0|   IL|\n",
      "|1625 W Valencia R...|{null, null, 'bee...|wghnIlMb_i5U46HMB...|Restaurants, Chinese|      Tucson|{11:0-21:0, 11:0-...|      0|   32.1323047|  -110.9999851|China Dragon Rest...|      85746|          23|  3.0|   AZ|\n",
      "|       2031 Broadway|{null, null, u'be...|lk9IwjZXqUMqqOhM7...|Coffee & Tea, Res...|   Nashville|{7:0-17:0, 7:0-17...|      0|   36.1483712|   -86.7988947|    Caviar & Bananas|      37203|         159|  3.5|   TN|\n",
      "|10440 N Dale Mabr...|{null, null, u'fu...|uI9XODGY_2_ieTE6x...|Restaurants, Amer...|       Tampa|{11:30-22:0, 11:3...|      0|28.0462028173|-82.5050526736|         Roman Forum|      33618|          23|  4.0|   FL|\n",
      "+--------------------+--------------------+--------------------+--------------------+------------+--------------------+-------+-------------+--------------+--------------------+-----------+------------+-----+-----+\n",
      "only showing top 20 rows\n",
      "\n"
     ]
    },
    {
     "data": {
      "text/plain": [
       "35592"
      ]
     },
     "execution_count": 7,
     "metadata": {},
     "output_type": "execute_result"
    }
   ],
   "source": [
    "# DataSet contains data from US and Canada, We will be focusing only on US \n",
    "\n",
    "states = [\"AL\", \"AK\", \"AZ\", \"AR\", \"CA\", \"CO\", \"CT\", \"DC\", \"DE\", \"FL\", \"GA\", \n",
    "          \"HI\", \"ID\", \"IL\", \"IN\", \"IA\", \"KS\", \"KY\", \"LA\", \"ME\", \"MD\", \n",
    "          \"MA\", \"MI\", \"MN\", \"MS\", \"MO\", \"MT\", \"NE\", \"NV\", \"NH\", \"NJ\", \n",
    "          \"NM\", \"NY\", \"NC\", \"ND\", \"OH\", \"OK\", \"OR\", \"PA\", \"RI\", \"SC\", \n",
    "          \"SD\", \"TN\", \"TX\", \"UT\", \"VT\", \"VA\", \"WA\", \"WV\", \"WI\", \"WY\"]\n",
    "\n",
    "business = business.filter(business.state.isin(states))\n",
    "business.show() \n",
    "business.count()"
   ]
  },
  {
   "cell_type": "code",
   "execution_count": null,
   "metadata": {
    "colab": {
     "base_uri": "https://localhost:8080/"
    },
    "id": "PNyLsEmkivwT",
    "outputId": "86b37e6b-a6db-4edf-95c4-acd383060229"
   },
   "outputs": [
    {
     "name": "stdout",
     "output_type": "stream",
     "text": [
      "+--------------------+--------------------+--------------------+--------------------+------------+--------------------+-------+-------------+--------------+--------------------+-----------+------------+-----+-----+\n",
      "|             address|          attributes|         business_id|          categories|        city|               hours|is_open|     latitude|     longitude|                name|postal_code|review_count|stars|state|\n",
      "+--------------------+--------------------+--------------------+--------------------+------------+--------------------+-------+-------------+--------------+--------------------+-----------+------------+-----+-----+\n",
      "|         935 Race St|{null, null, u'no...|MTSW4McQd7CbVtyjq...|Restaurants, Food...|Philadelphia|{7:0-21:0, 7:0-20...|      1|   39.9555052|   -75.1555641|  St Honore Pastries|      19107|          80|  4.0|   PA|\n",
      "|   8025 Mackenzie Rd|{null, null, u'fu...|k0hlBqXX-Bt0vf1op...|Pubs, Restaurants...|      Affton|                null|      0|   38.5651648|   -90.3210868|Tsevi's Pub And G...|      63123|          19|  3.0|   MO|\n",
      "| 2312 Dickerson Pike|{null, null, u'no...|bBDDEgkFA1Otx9Lfe...|Ice Cream & Froze...|   Nashville|{6:0-16:0, 0:0-0:...|      1|   36.2081024|   -86.7681696|      Sonic Drive-In|      37207|          10|  1.5|   TN|\n",
      "|                    |{null, null, 'non...|eEOYSgkmpB90uNA7l...|Vietnamese, Food,...|   Tampa Bay|{11:0-14:0, 11:0-...|      1|   27.9552692|   -82.4563199|Vietnamese Food T...|      33602|          10|  4.0|   FL|\n",
      "|        8901 US 31 S|{null, null, 'non...|il_Ro8jwPlHresjw9...|American (Traditi...|Indianapolis|{6:0-22:0, 6:0-22...|      1|39.6371332838| -86.127217412|             Denny's|      46227|          28|  2.5|   IN|\n",
      "|       2575 E Bay Dr|{null, null, u'no...|0bPLkL0QhhPO5kt1_...|Food, Delis, Ital...|       Largo|{10:0-20:0, 10:0-...|      0|   27.9161159|   -82.7604608|Zio's Italian Market|      33771|         100|  4.5|   FL|\n",
      "|         205 Race St|{null, null, 'ful...|MUTTqe8uqyMdBl186...|Sushi Bars, Resta...|Philadelphia|{13:30-23:0, null...|      1|    39.953949|   -75.1432262|            Tuna Bar|      19106|         245|  4.0|   PA|\n",
      "|       1224 South St|{null, null, u'no...|ROeacJQwBeh05Rqg7...| Korean, Restaurants|Philadelphia|{11:30-20:30, 11:...|      1|    39.943223|    -75.162568|                 BAP|      19147|         205|  4.5|   PA|\n",
      "|      6625 E 82nd St|{null, null, null...|kfNv-JZpuN6TVNSO6...|Steakhouses, Asia...|Indianapolis|{11:0-21:0, 11:0-...|      1|39.9043203184|   -86.0530799|     Hibachi Express|      46250|          20|  4.0|   IN|\n",
      "|  5505 S Virginia St|{null, null, 'ful...|9OG5YkX1g2GReZM0A...|Restaurants, Italian|        Reno|{11:0-21:0, 11:0-...|      1|   39.4761165|  -119.7893392|Romano's Macaroni...|      89502|         339|  2.5|   NV|\n",
      "|       215 1st Ave S|{null, null, u'fu...|tMkwHmWFUEXrC9Zdu...|Restaurants, Japa...|   Nashville|{16:0-23:0, null,...|      0|   36.1598858|   -86.7731974|  The Green Pheasant|      37201|         161|  4.0|   TN|\n",
      "|        767 S 9th St|{null, null, u'fu...|QdN72BWoyFypdGJhh...|Cocktail Bars, Ba...|Philadelphia|{12:0-2:0, 16:0-0...|      0|39.9398245705|-75.1574465632|             Bar One|      19147|          65|  4.0|   PA|\n",
      "|        4105 Main St|{null, null, u'no...|Mjboz24M9NlBeiOJK...|Pizza, Restaurant...|Philadelphia|{17:0-0:30, null,...|      0|   40.0224662|    -75.218314|    DeSandro on Main|      19127|          41|  3.0|   PA|\n",
      "|   10 Rittenhouse Pl|{null, null, u'no...|kV_Q1oqis8Qli8dUo...|  Pizza, Restaurants|     Ardmore|{11:0-1:0, 11:0-0...|      1|   40.0067071|    -75.289671|       Ardmore Pizza|      19003|         109|  3.5|   PA|\n",
      "|  901 N Delaware Ave|{null, null, null...|aPNXGTDkf-4bjhyMB...|Eatertainment, Ar...|Philadelphia|{16:0-19:0, 0:0-0...|      1|   39.9625821|   -75.1356571|          Craft Hall|      19123|          65|  3.5|   PA|\n",
      "|116 N Pottstown Pike|{null, null, u'fu...|2xVsWBNFwZOxIOdd9...|Restaurants, Burgers|       Exton|                null|      0|    40.029962|    -75.630607|Cheeseburger In P...|      19341|          20|  2.5|   PA|\n",
      "|        312 Piasa St|{null, null, u'fu...|ljxNT9p0y7YMPx0fc...|Restaurants, Spec...|       Alton|{16:0-22:0, 0:0-0...|      1|    38.896563|-90.1862032987|Tony's Restaurant...|      62002|          94|  3.0|   IL|\n",
      "|1625 W Valencia R...|{null, null, 'bee...|wghnIlMb_i5U46HMB...|Restaurants, Chinese|      Tucson|{11:0-21:0, 11:0-...|      0|   32.1323047|  -110.9999851|China Dragon Rest...|      85746|          23|  3.0|   AZ|\n",
      "|       2031 Broadway|{null, null, u'be...|lk9IwjZXqUMqqOhM7...|Coffee & Tea, Res...|   Nashville|{7:0-17:0, 7:0-17...|      0|   36.1483712|   -86.7988947|    Caviar & Bananas|      37203|         159|  3.5|   TN|\n",
      "|10440 N Dale Mabr...|{null, null, u'fu...|uI9XODGY_2_ieTE6x...|Restaurants, Amer...|       Tampa|{11:30-22:0, 11:3...|      0|28.0462028173|-82.5050526736|         Roman Forum|      33618|          23|  4.0|   FL|\n",
      "+--------------------+--------------------+--------------------+--------------------+------------+--------------------+-------+-------------+--------------+--------------------+-----------+------------+-----+-----+\n",
      "only showing top 20 rows\n",
      "\n"
     ]
    },
    {
     "data": {
      "text/plain": [
       "35592"
      ]
     },
     "execution_count": 8,
     "metadata": {},
     "output_type": "execute_result"
    }
   ],
   "source": [
    "# Selecting only those businesses which are Restaurants \n",
    "us_restaurants = business.filter(business.categories.contains(\"Restaurants\"))\n",
    "us_restaurants.show()\n",
    "us_restaurants.count()"
   ]
  },
  {
   "cell_type": "code",
   "execution_count": null,
   "metadata": {
    "colab": {
     "base_uri": "https://localhost:8080/"
    },
    "id": "JWZQ1B9alE0y",
    "outputId": "215cc1e6-2603-4bf8-d886-dbbf270f18f8"
   },
   "outputs": [
    {
     "name": "stdout",
     "output_type": "stream",
     "text": [
      "+-----------------------------------------------------------------------------------------------------------------------------------------------------------+\n",
      "|categories                                                                                                                                                 |\n",
      "+-----------------------------------------------------------------------------------------------------------------------------------------------------------+\n",
      "|Restaurants, Food, Bubble Tea, Coffee & Tea, Bakeries                                                                                                      |\n",
      "|Pubs, Restaurants, Italian, Bars, American (Traditional), Nightlife, Greek                                                                                 |\n",
      "|Ice Cream & Frozen Yogurt, Fast Food, Burgers, Restaurants, Food                                                                                           |\n",
      "|Vietnamese, Food, Restaurants, Food Trucks                                                                                                                 |\n",
      "|American (Traditional), Restaurants, Diners, Breakfast & Brunch                                                                                            |\n",
      "|Food, Delis, Italian, Bakeries, Restaurants                                                                                                                |\n",
      "|Sushi Bars, Restaurants, Japanese                                                                                                                          |\n",
      "|Korean, Restaurants                                                                                                                                        |\n",
      "|Steakhouses, Asian Fusion, Restaurants                                                                                                                     |\n",
      "|Restaurants, Italian                                                                                                                                       |\n",
      "|Restaurants, Japanese, Seafood                                                                                                                             |\n",
      "|Cocktail Bars, Bars, Italian, Nightlife, Restaurants                                                                                                       |\n",
      "|Pizza, Restaurants, Salad, Soup                                                                                                                            |\n",
      "|Pizza, Restaurants                                                                                                                                         |\n",
      "|Eatertainment, Arts & Entertainment, Brewpubs, American (Traditional), Bakeries, Breweries, Food, Restaurants                                              |\n",
      "|Restaurants, Burgers                                                                                                                                       |\n",
      "|Restaurants, Specialty Food, Steakhouses, Food, Italian, Pizza, Pasta Shops                                                                                |\n",
      "|Restaurants, Chinese                                                                                                                                       |\n",
      "|Coffee & Tea, Restaurants, Wine Bars, Bars, Nightlife, American (Traditional), Event Planning & Services, Food, Caterers, Breakfast & Brunch, Cafes, Diners|\n",
      "|Restaurants, American (New), Italian                                                                                                                       |\n",
      "+-----------------------------------------------------------------------------------------------------------------------------------------------------------+\n",
      "only showing top 20 rows\n",
      "\n"
     ]
    }
   ],
   "source": [
    "us_restaurants.select('categories').show(truncate=False)"
   ]
  },
  {
   "cell_type": "code",
   "execution_count": null,
   "metadata": {
    "colab": {
     "base_uri": "https://localhost:8080/"
    },
    "id": "ft2-4lc0psxZ",
    "outputId": "8f5614bf-a3db-4042-b81c-3eec83212012"
   },
   "outputs": [
    {
     "name": "stdout",
     "output_type": "stream",
     "text": [
      "+--------------------+--------------------+--------------------+--------------------+------------+--------------------+-------+-------------+--------------+--------------------+-----------+------------+-----+-----+----------+\n",
      "|             address|          attributes|         business_id|          categories|        city|               hours|is_open|     latitude|     longitude|                name|postal_code|review_count|stars|state|  category|\n",
      "+--------------------+--------------------+--------------------+--------------------+------------+--------------------+-------+-------------+--------------+--------------------+-----------+------------+-----+-----+----------+\n",
      "|         935 Race St|{null, null, u'no...|MTSW4McQd7CbVtyjq...|Restaurants, Food...|Philadelphia|{7:0-21:0, 7:0-20...|      1|   39.9555052|   -75.1555641|  St Honore Pastries|      19107|          80|  4.0|   PA|      null|\n",
      "|   8025 Mackenzie Rd|{null, null, u'fu...|k0hlBqXX-Bt0vf1op...|Pubs, Restaurants...|      Affton|                null|      0|   38.5651648|   -90.3210868|Tsevi's Pub And G...|      63123|          19|  3.0|   MO|  American|\n",
      "| 2312 Dickerson Pike|{null, null, u'no...|bBDDEgkFA1Otx9Lfe...|Ice Cream & Froze...|   Nashville|{6:0-16:0, 0:0-0:...|      1|   36.2081024|   -86.7681696|      Sonic Drive-In|      37207|          10|  1.5|   TN|      null|\n",
      "|                    |{null, null, 'non...|eEOYSgkmpB90uNA7l...|Vietnamese, Food,...|   Tampa Bay|{11:0-14:0, 11:0-...|      1|   27.9552692|   -82.4563199|Vietnamese Food T...|      33602|          10|  4.0|   FL|Vietnamese|\n",
      "|        8901 US 31 S|{null, null, 'non...|il_Ro8jwPlHresjw9...|American (Traditi...|Indianapolis|{6:0-22:0, 6:0-22...|      1|39.6371332838| -86.127217412|             Denny's|      46227|          28|  2.5|   IN|  American|\n",
      "|       2575 E Bay Dr|{null, null, u'no...|0bPLkL0QhhPO5kt1_...|Food, Delis, Ital...|       Largo|{10:0-20:0, 10:0-...|      0|   27.9161159|   -82.7604608|Zio's Italian Market|      33771|         100|  4.5|   FL|   Italian|\n",
      "|         205 Race St|{null, null, 'ful...|MUTTqe8uqyMdBl186...|Sushi Bars, Resta...|Philadelphia|{13:30-23:0, null...|      1|    39.953949|   -75.1432262|            Tuna Bar|      19106|         245|  4.0|   PA|  Japanese|\n",
      "|       1224 South St|{null, null, u'no...|ROeacJQwBeh05Rqg7...| Korean, Restaurants|Philadelphia|{11:30-20:30, 11:...|      1|    39.943223|    -75.162568|                 BAP|      19147|         205|  4.5|   PA|    Korean|\n",
      "|      6625 E 82nd St|{null, null, null...|kfNv-JZpuN6TVNSO6...|Steakhouses, Asia...|Indianapolis|{11:0-21:0, 11:0-...|      1|39.9043203184|   -86.0530799|     Hibachi Express|      46250|          20|  4.0|   IN|      null|\n",
      "|  5505 S Virginia St|{null, null, 'ful...|9OG5YkX1g2GReZM0A...|Restaurants, Italian|        Reno|{11:0-21:0, 11:0-...|      1|   39.4761165|  -119.7893392|Romano's Macaroni...|      89502|         339|  2.5|   NV|   Italian|\n",
      "|       215 1st Ave S|{null, null, u'fu...|tMkwHmWFUEXrC9Zdu...|Restaurants, Japa...|   Nashville|{16:0-23:0, null,...|      0|   36.1598858|   -86.7731974|  The Green Pheasant|      37201|         161|  4.0|   TN|  Japanese|\n",
      "|        767 S 9th St|{null, null, u'fu...|QdN72BWoyFypdGJhh...|Cocktail Bars, Ba...|Philadelphia|{12:0-2:0, 16:0-0...|      0|39.9398245705|-75.1574465632|             Bar One|      19147|          65|  4.0|   PA|   Italian|\n",
      "|        4105 Main St|{null, null, u'no...|Mjboz24M9NlBeiOJK...|Pizza, Restaurant...|Philadelphia|{17:0-0:30, null,...|      0|   40.0224662|    -75.218314|    DeSandro on Main|      19127|          41|  3.0|   PA|      null|\n",
      "|   10 Rittenhouse Pl|{null, null, u'no...|kV_Q1oqis8Qli8dUo...|  Pizza, Restaurants|     Ardmore|{11:0-1:0, 11:0-0...|      1|   40.0067071|    -75.289671|       Ardmore Pizza|      19003|         109|  3.5|   PA|      null|\n",
      "|  901 N Delaware Ave|{null, null, null...|aPNXGTDkf-4bjhyMB...|Eatertainment, Ar...|Philadelphia|{16:0-19:0, 0:0-0...|      1|   39.9625821|   -75.1356571|          Craft Hall|      19123|          65|  3.5|   PA|  American|\n",
      "|116 N Pottstown Pike|{null, null, u'fu...|2xVsWBNFwZOxIOdd9...|Restaurants, Burgers|       Exton|                null|      0|    40.029962|    -75.630607|Cheeseburger In P...|      19341|          20|  2.5|   PA|      null|\n",
      "|        312 Piasa St|{null, null, u'fu...|ljxNT9p0y7YMPx0fc...|Restaurants, Spec...|       Alton|{16:0-22:0, 0:0-0...|      1|    38.896563|-90.1862032987|Tony's Restaurant...|      62002|          94|  3.0|   IL|   Italian|\n",
      "|1625 W Valencia R...|{null, null, 'bee...|wghnIlMb_i5U46HMB...|Restaurants, Chinese|      Tucson|{11:0-21:0, 11:0-...|      0|   32.1323047|  -110.9999851|China Dragon Rest...|      85746|          23|  3.0|   AZ|   Chinese|\n",
      "|       2031 Broadway|{null, null, u'be...|lk9IwjZXqUMqqOhM7...|Coffee & Tea, Res...|   Nashville|{7:0-17:0, 7:0-17...|      0|   36.1483712|   -86.7988947|    Caviar & Bananas|      37203|         159|  3.5|   TN|  American|\n",
      "|10440 N Dale Mabr...|{null, null, u'fu...|uI9XODGY_2_ieTE6x...|Restaurants, Amer...|       Tampa|{11:30-22:0, 11:3...|      0|28.0462028173|-82.5050526736|         Roman Forum|      33618|          23|  4.0|   FL|  American|\n",
      "+--------------------+--------------------+--------------------+--------------------+------------+--------------------+-------+-------------+--------------+--------------------+-----------+------------+-----+-----+----------+\n",
      "only showing top 20 rows\n",
      "\n"
     ]
    }
   ],
   "source": [
    "# We will be focusing only on following categories and tag our restaurants based on these \n",
    "# Thus we are cleaning the data and adding a new column called category which defines the type of cusine the restaurant serves\n",
    "\n",
    "from pyspark.sql.functions import when, lit\n",
    "\n",
    "filtered_restaurants = us_restaurants.withColumn(\"category\", \\\n",
    "   when((business.categories.contains(\"American\")), lit(\"American\")) \\\n",
    "   .when((business.categories.contains(\"Mexican\")), lit(\"Mexican\")) \\\n",
    "   .when((business.categories.contains(\"Italian\")), lit(\"Italian\")) \\\n",
    "   .when((business.categories.contains(\"Japanese\")), lit(\"Japanese\")) \\\n",
    "   .when((business.categories.contains(\"Chinese\")), lit(\"Chinese\")) \\\n",
    "   .when((business.categories.contains(\"Thai\")), lit(\"Thai\")) \\\n",
    "   .when((business.categories.contains(\"Mediterranean\")), lit(\"Mediterranean\")) \\\n",
    "   .when((business.categories.contains(\"French\")), lit(\"French\")) \\\n",
    "   .when((business.categories.contains(\"Vietnamese\")), lit(\"Vietnamese\")) \\\n",
    "   .when((business.categories.contains(\"Greek\")), lit(\"Greek\")) \\\n",
    "   .when((business.categories.contains(\"Indian\")), lit(\"Indian\")) \\\n",
    "   .when((business.categories.contains(\"Korean\")), lit(\"Korean\")) \\\n",
    "   .when((business.categories.contains(\"Hawaiian\")), lit(\"Hawaiian\")) \\\n",
    "   .when((business.categories.contains(\"African\")), lit(\"African\")) \\\n",
    "   .when((business.categories.contains(\"Spanish\")), lit(\"Spanish\")) \\\n",
    "   .when((business.categories.contains(\"Middle_eastern\")), lit(\"Middle_eastern\")) \\\n",
    "     .otherwise(lit(None)) )\n",
    "\n",
    "filtered_restaurants.show()"
   ]
  },
  {
   "cell_type": "code",
   "execution_count": null,
   "metadata": {
    "colab": {
     "base_uri": "https://localhost:8080/"
    },
    "id": "5XgaKdCJtARi",
    "outputId": "369fc3c5-417f-49d5-faa6-73e522702dab"
   },
   "outputs": [
    {
     "name": "stdout",
     "output_type": "stream",
     "text": [
      "+--------------------+--------------------+--------------------+--------------------+-------------+--------------------+-------+-------------+--------------+--------------------+-----------+------------+-----+-----+----------+\n",
      "|             address|          attributes|         business_id|          categories|         city|               hours|is_open|     latitude|     longitude|                name|postal_code|review_count|stars|state|  category|\n",
      "+--------------------+--------------------+--------------------+--------------------+-------------+--------------------+-------+-------------+--------------+--------------------+-----------+------------+-----+-----+----------+\n",
      "|   8025 Mackenzie Rd|{null, null, u'fu...|k0hlBqXX-Bt0vf1op...|Pubs, Restaurants...|       Affton|                null|      0|   38.5651648|   -90.3210868|Tsevi's Pub And G...|      63123|          19|  3.0|   MO|  American|\n",
      "|                    |{null, null, 'non...|eEOYSgkmpB90uNA7l...|Vietnamese, Food,...|    Tampa Bay|{11:0-14:0, 11:0-...|      1|   27.9552692|   -82.4563199|Vietnamese Food T...|      33602|          10|  4.0|   FL|Vietnamese|\n",
      "|        8901 US 31 S|{null, null, 'non...|il_Ro8jwPlHresjw9...|American (Traditi...| Indianapolis|{6:0-22:0, 6:0-22...|      1|39.6371332838| -86.127217412|             Denny's|      46227|          28|  2.5|   IN|  American|\n",
      "|       2575 E Bay Dr|{null, null, u'no...|0bPLkL0QhhPO5kt1_...|Food, Delis, Ital...|        Largo|{10:0-20:0, 10:0-...|      0|   27.9161159|   -82.7604608|Zio's Italian Market|      33771|         100|  4.5|   FL|   Italian|\n",
      "|         205 Race St|{null, null, 'ful...|MUTTqe8uqyMdBl186...|Sushi Bars, Resta...| Philadelphia|{13:30-23:0, null...|      1|    39.953949|   -75.1432262|            Tuna Bar|      19106|         245|  4.0|   PA|  Japanese|\n",
      "|       1224 South St|{null, null, u'no...|ROeacJQwBeh05Rqg7...| Korean, Restaurants| Philadelphia|{11:30-20:30, 11:...|      1|    39.943223|    -75.162568|                 BAP|      19147|         205|  4.5|   PA|    Korean|\n",
      "|  5505 S Virginia St|{null, null, 'ful...|9OG5YkX1g2GReZM0A...|Restaurants, Italian|         Reno|{11:0-21:0, 11:0-...|      1|   39.4761165|  -119.7893392|Romano's Macaroni...|      89502|         339|  2.5|   NV|   Italian|\n",
      "|       215 1st Ave S|{null, null, u'fu...|tMkwHmWFUEXrC9Zdu...|Restaurants, Japa...|    Nashville|{16:0-23:0, null,...|      0|   36.1598858|   -86.7731974|  The Green Pheasant|      37201|         161|  4.0|   TN|  Japanese|\n",
      "|        767 S 9th St|{null, null, u'fu...|QdN72BWoyFypdGJhh...|Cocktail Bars, Ba...| Philadelphia|{12:0-2:0, 16:0-0...|      0|39.9398245705|-75.1574465632|             Bar One|      19147|          65|  4.0|   PA|   Italian|\n",
      "|  901 N Delaware Ave|{null, null, null...|aPNXGTDkf-4bjhyMB...|Eatertainment, Ar...| Philadelphia|{16:0-19:0, 0:0-0...|      1|   39.9625821|   -75.1356571|          Craft Hall|      19123|          65|  3.5|   PA|  American|\n",
      "|        312 Piasa St|{null, null, u'fu...|ljxNT9p0y7YMPx0fc...|Restaurants, Spec...|        Alton|{16:0-22:0, 0:0-0...|      1|    38.896563|-90.1862032987|Tony's Restaurant...|      62002|          94|  3.0|   IL|   Italian|\n",
      "|1625 W Valencia R...|{null, null, 'bee...|wghnIlMb_i5U46HMB...|Restaurants, Chinese|       Tucson|{11:0-21:0, 11:0-...|      0|   32.1323047|  -110.9999851|China Dragon Rest...|      85746|          23|  3.0|   AZ|   Chinese|\n",
      "|       2031 Broadway|{null, null, u'be...|lk9IwjZXqUMqqOhM7...|Coffee & Tea, Res...|    Nashville|{7:0-17:0, 7:0-17...|      0|   36.1483712|   -86.7988947|    Caviar & Bananas|      37203|         159|  3.5|   TN|  American|\n",
      "|10440 N Dale Mabr...|{null, null, u'fu...|uI9XODGY_2_ieTE6x...|Restaurants, Amer...|        Tampa|{11:30-22:0, 11:3...|      0|28.0462028173|-82.5050526736|         Roman Forum|      33618|          23|  4.0|   FL|  American|\n",
      "|      6880 E 82nd St|{null, null, 'ful...|seKihQKpGGnCeLuEL...|Sports Bars, Amer...| Indianapolis|{11:0-19:0, 0:0-0...|      1|   39.9062952|   -86.0474634|          Twin Peaks|      46250|         257|  3.5|   IN|  American|\n",
      "|        117 E Gay St|{null, null, u'fu...|qfWJmJ0g96eM_fWma...|Seafood, Restaura...| West Chester|                null|      0|   39.9615417|   -75.6036042|Doc Magrogan's Oy...|      19380|         114|  3.0|   PA|  American|\n",
      "|820 N Black Horse...|{null, null, u'fu...|8rb-3VYXE37IZix4y...|American (Traditi...| Williamstown|                null|      1|   39.6968014|   -74.9998214|Sharky's Sports B...|      08094|          29|  2.5|   NJ|  American|\n",
      "|3173 Cypress Ridg...|{null, null, u'fu...|pJfh3Ct8iL58NZa8t...|Burgers, Sports B...|Wesley Chapel|{11:30-23:30, 11:...|      1|28.1962523878|-82.3806153496|Top Shelf Sports ...|      33544|          95|  4.5|   FL|  American|\n",
      "|       1931 Park Ave|{null, null, u'fu...|1MeIwdbTnZOBFCKOr...|American (New), R...|  Saint Louis|{16:0-22:0, 11:0-...|      0|   38.6172724|   -90.2127841|Ricardo's Italian...|      63104|          80|  3.5|   MO|  American|\n",
      "|3322 Old Capitol Trl|{null, null, u'no...|Dy91wdWkwtI_qgjAI...|Mexican, Restaurants|   Wilmington|                null|      1|   39.7320886|   -75.6256733| Taqueria Los Primos|      19808|          23|  4.0|   DE|   Mexican|\n",
      "+--------------------+--------------------+--------------------+--------------------+-------------+--------------------+-------+-------------+--------------+--------------------+-----------+------------+-----+-----+----------+\n",
      "only showing top 20 rows\n",
      "\n"
     ]
    },
    {
     "data": {
      "text/plain": [
       "21734"
      ]
     },
     "execution_count": 11,
     "metadata": {},
     "output_type": "execute_result"
    }
   ],
   "source": [
    "#Filtering and dropping all rows which do not belong to any 1 of the selected category\n",
    "filtered_restaurants=filtered_restaurants.na.drop(subset=[\"category\"])\n",
    "filtered_restaurants.show()\n",
    "filtered_restaurants.count()"
   ]
  },
  {
   "cell_type": "code",
   "execution_count": null,
   "metadata": {
    "colab": {
     "base_uri": "https://localhost:8080/"
    },
    "id": "xBJBKJlTt6aI",
    "outputId": "ea39b376-b5b1-48b7-fd6e-4bf352bc537d"
   },
   "outputs": [
    {
     "name": "stdout",
     "output_type": "stream",
     "text": [
      "+-----------+-----+\n",
      "|business_id|count|\n",
      "+-----------+-----+\n",
      "+-----------+-----+\n",
      "\n"
     ]
    }
   ],
   "source": [
    "#checking if there are duplicates\n",
    "filtered_restaurants.groupby(['business_id']).count().where('count > 1').sort('count', ascending=False).show()"
   ]
  },
  {
   "cell_type": "markdown",
   "metadata": {
    "id": "52S3_0T7vn87"
   },
   "source": [
    "## Cleaning 200k_sample_reviews.json dataset"
   ]
  },
  {
   "cell_type": "code",
   "execution_count": null,
   "metadata": {
    "colab": {
     "base_uri": "https://localhost:8080/"
    },
    "id": "CjTisdMTwG1W",
    "outputId": "8c92ad5b-0f93-41ff-ed2b-c7369d97e8c1"
   },
   "outputs": [
    {
     "name": "stdout",
     "output_type": "stream",
     "text": [
      "root\n",
      " |-- business_id: string (nullable = true)\n",
      " |-- cool: long (nullable = true)\n",
      " |-- date: string (nullable = true)\n",
      " |-- funny: long (nullable = true)\n",
      " |-- review_id: string (nullable = true)\n",
      " |-- stars: double (nullable = true)\n",
      " |-- text: string (nullable = true)\n",
      " |-- useful: long (nullable = true)\n",
      " |-- user_id: string (nullable = true)\n",
      "\n",
      "+--------------------+----+-------------------+-----+--------------------+-----+--------------------+------+--------------------+\n",
      "|         business_id|cool|               date|funny|           review_id|stars|                text|useful|             user_id|\n",
      "+--------------------+----+-------------------+-----+--------------------+-----+--------------------+------+--------------------+\n",
      "|aQgBYZMH7yrkQVXDP...|   0|2020-12-01 13:45:24|    0|MgT7fYUteUYahmuJ6...|  5.0|As a local New Or...|     1|kvHFjFFU0bxwDPsvK...|\n",
      "|MfWGs8TvGI0vSvGsz...|   2|2020-07-29 21:10:01|    0|joNamNgy54u6O_KVi...|  5.0|This has been my ...|     3|dKXg01uJ_o68KxhiK...|\n",
      "|qesrSLuacbxAcLz0P...|   0|2019-04-21 02:39:56|    0|RgocR6DgEFF_IoafU...|  5.0|One of the best p...|     0|XPoD-yO1K8RjB_KAp...|\n",
      "|XHf-UmAKwYGKH35tY...|   0|2021-08-22 05:25:29|    0|BYtC6dp5F7dkbuQhp...|  1.0|Very disappointed...|     0|yKfKGUSmtzA27LGe4...|\n",
      "|VPEZwyog5oF82gzd9...|   1|2014-02-20 21:12:11|    2|WKw076mG1Z67B90mW...|  1.0|The atmosphere is...|     3|A0ZCDfL1l-CQrJzsK...|\n",
      "|BNMnyrNZNQNxQ7Qz1...|   0|2021-12-03 17:52:46|    0|heOB911doAAMEnOY_...|  5.0|The staff was ver...|     0|-xw55MHWGjWq_7yAK...|\n",
      "|mhj9KWNqKnEAb55-9...|   0|2016-02-20 03:07:07|    0|EbWiIl9yUitzgqP1j...|  5.0|This place is ama...|     0|xNHpxKhIh1DSI-V2U...|\n",
      "|ILUd8DXxX21FOgUmE...|   1|2014-12-28 06:46:46|    0|wLY6nNdyXdxnTpVbl...|  4.0|can't wait to get...|     0|bfHHPfcT2wyJ5tkVG...|\n",
      "|GXqzvoBm9iEZ_R6Ub...|   0|2014-12-07 21:14:12|    0|iU6I1iLKsGTPZZQ3X...|  4.0|I recommend a ste...|     0|OgR_OXLx2ZlPoBdZ7...|\n",
      "|RY3SwE3MjUCM_1c6z...|   0|2014-08-10 23:31:28|    0|VV2MU-hFyDdv1Zfm9...|  4.0|It's so good, I h...|     1|tRkpdyq9V4s3DXPum...|\n",
      "|eubQohkn22b4IytlV...|   0|2017-06-03 06:46:10|    0|cUNpqcuk0Mu99Xx91...|  1.0|I AM A VEGETARIAN...|     1|HIAN6JFFG2s0TXppb...|\n",
      "|mQO7LKZ1LHq0LLBO_...|   0|2015-02-20 03:35:51|    0|_2nor16ZlHbvs3gJz...|  3.0|I live in the far...|     0|2LEJXtK3noAJEuVkM...|\n",
      "|Oo9jD4_U2lXJR7J98...|   0|2018-08-19 03:01:26|    0|L8G0cQ7_hm8DL7Tc1...|  3.0|We ate here tonig...|     0|5_igwVXdvmfZu7Pja...|\n",
      "|vF_QwGltBpVesMMGc...|   1|2018-05-15 13:01:00|    0|AtUO12EY-YclR7PRB...|  4.0|I came here for M...|     4|jOZv94actrcZwlJdI...|\n",
      "|EME5hqQLjBD7e2cLr...|   0|2021-03-20 15:39:43|    0|JpbLLMx5mfALszx51...|  2.0|Quoted 10 minutes...|     1|7Mo8naImMWscj135w...|\n",
      "|_Q3XmBesceFqn9Dk-...|   0|2017-03-29 14:59:38|    0|Lon0DqOwtOGpyOg6U...|  3.0|I was dying to tr...|     0|49sNJ1cHVRW4ao2tA...|\n",
      "|AbFmB9JxE40z4w2bO...|   0|2019-07-15 02:40:57|    0|Kk08fhvtG3WR6Bg0u...|  2.0|Ate here with my ...|     1|xxkselrk-DzHiBrGH...|\n",
      "|wl7rFbvRUstwyB2vR...|   0|2015-03-31 07:09:00|    1|r7qBmxwazApiNE6zu...|  3.0|Very good food! W...|     0|UWRsCscQ-Bb1fwZwF...|\n",
      "|5pRcnE2FCNpPtQZlK...|   0|2019-09-02 13:51:12|    0|ivFuC0pXjcFX1vLFf...|  1.0|By far the worst ...|     0|0nk7s9L4HPAozNtW2...|\n",
      "|eyQL0pS7agcZtdKYQ...|   0|2019-09-23 01:20:48|    0|qZ4aSOY2da7NkgApd...|  5.0|Lots of breweries...|     1|m3MMUoZUZlmdgqOfY...|\n",
      "+--------------------+----+-------------------+-----+--------------------+-----+--------------------+------+--------------------+\n",
      "only showing top 20 rows\n",
      "\n"
     ]
    },
    {
     "data": {
      "text/plain": [
       "200000"
      ]
     },
     "execution_count": 14,
     "metadata": {},
     "output_type": "execute_result"
    }
   ],
   "source": [
    "reviews.printSchema()\n",
    "reviews.show()\n",
    "reviews.count()"
   ]
  },
  {
   "cell_type": "code",
   "execution_count": null,
   "metadata": {
    "colab": {
     "base_uri": "https://localhost:8080/"
    },
    "id": "BnNSw_Wt6cgY",
    "outputId": "14b2ae1e-8997-42f7-b802-ebaaff0ed6a9"
   },
   "outputs": [
    {
     "data": {
      "text/plain": [
       "200000"
      ]
     },
     "execution_count": 15,
     "metadata": {},
     "output_type": "execute_result"
    }
   ],
   "source": [
    "# Dropping any rows if it contains null value\n",
    "reviews=reviews.na.drop()\n",
    "reviews.count()"
   ]
  },
  {
   "cell_type": "code",
   "execution_count": null,
   "metadata": {
    "colab": {
     "base_uri": "https://localhost:8080/"
    },
    "id": "nL1quxyj6qzx",
    "outputId": "336715c5-e3a6-495e-ad47-76b64dce30e7"
   },
   "outputs": [
    {
     "name": "stdout",
     "output_type": "stream",
     "text": [
      "root\n",
      " |-- business_id: string (nullable = true)\n",
      " |-- cool: long (nullable = true)\n",
      " |-- date: string (nullable = true)\n",
      " |-- funny: long (nullable = true)\n",
      " |-- review_id: string (nullable = true)\n",
      " |-- stars: double (nullable = true)\n",
      " |-- text: string (nullable = true)\n",
      " |-- useful: long (nullable = true)\n",
      " |-- user_id: string (nullable = true)\n",
      " |-- address: string (nullable = true)\n",
      " |-- attributes: struct (nullable = true)\n",
      " |    |-- AcceptsInsurance: string (nullable = true)\n",
      " |    |-- AgesAllowed: string (nullable = true)\n",
      " |    |-- Alcohol: string (nullable = true)\n",
      " |    |-- Ambience: string (nullable = true)\n",
      " |    |-- BYOB: string (nullable = true)\n",
      " |    |-- BYOBCorkage: string (nullable = true)\n",
      " |    |-- BestNights: string (nullable = true)\n",
      " |    |-- BikeParking: string (nullable = true)\n",
      " |    |-- BusinessAcceptsBitcoin: string (nullable = true)\n",
      " |    |-- BusinessAcceptsCreditCards: string (nullable = true)\n",
      " |    |-- BusinessParking: string (nullable = true)\n",
      " |    |-- ByAppointmentOnly: string (nullable = true)\n",
      " |    |-- Caters: string (nullable = true)\n",
      " |    |-- CoatCheck: string (nullable = true)\n",
      " |    |-- Corkage: string (nullable = true)\n",
      " |    |-- DietaryRestrictions: string (nullable = true)\n",
      " |    |-- DogsAllowed: string (nullable = true)\n",
      " |    |-- DriveThru: string (nullable = true)\n",
      " |    |-- GoodForDancing: string (nullable = true)\n",
      " |    |-- GoodForKids: string (nullable = true)\n",
      " |    |-- GoodForMeal: string (nullable = true)\n",
      " |    |-- HairSpecializesIn: string (nullable = true)\n",
      " |    |-- HappyHour: string (nullable = true)\n",
      " |    |-- HasTV: string (nullable = true)\n",
      " |    |-- Music: string (nullable = true)\n",
      " |    |-- NoiseLevel: string (nullable = true)\n",
      " |    |-- Open24Hours: string (nullable = true)\n",
      " |    |-- OutdoorSeating: string (nullable = true)\n",
      " |    |-- RestaurantsAttire: string (nullable = true)\n",
      " |    |-- RestaurantsCounterService: string (nullable = true)\n",
      " |    |-- RestaurantsDelivery: string (nullable = true)\n",
      " |    |-- RestaurantsGoodForGroups: string (nullable = true)\n",
      " |    |-- RestaurantsPriceRange2: string (nullable = true)\n",
      " |    |-- RestaurantsReservations: string (nullable = true)\n",
      " |    |-- RestaurantsTableService: string (nullable = true)\n",
      " |    |-- RestaurantsTakeOut: string (nullable = true)\n",
      " |    |-- Smoking: string (nullable = true)\n",
      " |    |-- WheelchairAccessible: string (nullable = true)\n",
      " |    |-- WiFi: string (nullable = true)\n",
      " |-- business_id: string (nullable = true)\n",
      " |-- categories: string (nullable = true)\n",
      " |-- city: string (nullable = true)\n",
      " |-- hours: struct (nullable = true)\n",
      " |    |-- Friday: string (nullable = true)\n",
      " |    |-- Monday: string (nullable = true)\n",
      " |    |-- Saturday: string (nullable = true)\n",
      " |    |-- Sunday: string (nullable = true)\n",
      " |    |-- Thursday: string (nullable = true)\n",
      " |    |-- Tuesday: string (nullable = true)\n",
      " |    |-- Wednesday: string (nullable = true)\n",
      " |-- is_open: long (nullable = true)\n",
      " |-- latitude: double (nullable = true)\n",
      " |-- longitude: double (nullable = true)\n",
      " |-- name: string (nullable = true)\n",
      " |-- postal_code: string (nullable = true)\n",
      " |-- review_count: long (nullable = true)\n",
      " |-- avg_stars: double (nullable = true)\n",
      " |-- state: string (nullable = true)\n",
      " |-- category: string (nullable = true)\n",
      "\n"
     ]
    }
   ],
   "source": [
    "# Joining reviews and filtered_restaurants to create a new merged dataframe\n",
    "\n",
    "# Renaming stars column in filtered_restaurants to avg_stars before join\n",
    "filtered_restaurants = filtered_restaurants.withColumnRenamed(\"stars\",\"avg_stars\")\n",
    "\n",
    "restaurant_reviews = reviews.join(filtered_restaurants,reviews.business_id == filtered_restaurants.business_id,\"inner\")\n",
    "restaurant_reviews.printSchema()"
   ]
  },
  {
   "cell_type": "code",
   "execution_count": null,
   "metadata": {
    "colab": {
     "base_uri": "https://localhost:8080/"
    },
    "id": "n5AX3_jZDto2",
    "outputId": "7d92de3e-1149-4040-8b1d-2b1366b60c33"
   },
   "outputs": [
    {
     "data": {
      "text/plain": [
       "135151"
      ]
     },
     "execution_count": 17,
     "metadata": {},
     "output_type": "execute_result"
    }
   ],
   "source": [
    "restaurant_reviews.count()"
   ]
  },
  {
   "cell_type": "code",
   "execution_count": null,
   "metadata": {
    "colab": {
     "base_uri": "https://localhost:8080/"
    },
    "id": "eZNzCKF_84ed",
    "outputId": "9eb57d09-5725-407c-f077-ff4f4d4b60ca"
   },
   "outputs": [
    {
     "name": "stdout",
     "output_type": "stream",
     "text": [
      "+--------------------+----+-------------------+-----+--------------------+-----+--------------------+------+--------------------+--------------------+--------------------+--------------------+--------------------+---------------+--------------------+-------+-------------+--------------+--------------------+-----------+------------+---------+-----+--------+-------------+\n",
      "|         business_id|cool|               date|funny|           review_id|stars|                text|useful|             user_id|             address|          attributes|         business_id|          categories|           city|               hours|is_open|     latitude|     longitude|                name|postal_code|review_count|avg_stars|state|category|review_length|\n",
      "+--------------------+----+-------------------+-----+--------------------+-----+--------------------+------+--------------------+--------------------+--------------------+--------------------+--------------------+---------------+--------------------+-------+-------------+--------------+--------------------+-----------+------------+---------+-----+--------+-------------+\n",
      "|---kPU91CF4Lq2-Wl...|   0|2020-09-05 20:09:03|    0|gzXaxjjTnrJJuG_gq...|  5.0|Absolutely fantas...|     0|ey8tdgUgC2tFqw2df...|    4903 State Rd 54|{null, null, u'no...|---kPU91CF4Lq2-Wl...|Seafood, Restaura...|New Port Richey|{11:0-22:0, 0:0-0...|      1|   28.2172884|   -82.7333444|   Frankie's Raw Bar|      34652|          24|      4.5|   FL|American|           17|\n",
      "|--ZVrH2X2QXBFdCil...|   0|2015-04-08 20:11:02|    0|Bfv8fl0rYSv4S3lGA...|  5.0|I think this sand...|     1|9NFgiY_BLhODi93vb...| 1531 W Wynnewood Rd|{null, null, u'no...|--ZVrH2X2QXBFdCil...|American (Traditi...|        Ardmore|{11:0-21:0, 11:0-...|      0|   39.9972988|   -75.2922074|Chris's Sandwich ...|      19003|          32|      4.5|   PA|American|           65|\n",
      "|--ZVrH2X2QXBFdCil...|   3|2008-03-24 21:54:32|    2|tmmqnClYkkMMtAFGU...|  5.0|Youve all heard t...|     7|HZRfI9weev2Vr_w0j...| 1531 W Wynnewood Rd|{null, null, u'no...|--ZVrH2X2QXBFdCil...|American (Traditi...|        Ardmore|{11:0-21:0, 11:0-...|      0|   39.9972988|   -75.2922074|Chris's Sandwich ...|      19003|          32|      4.5|   PA|American|          203|\n",
      "|--ZVrH2X2QXBFdCil...|   0|2015-01-09 21:57:01|    0|JxF41Y9WHQJINIhff...|  5.0|Perfect hoagies a...|     1|KfDyITIWtA8h3dr_4...| 1531 W Wynnewood Rd|{null, null, u'no...|--ZVrH2X2QXBFdCil...|American (Traditi...|        Ardmore|{11:0-21:0, 11:0-...|      0|   39.9972988|   -75.2922074|Chris's Sandwich ...|      19003|          32|      4.5|   PA|American|           84|\n",
      "|--ZVrH2X2QXBFdCil...|   0|2017-05-06 21:54:36|    0|gDSj8le0w_iOwXQuH...|  4.0|So this was just ...|     2|GoeHBmVr2bb395Zb7...| 1531 W Wynnewood Rd|{null, null, u'no...|--ZVrH2X2QXBFdCil...|American (Traditi...|        Ardmore|{11:0-21:0, 11:0-...|      0|   39.9972988|   -75.2922074|Chris's Sandwich ...|      19003|          32|      4.5|   PA|American|           85|\n",
      "|-0EdehHjIQc0DtYU8...|   0|2017-02-02 03:16:17|    0|m7uNBa09CY7CUIjoh...|  5.0|I live 2 miles aw...|     0|siWSFOHE8HFcwazRQ...|7040 Land O Lakes...|{null, null, null...|-0EdehHjIQc0DtYU8...|Restaurants, Chinese|   Land O Lakes|                null|      1|   28.2601545|   -82.4748164|New Tung Tung Two...|      34638|          35|      3.0|   FL| Chinese|           81|\n",
      "|-0FX23yAacC4bbLaG...|   0|2021-10-06 18:51:00|    0|RGyU8xZE8c7zVhC2M...|  5.0|We had the most f...|     1|c88Hk7eXBNJrGOB_4...|552 Washington Cr...|{null, null, u'fu...|-0FX23yAacC4bbLaG...|American (Traditi...|        Newtown|{12:0-21:0, null,...|      1|40.2560822087|-74.9169758062|The Grey Stone Fi...|      18940|         155|      3.5|   PA|American|          157|\n",
      "|-0FX23yAacC4bbLaG...|   0|2019-11-20 02:50:03|    0|b8CwwQzWYT8dJsKQo...|  3.0|Easter Brunch was...|     0|w1xYVM1T43UA5hina...|552 Washington Cr...|{null, null, u'fu...|-0FX23yAacC4bbLaG...|American (Traditi...|        Newtown|{12:0-21:0, null,...|      1|40.2560822087|-74.9169758062|The Grey Stone Fi...|      18940|         155|      3.5|   PA|American|           78|\n",
      "|-0FX23yAacC4bbLaG...|   0|2021-10-16 12:12:49|    0|siK1UZ78T-yHrL52S...|  5.0|On Oct 13 Greysto...|     0|2tNXAqKNoKqX_sMkA...|552 Washington Cr...|{null, null, u'fu...|-0FX23yAacC4bbLaG...|American (Traditi...|        Newtown|{12:0-21:0, null,...|      1|40.2560822087|-74.9169758062|The Grey Stone Fi...|      18940|         155|      3.5|   PA|American|           39|\n",
      "|-0TffRSXXIlBYVbb5...|   0|2013-08-03 13:56:04|    0|UHJEcS_6Kf19h4QYO...|  5.0|This is a fabulou...|     5|Mj8mM0pGHEsTLn5uu...|   205 South 13th St|{null, null, u'fu...|-0TffRSXXIlBYVbb5...|Cocktail Bars, Fo...|   Philadelphia|{16:0-23:0, 0:0-0...|      1|39.9485078263|-75.1619688173|IndeBlue Modern I...|      19107|        1097|      4.5|   PA|  Indian|          111|\n",
      "|-0TffRSXXIlBYVbb5...|   0|2016-11-17 00:58:40|    0|n9GwX7OvEu5KTm7-A...|  4.0|Expensive Had a f...|     0|eofDWMecLSrGwIZs1...|   205 South 13th St|{null, null, u'fu...|-0TffRSXXIlBYVbb5...|Cocktail Bars, Fo...|   Philadelphia|{16:0-23:0, 0:0-0...|      1|39.9485078263|-75.1619688173|IndeBlue Modern I...|      19107|        1097|      4.5|   PA|  Indian|           46|\n",
      "|-0TffRSXXIlBYVbb5...|   0|2019-04-08 22:41:42|    0|0YOZDSXPP-5HBlpBe...|  5.0|I have eaten here...|     1|Nfddrl4wLxFW1c7EY...|   205 South 13th St|{null, null, u'fu...|-0TffRSXXIlBYVbb5...|Cocktail Bars, Fo...|   Philadelphia|{16:0-23:0, 0:0-0...|      1|39.9485078263|-75.1619688173|IndeBlue Modern I...|      19107|        1097|      4.5|   PA|  Indian|           79|\n",
      "|-0TffRSXXIlBYVbb5...|   2|2013-07-30 06:00:55|    0|Oc8yCatoIT2dp0MXT...|  5.0|We ate here the o...|     5|a-8ZuiQk4EsWgebrG...|   205 South 13th St|{null, null, u'fu...|-0TffRSXXIlBYVbb5...|Cocktail Bars, Fo...|   Philadelphia|{16:0-23:0, 0:0-0...|      1|39.9485078263|-75.1619688173|IndeBlue Modern I...|      19107|        1097|      4.5|   PA|  Indian|          380|\n",
      "|-0TffRSXXIlBYVbb5...|   1|2017-10-09 00:58:21|    0|axZ7DB3zVV1LdV8tb...|  5.0|We celebrated our...|     2|2yaDqd8M6ESBu_hbc...|   205 South 13th St|{null, null, u'fu...|-0TffRSXXIlBYVbb5...|Cocktail Bars, Fo...|   Philadelphia|{16:0-23:0, 0:0-0...|      1|39.9485078263|-75.1619688173|IndeBlue Modern I...|      19107|        1097|      4.5|   PA|  Indian|           74|\n",
      "|-0TffRSXXIlBYVbb5...|   0|2015-12-06 23:38:04|    0|KxZHv30mO6kuFoM7B...|  3.0|Loved the drumsti...|     0|wy-J42ixU0u9vMC6B...|   205 South 13th St|{null, null, u'fu...|-0TffRSXXIlBYVbb5...|Cocktail Bars, Fo...|   Philadelphia|{16:0-23:0, 0:0-0...|      1|39.9485078263|-75.1619688173|IndeBlue Modern I...|      19107|        1097|      4.5|   PA|  Indian|           30|\n",
      "|-0TffRSXXIlBYVbb5...|   0|2017-06-07 21:48:30|    0|vbfXHX0mQDQFWm-w6...|  5.0|This is a very co...|     1|oYCbUgZm76GdzTMbH...|   205 South 13th St|{null, null, u'fu...|-0TffRSXXIlBYVbb5...|Cocktail Bars, Fo...|   Philadelphia|{16:0-23:0, 0:0-0...|      1|39.9485078263|-75.1619688173|IndeBlue Modern I...|      19107|        1097|      4.5|   PA|  Indian|          175|\n",
      "|-0TffRSXXIlBYVbb5...|   1|2018-02-14 14:06:16|    1|7GOZrQI-5gT_IJUmT...|  3.0|Restaurant Week R...|     2|8i1JQUKgH-3hcFfnp...|   205 South 13th St|{null, null, u'fu...|-0TffRSXXIlBYVbb5...|Cocktail Bars, Fo...|   Philadelphia|{16:0-23:0, 0:0-0...|      1|39.9485078263|-75.1619688173|IndeBlue Modern I...|      19107|        1097|      4.5|   PA|  Indian|          198|\n",
      "|-0TffRSXXIlBYVbb5...|   0|2014-06-16 17:19:16|    0|eVrRCJxi7EA6Mz-Xp...|  5.0|Came here for Sat...|     1|_Snvv_nGfpctBG4OO...|   205 South 13th St|{null, null, u'fu...|-0TffRSXXIlBYVbb5...|Cocktail Bars, Fo...|   Philadelphia|{16:0-23:0, 0:0-0...|      1|39.9485078263|-75.1619688173|IndeBlue Modern I...|      19107|        1097|      4.5|   PA|  Indian|          239|\n",
      "|-0TffRSXXIlBYVbb5...|   2|2015-08-10 22:51:13|    0|VoHA31ER_gPEsqGj0...|  5.0|Excellent Indian ...|     2|X502HW78qhp_t8o4p...|   205 South 13th St|{null, null, u'fu...|-0TffRSXXIlBYVbb5...|Cocktail Bars, Fo...|   Philadelphia|{16:0-23:0, 0:0-0...|      1|39.9485078263|-75.1619688173|IndeBlue Modern I...|      19107|        1097|      4.5|   PA|  Indian|           16|\n",
      "|-0TffRSXXIlBYVbb5...|   0|2021-02-04 17:19:00|    0|l_wh_MtBeY4WMyoNK...|  5.0|I wish I could ea...|     1|vFdWLzeX73xetI7M7...|   205 South 13th St|{null, null, u'fu...|-0TffRSXXIlBYVbb5...|Cocktail Bars, Fo...|   Philadelphia|{16:0-23:0, 0:0-0...|      1|39.9485078263|-75.1619688173|IndeBlue Modern I...|      19107|        1097|      4.5|   PA|  Indian|           57|\n",
      "+--------------------+----+-------------------+-----+--------------------+-----+--------------------+------+--------------------+--------------------+--------------------+--------------------+--------------------+---------------+--------------------+-------+-------------+--------------+--------------------+-----------+------------+---------+-----+--------+-------------+\n",
      "only showing top 20 rows\n",
      "\n"
     ]
    }
   ],
   "source": [
    "# Removing special chaarcter from review text \n",
    "from pyspark.sql import functions as f\n",
    "restaurant_reviews = restaurant_reviews.withColumn(\"text\", f.regexp_replace(restaurant_reviews[\"text\"], '[^A-Za-z0-9_\\\\s+]', \"\"))\n",
    "restaurant_reviews = restaurant_reviews.withColumn('review_length', f.size(f.split(f.col('text'), ' ')))\n",
    "restaurant_reviews.show()"
   ]
  },
  {
   "cell_type": "code",
   "execution_count": null,
   "metadata": {
    "colab": {
     "base_uri": "https://localhost:8080/"
    },
    "id": "uzkMhUiuBEsg",
    "outputId": "7e354b88-53e8-445a-cb8e-7cfb39fd4a8d"
   },
   "outputs": [
    {
     "name": "stdout",
     "output_type": "stream",
     "text": [
      "+--------------------+----+-------------------+-----+--------------------+-----+--------------------+------+--------------------+--------------------+--------------------+--------------------+--------------------+---------------+--------------------+-------+-------------+--------------+--------------------+-----------+------------+---------+-----+--------+-------------+--------+\n",
      "|         business_id|cool|               date|funny|           review_id|stars|                text|useful|             user_id|             address|          attributes|         business_id|          categories|           city|               hours|is_open|     latitude|     longitude|                name|postal_code|review_count|avg_stars|state|category|review_length|  labels|\n",
      "+--------------------+----+-------------------+-----+--------------------+-----+--------------------+------+--------------------+--------------------+--------------------+--------------------+--------------------+---------------+--------------------+-------+-------------+--------------+--------------------+-----------+------------+---------+-----+--------+-------------+--------+\n",
      "|---kPU91CF4Lq2-Wl...|   0|2020-09-05 20:09:03|    0|gzXaxjjTnrJJuG_gq...|  5.0|Absolutely fantas...|     0|ey8tdgUgC2tFqw2df...|    4903 State Rd 54|{null, null, u'no...|---kPU91CF4Lq2-Wl...|Seafood, Restaura...|New Port Richey|{11:0-22:0, 0:0-0...|      1|   28.2172884|   -82.7333444|   Frankie's Raw Bar|      34652|          24|      4.5|   FL|American|           17|positive|\n",
      "|--ZVrH2X2QXBFdCil...|   0|2015-04-08 20:11:02|    0|Bfv8fl0rYSv4S3lGA...|  5.0|I think this sand...|     1|9NFgiY_BLhODi93vb...| 1531 W Wynnewood Rd|{null, null, u'no...|--ZVrH2X2QXBFdCil...|American (Traditi...|        Ardmore|{11:0-21:0, 11:0-...|      0|   39.9972988|   -75.2922074|Chris's Sandwich ...|      19003|          32|      4.5|   PA|American|           65|positive|\n",
      "|--ZVrH2X2QXBFdCil...|   3|2008-03-24 21:54:32|    2|tmmqnClYkkMMtAFGU...|  5.0|Youve all heard t...|     7|HZRfI9weev2Vr_w0j...| 1531 W Wynnewood Rd|{null, null, u'no...|--ZVrH2X2QXBFdCil...|American (Traditi...|        Ardmore|{11:0-21:0, 11:0-...|      0|   39.9972988|   -75.2922074|Chris's Sandwich ...|      19003|          32|      4.5|   PA|American|          203|positive|\n",
      "|--ZVrH2X2QXBFdCil...|   0|2015-01-09 21:57:01|    0|JxF41Y9WHQJINIhff...|  5.0|Perfect hoagies a...|     1|KfDyITIWtA8h3dr_4...| 1531 W Wynnewood Rd|{null, null, u'no...|--ZVrH2X2QXBFdCil...|American (Traditi...|        Ardmore|{11:0-21:0, 11:0-...|      0|   39.9972988|   -75.2922074|Chris's Sandwich ...|      19003|          32|      4.5|   PA|American|           84|positive|\n",
      "|--ZVrH2X2QXBFdCil...|   0|2017-05-06 21:54:36|    0|gDSj8le0w_iOwXQuH...|  4.0|So this was just ...|     2|GoeHBmVr2bb395Zb7...| 1531 W Wynnewood Rd|{null, null, u'no...|--ZVrH2X2QXBFdCil...|American (Traditi...|        Ardmore|{11:0-21:0, 11:0-...|      0|   39.9972988|   -75.2922074|Chris's Sandwich ...|      19003|          32|      4.5|   PA|American|           85|positive|\n",
      "|-0EdehHjIQc0DtYU8...|   0|2017-02-02 03:16:17|    0|m7uNBa09CY7CUIjoh...|  5.0|I live 2 miles aw...|     0|siWSFOHE8HFcwazRQ...|7040 Land O Lakes...|{null, null, null...|-0EdehHjIQc0DtYU8...|Restaurants, Chinese|   Land O Lakes|                null|      1|   28.2601545|   -82.4748164|New Tung Tung Two...|      34638|          35|      3.0|   FL| Chinese|           81|positive|\n",
      "|-0FX23yAacC4bbLaG...|   0|2021-10-06 18:51:00|    0|RGyU8xZE8c7zVhC2M...|  5.0|We had the most f...|     1|c88Hk7eXBNJrGOB_4...|552 Washington Cr...|{null, null, u'fu...|-0FX23yAacC4bbLaG...|American (Traditi...|        Newtown|{12:0-21:0, null,...|      1|40.2560822087|-74.9169758062|The Grey Stone Fi...|      18940|         155|      3.5|   PA|American|          157|positive|\n",
      "|-0FX23yAacC4bbLaG...|   0|2021-10-16 12:12:49|    0|siK1UZ78T-yHrL52S...|  5.0|On Oct 13 Greysto...|     0|2tNXAqKNoKqX_sMkA...|552 Washington Cr...|{null, null, u'fu...|-0FX23yAacC4bbLaG...|American (Traditi...|        Newtown|{12:0-21:0, null,...|      1|40.2560822087|-74.9169758062|The Grey Stone Fi...|      18940|         155|      3.5|   PA|American|           39|positive|\n",
      "|-0TffRSXXIlBYVbb5...|   0|2013-08-03 13:56:04|    0|UHJEcS_6Kf19h4QYO...|  5.0|This is a fabulou...|     5|Mj8mM0pGHEsTLn5uu...|   205 South 13th St|{null, null, u'fu...|-0TffRSXXIlBYVbb5...|Cocktail Bars, Fo...|   Philadelphia|{16:0-23:0, 0:0-0...|      1|39.9485078263|-75.1619688173|IndeBlue Modern I...|      19107|        1097|      4.5|   PA|  Indian|          111|positive|\n",
      "|-0TffRSXXIlBYVbb5...|   0|2016-11-17 00:58:40|    0|n9GwX7OvEu5KTm7-A...|  4.0|Expensive Had a f...|     0|eofDWMecLSrGwIZs1...|   205 South 13th St|{null, null, u'fu...|-0TffRSXXIlBYVbb5...|Cocktail Bars, Fo...|   Philadelphia|{16:0-23:0, 0:0-0...|      1|39.9485078263|-75.1619688173|IndeBlue Modern I...|      19107|        1097|      4.5|   PA|  Indian|           46|positive|\n",
      "|-0TffRSXXIlBYVbb5...|   0|2019-04-08 22:41:42|    0|0YOZDSXPP-5HBlpBe...|  5.0|I have eaten here...|     1|Nfddrl4wLxFW1c7EY...|   205 South 13th St|{null, null, u'fu...|-0TffRSXXIlBYVbb5...|Cocktail Bars, Fo...|   Philadelphia|{16:0-23:0, 0:0-0...|      1|39.9485078263|-75.1619688173|IndeBlue Modern I...|      19107|        1097|      4.5|   PA|  Indian|           79|positive|\n",
      "|-0TffRSXXIlBYVbb5...|   2|2013-07-30 06:00:55|    0|Oc8yCatoIT2dp0MXT...|  5.0|We ate here the o...|     5|a-8ZuiQk4EsWgebrG...|   205 South 13th St|{null, null, u'fu...|-0TffRSXXIlBYVbb5...|Cocktail Bars, Fo...|   Philadelphia|{16:0-23:0, 0:0-0...|      1|39.9485078263|-75.1619688173|IndeBlue Modern I...|      19107|        1097|      4.5|   PA|  Indian|          380|positive|\n",
      "|-0TffRSXXIlBYVbb5...|   1|2017-10-09 00:58:21|    0|axZ7DB3zVV1LdV8tb...|  5.0|We celebrated our...|     2|2yaDqd8M6ESBu_hbc...|   205 South 13th St|{null, null, u'fu...|-0TffRSXXIlBYVbb5...|Cocktail Bars, Fo...|   Philadelphia|{16:0-23:0, 0:0-0...|      1|39.9485078263|-75.1619688173|IndeBlue Modern I...|      19107|        1097|      4.5|   PA|  Indian|           74|positive|\n",
      "|-0TffRSXXIlBYVbb5...|   0|2017-06-07 21:48:30|    0|vbfXHX0mQDQFWm-w6...|  5.0|This is a very co...|     1|oYCbUgZm76GdzTMbH...|   205 South 13th St|{null, null, u'fu...|-0TffRSXXIlBYVbb5...|Cocktail Bars, Fo...|   Philadelphia|{16:0-23:0, 0:0-0...|      1|39.9485078263|-75.1619688173|IndeBlue Modern I...|      19107|        1097|      4.5|   PA|  Indian|          175|positive|\n",
      "|-0TffRSXXIlBYVbb5...|   0|2014-06-16 17:19:16|    0|eVrRCJxi7EA6Mz-Xp...|  5.0|Came here for Sat...|     1|_Snvv_nGfpctBG4OO...|   205 South 13th St|{null, null, u'fu...|-0TffRSXXIlBYVbb5...|Cocktail Bars, Fo...|   Philadelphia|{16:0-23:0, 0:0-0...|      1|39.9485078263|-75.1619688173|IndeBlue Modern I...|      19107|        1097|      4.5|   PA|  Indian|          239|positive|\n",
      "|-0TffRSXXIlBYVbb5...|   2|2015-08-10 22:51:13|    0|VoHA31ER_gPEsqGj0...|  5.0|Excellent Indian ...|     2|X502HW78qhp_t8o4p...|   205 South 13th St|{null, null, u'fu...|-0TffRSXXIlBYVbb5...|Cocktail Bars, Fo...|   Philadelphia|{16:0-23:0, 0:0-0...|      1|39.9485078263|-75.1619688173|IndeBlue Modern I...|      19107|        1097|      4.5|   PA|  Indian|           16|positive|\n",
      "|-0TffRSXXIlBYVbb5...|   0|2021-02-04 17:19:00|    0|l_wh_MtBeY4WMyoNK...|  5.0|I wish I could ea...|     1|vFdWLzeX73xetI7M7...|   205 South 13th St|{null, null, u'fu...|-0TffRSXXIlBYVbb5...|Cocktail Bars, Fo...|   Philadelphia|{16:0-23:0, 0:0-0...|      1|39.9485078263|-75.1619688173|IndeBlue Modern I...|      19107|        1097|      4.5|   PA|  Indian|           57|positive|\n",
      "|-0TffRSXXIlBYVbb5...|   2|2014-12-04 23:56:08|    0|7nFiUZ3XntWlmL_cu...|  5.0|Great place for a...|     2|nwuyUKjZlXukv0d0j...|   205 South 13th St|{null, null, u'fu...|-0TffRSXXIlBYVbb5...|Cocktail Bars, Fo...|   Philadelphia|{16:0-23:0, 0:0-0...|      1|39.9485078263|-75.1619688173|IndeBlue Modern I...|      19107|        1097|      4.5|   PA|  Indian|          389|positive|\n",
      "|-0TffRSXXIlBYVbb5...|   1|2017-01-03 20:46:56|    0|cpZt0nvNdXOaQeMpD...|  5.0|Friends and I ent...|     2|IH0ToaZ8hJXO2pVie...|   205 South 13th St|{null, null, u'fu...|-0TffRSXXIlBYVbb5...|Cocktail Bars, Fo...|   Philadelphia|{16:0-23:0, 0:0-0...|      1|39.9485078263|-75.1619688173|IndeBlue Modern I...|      19107|        1097|      4.5|   PA|  Indian|          177|positive|\n",
      "|-0TffRSXXIlBYVbb5...|   0|2018-08-25 12:34:18|    0|KcTGXdkbPhrSvW5eH...|  4.0|Really good moder...|     2|MmUvhVk6gKzDEx91H...|   205 South 13th St|{null, null, u'fu...|-0TffRSXXIlBYVbb5...|Cocktail Bars, Fo...|   Philadelphia|{16:0-23:0, 0:0-0...|      1|39.9485078263|-75.1619688173|IndeBlue Modern I...|      19107|        1097|      4.5|   PA|  Indian|           60|positive|\n",
      "+--------------------+----+-------------------+-----+--------------------+-----+--------------------+------+--------------------+--------------------+--------------------+--------------------+--------------------+---------------+--------------------+-------+-------------+--------------+--------------------+-----------+------------+---------+-----+--------+-------------+--------+\n",
      "only showing top 20 rows\n",
      "\n"
     ]
    },
    {
     "data": {
      "text/plain": [
       "119324"
      ]
     },
     "execution_count": 19,
     "metadata": {},
     "output_type": "execute_result"
    }
   ],
   "source": [
    "# label reviews as positive or negative\n",
    "# marking neutral reviews as None to be dropped later\n",
    "\n",
    "restaurant_reviews = restaurant_reviews.withColumn(\"labels\", \\\n",
    "   when((restaurant_reviews.stars >= 4 ), lit(\"positive\")) \\\n",
    "   .when((restaurant_reviews.stars < 3 ), lit(\"negative\")) \\\n",
    "     .otherwise(lit(None)) )\n",
    "\n",
    "restaurant_reviews=restaurant_reviews.na.drop(subset=[\"labels\"])\n",
    "restaurant_reviews.show()\n",
    "restaurant_reviews.count()"
   ]
  },
  {
   "cell_type": "code",
   "execution_count": null,
   "metadata": {
    "id": "HfqkQ-0cKr_T"
   },
   "outputs": [],
   "source": [
    "import pandas as pd\n",
    "import seaborn as sns\n",
    "import requests, re\n",
    "import pandas as pd\n",
    "import seaborn as sns\n",
    "import nltk\n",
    "import string, itertools\n",
    "from collections import Counter, defaultdict\n",
    "from nltk.text import Text\n",
    "from nltk.probability import FreqDist\n",
    "from nltk.tokenize import word_tokenize, sent_tokenize, regexp_tokenize\n",
    "from nltk.corpus import stopwords\n",
    "from nltk.stem import PorterStemmer, WordNetLemmatizer\n",
    "from gensim.corpora.dictionary import Dictionary\n",
    "from gensim.models.tfidfmodel import TfidfModel\n",
    "from sklearn.cluster import KMeans\n",
    "from wordcloud import WordCloud\n",
    "from matplotlib import pyplot as plt"
   ]
  },
  {
   "cell_type": "markdown",
   "metadata": {
    "id": "J8IgJ0eHLrCc"
   },
   "source": [
    "# Exploratory Data Analysis\n",
    "## Restaurants Distribution\n",
    "### Distribution of restaurants in each category"
   ]
  },
  {
   "cell_type": "code",
   "execution_count": null,
   "metadata": {
    "colab": {
     "base_uri": "https://localhost:8080/",
     "height": 1000
    },
    "id": "DuT4-yoXKfgk",
    "outputId": "24a62761-cc74-444a-95a4-bf447809f92f"
   },
   "outputs": [
    {
     "name": "stdout",
     "output_type": "stream",
     "text": [
      "+----+-------------------+-----+--------------------+-----+--------------------+------+--------------------+--------------------+--------------------+--------------------+--------------------+---------------+--------------------+-------+-------------+--------------+--------------------+-----------+------------+---------+-----+--------+-------------+--------+\n",
      "|cool|               date|funny|           review_id|stars|                text|useful|             user_id|             address|          attributes|         business_id|          categories|           city|               hours|is_open|     latitude|     longitude|                name|postal_code|review_count|avg_stars|state|category|review_length|  labels|\n",
      "+----+-------------------+-----+--------------------+-----+--------------------+------+--------------------+--------------------+--------------------+--------------------+--------------------+---------------+--------------------+-------+-------------+--------------+--------------------+-----------+------------+---------+-----+--------+-------------+--------+\n",
      "|   0|2020-09-05 20:09:03|    0|gzXaxjjTnrJJuG_gq...|  5.0|Absolutely fantas...|     0|ey8tdgUgC2tFqw2df...|    4903 State Rd 54|{null, null, u'no...|---kPU91CF4Lq2-Wl...|Seafood, Restaura...|New Port Richey|{11:0-22:0, 0:0-0...|      1|   28.2172884|   -82.7333444|   Frankie's Raw Bar|      34652|          24|      4.5|   FL|American|           17|positive|\n",
      "|   0|2015-04-08 20:11:02|    0|Bfv8fl0rYSv4S3lGA...|  5.0|I think this sand...|     1|9NFgiY_BLhODi93vb...| 1531 W Wynnewood Rd|{null, null, u'no...|--ZVrH2X2QXBFdCil...|American (Traditi...|        Ardmore|{11:0-21:0, 11:0-...|      0|   39.9972988|   -75.2922074|Chris's Sandwich ...|      19003|          32|      4.5|   PA|American|           65|positive|\n",
      "|   3|2008-03-24 21:54:32|    2|tmmqnClYkkMMtAFGU...|  5.0|Youve all heard t...|     7|HZRfI9weev2Vr_w0j...| 1531 W Wynnewood Rd|{null, null, u'no...|--ZVrH2X2QXBFdCil...|American (Traditi...|        Ardmore|{11:0-21:0, 11:0-...|      0|   39.9972988|   -75.2922074|Chris's Sandwich ...|      19003|          32|      4.5|   PA|American|          203|positive|\n",
      "|   0|2015-01-09 21:57:01|    0|JxF41Y9WHQJINIhff...|  5.0|Perfect hoagies a...|     1|KfDyITIWtA8h3dr_4...| 1531 W Wynnewood Rd|{null, null, u'no...|--ZVrH2X2QXBFdCil...|American (Traditi...|        Ardmore|{11:0-21:0, 11:0-...|      0|   39.9972988|   -75.2922074|Chris's Sandwich ...|      19003|          32|      4.5|   PA|American|           84|positive|\n",
      "|   0|2017-05-06 21:54:36|    0|gDSj8le0w_iOwXQuH...|  4.0|So this was just ...|     2|GoeHBmVr2bb395Zb7...| 1531 W Wynnewood Rd|{null, null, u'no...|--ZVrH2X2QXBFdCil...|American (Traditi...|        Ardmore|{11:0-21:0, 11:0-...|      0|   39.9972988|   -75.2922074|Chris's Sandwich ...|      19003|          32|      4.5|   PA|American|           85|positive|\n",
      "|   0|2017-02-02 03:16:17|    0|m7uNBa09CY7CUIjoh...|  5.0|I live 2 miles aw...|     0|siWSFOHE8HFcwazRQ...|7040 Land O Lakes...|{null, null, null...|-0EdehHjIQc0DtYU8...|Restaurants, Chinese|   Land O Lakes|                null|      1|   28.2601545|   -82.4748164|New Tung Tung Two...|      34638|          35|      3.0|   FL| Chinese|           81|positive|\n",
      "|   0|2021-10-06 18:51:00|    0|RGyU8xZE8c7zVhC2M...|  5.0|We had the most f...|     1|c88Hk7eXBNJrGOB_4...|552 Washington Cr...|{null, null, u'fu...|-0FX23yAacC4bbLaG...|American (Traditi...|        Newtown|{12:0-21:0, null,...|      1|40.2560822087|-74.9169758062|The Grey Stone Fi...|      18940|         155|      3.5|   PA|American|          157|positive|\n",
      "|   0|2021-10-16 12:12:49|    0|siK1UZ78T-yHrL52S...|  5.0|On Oct 13 Greysto...|     0|2tNXAqKNoKqX_sMkA...|552 Washington Cr...|{null, null, u'fu...|-0FX23yAacC4bbLaG...|American (Traditi...|        Newtown|{12:0-21:0, null,...|      1|40.2560822087|-74.9169758062|The Grey Stone Fi...|      18940|         155|      3.5|   PA|American|           39|positive|\n",
      "|   0|2013-08-03 13:56:04|    0|UHJEcS_6Kf19h4QYO...|  5.0|This is a fabulou...|     5|Mj8mM0pGHEsTLn5uu...|   205 South 13th St|{null, null, u'fu...|-0TffRSXXIlBYVbb5...|Cocktail Bars, Fo...|   Philadelphia|{16:0-23:0, 0:0-0...|      1|39.9485078263|-75.1619688173|IndeBlue Modern I...|      19107|        1097|      4.5|   PA|  Indian|          111|positive|\n",
      "|   0|2016-11-17 00:58:40|    0|n9GwX7OvEu5KTm7-A...|  4.0|Expensive Had a f...|     0|eofDWMecLSrGwIZs1...|   205 South 13th St|{null, null, u'fu...|-0TffRSXXIlBYVbb5...|Cocktail Bars, Fo...|   Philadelphia|{16:0-23:0, 0:0-0...|      1|39.9485078263|-75.1619688173|IndeBlue Modern I...|      19107|        1097|      4.5|   PA|  Indian|           46|positive|\n",
      "|   0|2019-04-08 22:41:42|    0|0YOZDSXPP-5HBlpBe...|  5.0|I have eaten here...|     1|Nfddrl4wLxFW1c7EY...|   205 South 13th St|{null, null, u'fu...|-0TffRSXXIlBYVbb5...|Cocktail Bars, Fo...|   Philadelphia|{16:0-23:0, 0:0-0...|      1|39.9485078263|-75.1619688173|IndeBlue Modern I...|      19107|        1097|      4.5|   PA|  Indian|           79|positive|\n",
      "|   2|2013-07-30 06:00:55|    0|Oc8yCatoIT2dp0MXT...|  5.0|We ate here the o...|     5|a-8ZuiQk4EsWgebrG...|   205 South 13th St|{null, null, u'fu...|-0TffRSXXIlBYVbb5...|Cocktail Bars, Fo...|   Philadelphia|{16:0-23:0, 0:0-0...|      1|39.9485078263|-75.1619688173|IndeBlue Modern I...|      19107|        1097|      4.5|   PA|  Indian|          380|positive|\n",
      "|   1|2017-10-09 00:58:21|    0|axZ7DB3zVV1LdV8tb...|  5.0|We celebrated our...|     2|2yaDqd8M6ESBu_hbc...|   205 South 13th St|{null, null, u'fu...|-0TffRSXXIlBYVbb5...|Cocktail Bars, Fo...|   Philadelphia|{16:0-23:0, 0:0-0...|      1|39.9485078263|-75.1619688173|IndeBlue Modern I...|      19107|        1097|      4.5|   PA|  Indian|           74|positive|\n",
      "|   0|2017-06-07 21:48:30|    0|vbfXHX0mQDQFWm-w6...|  5.0|This is a very co...|     1|oYCbUgZm76GdzTMbH...|   205 South 13th St|{null, null, u'fu...|-0TffRSXXIlBYVbb5...|Cocktail Bars, Fo...|   Philadelphia|{16:0-23:0, 0:0-0...|      1|39.9485078263|-75.1619688173|IndeBlue Modern I...|      19107|        1097|      4.5|   PA|  Indian|          175|positive|\n",
      "|   0|2014-06-16 17:19:16|    0|eVrRCJxi7EA6Mz-Xp...|  5.0|Came here for Sat...|     1|_Snvv_nGfpctBG4OO...|   205 South 13th St|{null, null, u'fu...|-0TffRSXXIlBYVbb5...|Cocktail Bars, Fo...|   Philadelphia|{16:0-23:0, 0:0-0...|      1|39.9485078263|-75.1619688173|IndeBlue Modern I...|      19107|        1097|      4.5|   PA|  Indian|          239|positive|\n",
      "|   2|2015-08-10 22:51:13|    0|VoHA31ER_gPEsqGj0...|  5.0|Excellent Indian ...|     2|X502HW78qhp_t8o4p...|   205 South 13th St|{null, null, u'fu...|-0TffRSXXIlBYVbb5...|Cocktail Bars, Fo...|   Philadelphia|{16:0-23:0, 0:0-0...|      1|39.9485078263|-75.1619688173|IndeBlue Modern I...|      19107|        1097|      4.5|   PA|  Indian|           16|positive|\n",
      "|   0|2021-02-04 17:19:00|    0|l_wh_MtBeY4WMyoNK...|  5.0|I wish I could ea...|     1|vFdWLzeX73xetI7M7...|   205 South 13th St|{null, null, u'fu...|-0TffRSXXIlBYVbb5...|Cocktail Bars, Fo...|   Philadelphia|{16:0-23:0, 0:0-0...|      1|39.9485078263|-75.1619688173|IndeBlue Modern I...|      19107|        1097|      4.5|   PA|  Indian|           57|positive|\n",
      "|   2|2014-12-04 23:56:08|    0|7nFiUZ3XntWlmL_cu...|  5.0|Great place for a...|     2|nwuyUKjZlXukv0d0j...|   205 South 13th St|{null, null, u'fu...|-0TffRSXXIlBYVbb5...|Cocktail Bars, Fo...|   Philadelphia|{16:0-23:0, 0:0-0...|      1|39.9485078263|-75.1619688173|IndeBlue Modern I...|      19107|        1097|      4.5|   PA|  Indian|          389|positive|\n",
      "|   1|2017-01-03 20:46:56|    0|cpZt0nvNdXOaQeMpD...|  5.0|Friends and I ent...|     2|IH0ToaZ8hJXO2pVie...|   205 South 13th St|{null, null, u'fu...|-0TffRSXXIlBYVbb5...|Cocktail Bars, Fo...|   Philadelphia|{16:0-23:0, 0:0-0...|      1|39.9485078263|-75.1619688173|IndeBlue Modern I...|      19107|        1097|      4.5|   PA|  Indian|          177|positive|\n",
      "|   0|2018-08-25 12:34:18|    0|KcTGXdkbPhrSvW5eH...|  4.0|Really good moder...|     2|MmUvhVk6gKzDEx91H...|   205 South 13th St|{null, null, u'fu...|-0TffRSXXIlBYVbb5...|Cocktail Bars, Fo...|   Philadelphia|{16:0-23:0, 0:0-0...|      1|39.9485078263|-75.1619688173|IndeBlue Modern I...|      19107|        1097|      4.5|   PA|  Indian|           60|positive|\n",
      "+----+-------------------+-----+--------------------+-----+--------------------+------+--------------------+--------------------+--------------------+--------------------+--------------------+---------------+--------------------+-------+-------------+--------------+--------------------+-----------+------------+---------+-----+--------+-------------+--------+\n",
      "only showing top 20 rows\n",
      "\n"
     ]
    },
    {
     "data": {
      "image/png": "[encoded data removed]",
      "text/plain": [
       "<Figure size 1080x720 with 1 Axes>"
      ]
     },
     "metadata": {},
     "output_type": "display_data"
    }
   ],
   "source": [
    "plt.style.use('ggplot')\n",
    "\n",
    "df = filtered_restaurants.toPandas()\n",
    "\n",
    "\n",
    "\n",
    "df_cols = restaurant_reviews.columns\n",
    "# get index of the duplicate columns\n",
    "duplicate_col_index = list(set([df_cols.index(c) for c in df_cols if df_cols.count(c) == 2]))\n",
    "\n",
    "# rename by adding suffix '_duplicated'\n",
    "for i in duplicate_col_index:\n",
    "    df_cols[i] = df_cols[i] + '_duplicated'\n",
    "\n",
    "# rename the column in DF\n",
    "restaurant_reviews = restaurant_reviews.toDF(*df_cols)\n",
    "data_reviews=restaurant_reviews.toPandas()\n",
    "\n",
    "# remove flagged columns\n",
    "cols_to_remove = [c for c in df_cols if '_duplicated' in c]\n",
    "restaurant_reviews.drop(*cols_to_remove).show()\n",
    "\n",
    "plt.figure(figsize=(15,10))\n",
    "\n",
    "grouped = df.category.value_counts()\n",
    "\n",
    "sns.countplot(y='category',data=df, order = grouped.index, palette = sns.color_palette(\"inferno\", len(grouped)))\n",
    "plt.xlabel('Number of restaurants')\n",
    "plt.ylabel('Category')\n",
    "plt.title('Count of Restaurants by Category')\n",
    "\n",
    "for  i, v in enumerate(df.category.value_counts()):\n",
    "    plt.text(v, i+0.15, str(v))"
   ]
  },
  {
   "cell_type": "markdown",
   "metadata": {
    "id": "wlRm85N2LtCl"
   },
   "source": [
    "### Top 10 cities with most restaurants"
   ]
  },
  {
   "cell_type": "code",
   "execution_count": null,
   "metadata": {
    "colab": {
     "base_uri": "https://localhost:8080/",
     "height": 481
    },
    "id": "Cav3oDPLK_hb",
    "outputId": "8f8d81f2-a8be-41d3-ea2d-ff47d8ecdbc1"
   },
   "outputs": [
    {
     "name": "stderr",
     "output_type": "stream",
     "text": [
      "/usr/local/lib/python3.7/dist-packages/seaborn/_decorators.py:43: FutureWarning: Pass the following variables as keyword args: x, y. From version 0.12, the only valid positional argument will be `data`, and passing other arguments without an explicit keyword will result in an error or misinterpretation.\n",
      "  FutureWarning\n"
     ]
    },
    {
     "data": {
      "image/png": "[encoded data removed]",
      "text/plain": [
       "<Figure size 792x432 with 1 Axes>"
      ]
     },
     "metadata": {},
     "output_type": "display_data"
    }
   ],
   "source": [
    "plt.figure(figsize=(11,6))\n",
    "\n",
    "grouped = df.city.value_counts()[:10]\n",
    "\n",
    "sns.barplot(grouped.index, grouped.values, palette=sns.color_palette(\"inferno\", len(grouped)))\n",
    "plt.ylabel('Number of restaurants')\n",
    "plt.xlabel('City')\n",
    "plt.title('Count of Restaurants by City (Top 10)')\n",
    "plt.xticks(rotation=15)\n",
    "\n",
    "for  i, v in enumerate(grouped):\n",
    "    plt.text(i, v*1.02, str(v), horizontalalignment ='center')"
   ]
  },
  {
   "cell_type": "code",
   "execution_count": null,
   "metadata": {
    "id": "kAqTNuAtKr9i"
   },
   "outputs": [],
   "source": [
    "## \n"
   ]
  },
  {
   "cell_type": "code",
   "execution_count": null,
   "metadata": {
    "colab": {
     "base_uri": "https://localhost:8080/"
    },
    "id": "XcuKEEXkXoMV",
    "outputId": "c2b75ed3-9440-46b2-9f7b-f55e6366ee2d"
   },
   "outputs": [
    {
     "data": {
      "text/plain": [
       "Index(['business_id_duplicated', 'cool', 'date', 'funny', 'review_id', 'stars',\n",
       "       'text', 'useful', 'user_id', 'address', 'attributes', 'business_id',\n",
       "       'categories', 'city', 'hours', 'is_open', 'latitude', 'longitude',\n",
       "       'name', 'postal_code', 'review_count', 'avg_stars', 'state', 'category',\n",
       "       'review_length', 'labels'],\n",
       "      dtype='object')"
      ]
     },
     "execution_count": 24,
     "metadata": {},
     "output_type": "execute_result"
    }
   ],
   "source": [
    "\n",
    "data_reviews.columns"
   ]
  },
  {
   "cell_type": "code",
   "execution_count": null,
   "metadata": {
    "id": "_vNqz5EWP7tU"
   },
   "outputs": [],
   "source": [
    ""
   ]
  },
  {
   "cell_type": "code",
   "execution_count": null,
   "metadata": {
    "colab": {
     "base_uri": "https://localhost:8080/"
    },
    "id": "oniA9i1BP7wC",
    "outputId": "37377a3e-b1da-4ec1-84f0-f5b5240f2522"
   },
   "outputs": [
    {
     "data": {
      "text/plain": [
       "['business_id_duplicated',\n",
       " 'cool',\n",
       " 'date',\n",
       " 'funny',\n",
       " 'review_id',\n",
       " 'stars',\n",
       " 'text',\n",
       " 'useful',\n",
       " 'user_id',\n",
       " 'address',\n",
       " 'attributes',\n",
       " 'business_id',\n",
       " 'categories',\n",
       " 'city',\n",
       " 'hours',\n",
       " 'is_open',\n",
       " 'latitude',\n",
       " 'longitude',\n",
       " 'name',\n",
       " 'postal_code',\n",
       " 'review_count',\n",
       " 'avg_stars',\n",
       " 'state',\n",
       " 'category',\n",
       " 'review_length',\n",
       " 'labels']"
      ]
     },
     "execution_count": 25,
     "metadata": {},
     "output_type": "execute_result"
    }
   ],
   "source": [
    "restaurant_reviews.columns"
   ]
  },
  {
   "cell_type": "code",
   "execution_count": null,
   "metadata": {
    "colab": {
     "base_uri": "https://localhost:8080/",
     "height": 457
    },
    "id": "920DRDauP7yq",
    "outputId": "85b8493f-9d9a-4c32-b2ca-62b6fd88f0dd"
   },
   "outputs": [
    {
     "data": {
      "text/plain": [
       "<matplotlib.axes._subplots.AxesSubplot at 0x7f2ca35cb310>"
      ]
     },
     "execution_count": 29,
     "metadata": {},
     "output_type": "execute_result"
    },
    {
     "data": {
      "image/png": "[encoded data removed]",
      "text/plain": [
       "<Figure size 432x288 with 1 Axes>"
      ]
     },
     "metadata": {},
     "output_type": "display_data"
    }
   ],
   "source": [
    "# Average review count for restaurants with positive ratings\n",
    "from itertools import cycle, islice\n",
    "my_colors = list(islice(cycle(['b', 'r', 'g', 'y', 'k']), None, len(df)))\n",
    "\n",
    "\n",
    "restaurant_reviews.filter(restaurant_reviews.labels == \"positive\").groupby(\"name\").mean().select(\"name\",\"avg(review_count)\").sort(\"avg(review_count)\",ascending=False).toPandas().set_index('name')[:5].plot(kind='bar',legend=True)"
   ]
  },
  {
   "cell_type": "code",
   "execution_count": null,
   "metadata": {
    "colab": {
     "base_uri": "https://localhost:8080/",
     "height": 424
    },
    "id": "si9xvW1riJ6G",
    "outputId": "a2182801-bbe3-4237-b0c2-f88d211c890d"
   },
   "outputs": [
    {
     "data": {
      "text/html": [
       "\n",
       "  <div id=\"df-d98a1607-99e3-427d-a09b-da618f861cc5\">\n",
       "    <div class=\"colab-df-container\">\n",
       "      <div>\n",
       "<style scoped>\n",
       "    .dataframe tbody tr th:only-of-type {\n",
       "        vertical-align: middle;\n",
       "    }\n",
       "\n",
       "    .dataframe tbody tr th {\n",
       "        vertical-align: top;\n",
       "    }\n",
       "\n",
       "    .dataframe thead th {\n",
       "        text-align: right;\n",
       "    }\n",
       "</style>\n",
       "<table border=\"1\" class=\"dataframe\">\n",
       "  <thead>\n",
       "    <tr style=\"text-align: right;\">\n",
       "      <th></th>\n",
       "      <th>name</th>\n",
       "      <th>state</th>\n",
       "      <th>avg(review_count)</th>\n",
       "    </tr>\n",
       "  </thead>\n",
       "  <tbody>\n",
       "    <tr>\n",
       "      <th>0</th>\n",
       "      <td>Hattie B’s Hot Chicken - Nashville</td>\n",
       "      <td>TN</td>\n",
       "      <td>6093.0</td>\n",
       "    </tr>\n",
       "    <tr>\n",
       "      <th>1</th>\n",
       "      <td>Reading Terminal Market</td>\n",
       "      <td>PA</td>\n",
       "      <td>5721.0</td>\n",
       "    </tr>\n",
       "    <tr>\n",
       "      <th>2</th>\n",
       "      <td>Ruby Slipper - New Orleans</td>\n",
       "      <td>LA</td>\n",
       "      <td>5193.0</td>\n",
       "    </tr>\n",
       "    <tr>\n",
       "      <th>3</th>\n",
       "      <td>Mother's Restaurant</td>\n",
       "      <td>LA</td>\n",
       "      <td>5185.0</td>\n",
       "    </tr>\n",
       "    <tr>\n",
       "      <th>4</th>\n",
       "      <td>Royal House</td>\n",
       "      <td>LA</td>\n",
       "      <td>5070.0</td>\n",
       "    </tr>\n",
       "    <tr>\n",
       "      <th>...</th>\n",
       "      <td>...</td>\n",
       "      <td>...</td>\n",
       "      <td>...</td>\n",
       "    </tr>\n",
       "    <tr>\n",
       "      <th>15948</th>\n",
       "      <td>Five Star Restaurant</td>\n",
       "      <td>PA</td>\n",
       "      <td>5.0</td>\n",
       "    </tr>\n",
       "    <tr>\n",
       "      <th>15949</th>\n",
       "      <td>Haggerty's Cafe</td>\n",
       "      <td>PA</td>\n",
       "      <td>5.0</td>\n",
       "    </tr>\n",
       "    <tr>\n",
       "      <th>15950</th>\n",
       "      <td>B2 Country Saloon</td>\n",
       "      <td>IN</td>\n",
       "      <td>5.0</td>\n",
       "    </tr>\n",
       "    <tr>\n",
       "      <th>15951</th>\n",
       "      <td>Four Seasons Vietnamese Restraurant</td>\n",
       "      <td>MO</td>\n",
       "      <td>5.0</td>\n",
       "    </tr>\n",
       "    <tr>\n",
       "      <th>15952</th>\n",
       "      <td>Taqueria Atexquita</td>\n",
       "      <td>DE</td>\n",
       "      <td>5.0</td>\n",
       "    </tr>\n",
       "  </tbody>\n",
       "</table>\n",
       "<p>15953 rows × 3 columns</p>\n",
       "</div>\n",
       "      <button class=\"colab-df-convert\" onclick=\"convertToInteractive('df-d98a1607-99e3-427d-a09b-da618f861cc5')\"\n",
       "              title=\"Convert this dataframe to an interactive table.\"\n",
       "              style=\"display:none;\">\n",
       "        \n",
       "  <svg xmlns=\"http://www.w3.org/2000/svg\" height=\"24px\"viewBox=\"0 0 24 24\"\n",
       "       width=\"24px\">\n",
       "    <path d=\"M0 0h24v24H0V0z\" fill=\"none\"/>\n",
       "    <path d=\"M18.56 5.44l.94 2.06.94-2.06 2.06-.94-2.06-.94-.94-2.06-.94 2.06-2.06.94zm-11 1L8.5 8.5l.94-2.06 2.06-.94-2.06-.94L8.5 2.5l-.94 2.06-2.06.94zm10 10l.94 2.06.94-2.06 2.06-.94-2.06-.94-.94-2.06-.94 2.06-2.06.94z\"/><path d=\"M17.41 7.96l-1.37-1.37c-.4-.4-.92-.59-1.43-.59-.52 0-1.04.2-1.43.59L10.3 9.45l-7.72 7.72c-.78.78-.78 2.05 0 2.83L4 21.41c.39.39.9.59 1.41.59.51 0 1.02-.2 1.41-.59l7.78-7.78 2.81-2.81c.8-.78.8-2.07 0-2.86zM5.41 20L4 18.59l7.72-7.72 1.47 1.35L5.41 20z\"/>\n",
       "  </svg>\n",
       "      </button>\n",
       "      \n",
       "  <style>\n",
       "    .colab-df-container {\n",
       "      display:flex;\n",
       "      flex-wrap:wrap;\n",
       "      gap: 12px;\n",
       "    }\n",
       "\n",
       "    .colab-df-convert {\n",
       "      background-color: #E8F0FE;\n",
       "      border: none;\n",
       "      border-radius: 50%;\n",
       "      cursor: pointer;\n",
       "      display: none;\n",
       "      fill: #1967D2;\n",
       "      height: 32px;\n",
       "      padding: 0 0 0 0;\n",
       "      width: 32px;\n",
       "    }\n",
       "\n",
       "    .colab-df-convert:hover {\n",
       "      background-color: #E2EBFA;\n",
       "      box-shadow: 0px 1px 2px rgba(60, 64, 67, 0.3), 0px 1px 3px 1px rgba(60, 64, 67, 0.15);\n",
       "      fill: #174EA6;\n",
       "    }\n",
       "\n",
       "    [theme=dark] .colab-df-convert {\n",
       "      background-color: #3B4455;\n",
       "      fill: #D2E3FC;\n",
       "    }\n",
       "\n",
       "    [theme=dark] .colab-df-convert:hover {\n",
       "      background-color: #434B5C;\n",
       "      box-shadow: 0px 1px 3px 1px rgba(0, 0, 0, 0.15);\n",
       "      filter: drop-shadow(0px 1px 2px rgba(0, 0, 0, 0.3));\n",
       "      fill: #FFFFFF;\n",
       "    }\n",
       "  </style>\n",
       "\n",
       "      <script>\n",
       "        const buttonEl =\n",
       "          document.querySelector('#df-d98a1607-99e3-427d-a09b-da618f861cc5 button.colab-df-convert');\n",
       "        buttonEl.style.display =\n",
       "          google.colab.kernel.accessAllowed ? 'block' : 'none';\n",
       "\n",
       "        async function convertToInteractive(key) {\n",
       "          const element = document.querySelector('#df-d98a1607-99e3-427d-a09b-da618f861cc5');\n",
       "          const dataTable =\n",
       "            await google.colab.kernel.invokeFunction('convertToInteractive',\n",
       "                                                     [key], {});\n",
       "          if (!dataTable) return;\n",
       "\n",
       "          const docLinkHtml = 'Like what you see? Visit the ' +\n",
       "            '<a target=\"_blank\" href=https://colab.research.google.com/notebooks/data_table.ipynb>data table notebook</a>'\n",
       "            + ' to learn more about interactive tables.';\n",
       "          element.innerHTML = '';\n",
       "          dataTable['output_type'] = 'display_data';\n",
       "          await google.colab.output.renderOutput(dataTable, element);\n",
       "          const docLink = document.createElement('div');\n",
       "          docLink.innerHTML = docLinkHtml;\n",
       "          element.appendChild(docLink);\n",
       "        }\n",
       "      </script>\n",
       "    </div>\n",
       "  </div>\n",
       "  "
      ],
      "text/plain": [
       "                                      name state  avg(review_count)\n",
       "0       Hattie B’s Hot Chicken - Nashville    TN             6093.0\n",
       "1                  Reading Terminal Market    PA             5721.0\n",
       "2               Ruby Slipper - New Orleans    LA             5193.0\n",
       "3                      Mother's Restaurant    LA             5185.0\n",
       "4                              Royal House    LA             5070.0\n",
       "...                                    ...   ...                ...\n",
       "15948                 Five Star Restaurant    PA                5.0\n",
       "15949                      Haggerty's Cafe    PA                5.0\n",
       "15950                    B2 Country Saloon    IN                5.0\n",
       "15951  Four Seasons Vietnamese Restraurant    MO                5.0\n",
       "15952                   Taqueria Atexquita    DE                5.0\n",
       "\n",
       "[15953 rows x 3 columns]"
      ]
     },
     "execution_count": 103,
     "metadata": {},
     "output_type": "execute_result"
    }
   ],
   "source": [
    "# Average review count for restaurants with positive ratings per state\n",
    "restaurant_reviews.filter(restaurant_reviews.labels == \"positive\").groupby(\"name\",\"state\").mean().select(\"name\",\"state\",\"avg(review_count)\").sort(\"avg(review_count)\",ascending=False).toPandas()"
   ]
  },
  {
   "cell_type": "code",
   "execution_count": null,
   "metadata": {
    "colab": {
     "base_uri": "https://localhost:8080/"
    },
    "id": "EsTG9fAAgMCp",
    "outputId": "5c310f82-e774-4dd8-b4e5-ce23a5fc7ed5"
   },
   "outputs": [
    {
     "data": {
      "text/plain": [
       "Index(['business_id_duplicated', 'cool', 'date', 'funny', 'review_id', 'stars',\n",
       "       'text', 'useful', 'user_id', 'address', 'attributes', 'business_id',\n",
       "       'categories', 'city', 'hours', 'is_open', 'latitude', 'longitude',\n",
       "       'name', 'postal_code', 'review_count', 'avg_stars', 'state', 'category',\n",
       "       'review_length', 'labels'],\n",
       "      dtype='object')"
      ]
     },
     "execution_count": 104,
     "metadata": {},
     "output_type": "execute_result"
    }
   ],
   "source": [
    "data_reviews.columns"
   ]
  },
  {
   "cell_type": "code",
   "execution_count": null,
   "metadata": {
    "colab": {
     "base_uri": "https://localhost:8080/",
     "height": 609
    },
    "id": "n3VQMu9PgMNv",
    "outputId": "86cbb3d8-e07b-4ab6-93f4-e64c8420b199"
   },
   "outputs": [
    {
     "data": {
      "text/plain": [
       "<matplotlib.axes._subplots.AxesSubplot at 0x7f2ca4bd49d0>"
      ]
     },
     "execution_count": 43,
     "metadata": {},
     "output_type": "execute_result"
    },
    {
     "data": {
      "image/png": "[encoded data removed]",
      "text/plain": [
       "<Figure size 720x720 with 1 Axes>"
      ]
     },
     "metadata": {},
     "output_type": "display_data"
    }
   ],
   "source": [
    "# Maximum number of positive reviews per category\n",
    "\n",
    "pos_reviews_num=restaurant_reviews.filter(restaurant_reviews.labels == \"positive\").groupby(\"category\").count().withColumnRenamed(\"count\",\"Number_positive_reviews\").sort(\"Number_positive_reviews\",ascending=False).toPandas()\n",
    "pos_reviews_num.set_index('category')[:10].plot(kind='barh',legend=True, figsize=(10,10))\n",
    "\n"
   ]
  },
  {
   "cell_type": "code",
   "execution_count": null,
   "metadata": {
    "colab": {
     "base_uri": "https://localhost:8080/",
     "height": 348
    },
    "id": "S1CC-2j0O9dw",
    "outputId": "7f522dcd-884b-4ff9-a89d-b8c048ec085b"
   },
   "outputs": [
    {
     "data": {
      "text/plain": [
       "<matplotlib.axes._subplots.AxesSubplot at 0x7f2c89066450>"
      ]
     },
     "execution_count": 71,
     "metadata": {},
     "output_type": "execute_result"
    },
    {
     "data": {
      "image/png": "[encoded data removed]",
      "text/plain": [
       "<Figure size 432x288 with 1 Axes>"
      ]
     },
     "metadata": {},
     "output_type": "display_data"
    }
   ],
   "source": [
    "# percentage of positive reviews per category\n",
    "\n",
    "\n",
    "\n",
    "f=pos_reviews_num.set_index('category')[:10]\n",
    "temp=restaurant_reviews.groupby(\"category\").count().withColumnRenamed(\"count\",\"total_reviews\").sort(\"total_reviews\",ascending=False).toPandas().set_index('category')[:10]\n",
    "\n",
    "f['total_review_count']=temp\n",
    "f['percentage']= (f['Number_positive_reviews']/f['total_review_count'])*100\n",
    "f['percentage'][::2].plot(kind='bar',legend=True)"
   ]
  },
  {
   "cell_type": "code",
   "execution_count": null,
   "metadata": {
    "colab": {
     "base_uri": "https://localhost:8080/",
     "height": 363
    },
    "id": "8_oKRfc2ak49",
    "outputId": "9a43947f-63c7-4544-b15b-53aa00bc4e77"
   },
   "outputs": [
    {
     "data": {
      "text/plain": [
       "<matplotlib.axes._subplots.AxesSubplot at 0x7f2c899b6a10>"
      ]
     },
     "execution_count": 75,
     "metadata": {},
     "output_type": "execute_result"
    },
    {
     "data": {
      "image/png": "[encoded data removed]",
      "text/plain": [
       "<Figure size 432x288 with 1 Axes>"
      ]
     },
     "metadata": {},
     "output_type": "display_data"
    }
   ],
   "source": [
    "# percentage of negative reviews per category\n",
    "\n",
    "\n",
    "neg_rev_num=restaurant_reviews.filter(restaurant_reviews.labels == \"negative\").groupby(\"category\").count().withColumnRenamed(\"count\",\"Number_negative_reviews\").sort(\"Number_negative_reviews\",ascending=False).toPandas()\n",
    "\n",
    "k=neg_rev_num.set_index('category')[:10]\n",
    "temp=restaurant_reviews.groupby(\"category\").count().withColumnRenamed(\"count\",\"total_reviews\").sort(\"total_reviews\",ascending=False).toPandas().set_index('category')[:10]\n",
    "\n",
    "k['total_review_count']=temp\n",
    "k['percentage']= (k['Number_negative_reviews']/f['total_review_count'])*100\n",
    "k['percentage'][:].plot(kind='bar',legend=True)"
   ]
  },
  {
   "cell_type": "code",
   "execution_count": null,
   "metadata": {
    "colab": {
     "base_uri": "https://localhost:8080/"
    },
    "id": "2NnPDfcRNp8O",
    "outputId": "821bcb1c-0588-4337-f3eb-32087246536a"
   },
   "outputs": [
    {
     "name": "stdout",
     "output_type": "stream",
     "text": [
      "Index(['business_id_duplicated', 'cool', 'date', 'funny', 'review_id', 'stars',\n",
      "       'text', 'useful', 'user_id', 'address', 'attributes', 'business_id',\n",
      "       'categories', 'city', 'hours', 'is_open', 'latitude', 'longitude',\n",
      "       'name', 'postal_code', 'review_count', 'avg_stars', 'state', 'category',\n",
      "       'review_length', 'labels'],\n",
      "      dtype='object')\n"
     ]
    },
    {
     "data": {
      "text/plain": [
       "['business_id_duplicated',\n",
       " 'cool',\n",
       " 'date',\n",
       " 'funny',\n",
       " 'review_id',\n",
       " 'stars',\n",
       " 'text',\n",
       " 'useful',\n",
       " 'user_id',\n",
       " 'address',\n",
       " 'attributes',\n",
       " 'business_id',\n",
       " 'categories',\n",
       " 'city',\n",
       " 'hours',\n",
       " 'is_open',\n",
       " 'latitude',\n",
       " 'longitude',\n",
       " 'name',\n",
       " 'postal_code',\n",
       " 'review_count',\n",
       " 'avg_stars',\n",
       " 'state',\n",
       " 'category',\n",
       " 'review_length',\n",
       " 'labels']"
      ]
     },
     "execution_count": 78,
     "metadata": {},
     "output_type": "execute_result"
    }
   ],
   "source": [
    "print(data_reviews.columns)\n",
    "restaurant_reviews.columns"
   ]
  },
  {
   "cell_type": "code",
   "execution_count": null,
   "metadata": {
    "colab": {
     "base_uri": "https://localhost:8080/"
    },
    "id": "tfrNod4XOGid",
    "outputId": "a26f10a2-fc32-4d72-fe54-1802988ce9f9"
   },
   "outputs": [
    {
     "data": {
      "text/plain": [
       "Row(AcceptsInsurance=None, AgesAllowed=None, Alcohol=\"u'none'\", Ambience=\"{'touristy': False, 'hipster': False, 'romantic': False, 'divey': False, 'intimate': False, 'trendy': False, 'upscale': False, 'classy': True, 'casual': False}\", BYOB='True', BYOBCorkage=None, BestNights=None, BikeParking='True', BusinessAcceptsBitcoin='False', BusinessAcceptsCreditCards='True', BusinessParking=\"{'garage': False, 'street': False, 'validated': False, 'lot': True, 'valet': False}\", ByAppointmentOnly=None, Caters='True', CoatCheck=None, Corkage='False', DietaryRestrictions=None, DogsAllowed='True', DriveThru=None, GoodForDancing=None, GoodForKids=None, GoodForMeal=None, HairSpecializesIn=None, HappyHour=None, HasTV='False', Music=None, NoiseLevel=None, Open24Hours=None, OutdoorSeating='True', RestaurantsAttire=None, RestaurantsCounterService=None, RestaurantsDelivery='False', RestaurantsGoodForGroups=None, RestaurantsPriceRange2=None, RestaurantsReservations='False', RestaurantsTableService='True', RestaurantsTakeOut='True', Smoking=None, WheelchairAccessible='True', WiFi=\"u'no'\")"
      ]
     },
     "execution_count": 77,
     "metadata": {},
     "output_type": "execute_result"
    }
   ],
   "source": [
    "data_reviews.attributes[0]"
   ]
  },
  {
   "cell_type": "code",
   "execution_count": null,
   "metadata": {
    "colab": {
     "base_uri": "https://localhost:8080/"
    },
    "id": "Wtuc65LNtjyL",
    "outputId": "c8be4e0e-a5b8-490a-d707-d5eafceb450b"
   },
   "outputs": [
    {
     "name": "stdout",
     "output_type": "stream",
     "text": [
      "+--------+-----+\n",
      "|  labels|count|\n",
      "+--------+-----+\n",
      "|positive|91680|\n",
      "|negative|27644|\n",
      "+--------+-----+\n",
      "\n"
     ]
    }
   ],
   "source": [
    "restaurant_reviews.groupby('labels').count().show()"
   ]
  },
  {
   "cell_type": "code",
   "execution_count": null,
   "metadata": {
    "colab": {
     "base_uri": "https://localhost:8080/",
     "height": 520
    },
    "id": "jMkcPmMOOFOO",
    "outputId": "83751093-87c7-49a3-8a76-610083639ca1"
   },
   "outputs": [
    {
     "data": {
      "text/html": [
       "\n",
       "  <div id=\"df-941b2f19-2e62-4ff7-a271-42ff3c0e690d\">\n",
       "    <div class=\"colab-df-container\">\n",
       "      <div>\n",
       "<style scoped>\n",
       "    .dataframe tbody tr th:only-of-type {\n",
       "        vertical-align: middle;\n",
       "    }\n",
       "\n",
       "    .dataframe tbody tr th {\n",
       "        vertical-align: top;\n",
       "    }\n",
       "\n",
       "    .dataframe thead th {\n",
       "        text-align: right;\n",
       "    }\n",
       "</style>\n",
       "<table border=\"1\" class=\"dataframe\">\n",
       "  <thead>\n",
       "    <tr style=\"text-align: right;\">\n",
       "      <th></th>\n",
       "      <th>category</th>\n",
       "      <th>Number_positive_reviews</th>\n",
       "    </tr>\n",
       "  </thead>\n",
       "  <tbody>\n",
       "    <tr>\n",
       "      <th>0</th>\n",
       "      <td>American</td>\n",
       "      <td>15057</td>\n",
       "    </tr>\n",
       "    <tr>\n",
       "      <th>1</th>\n",
       "      <td>Mexican</td>\n",
       "      <td>3359</td>\n",
       "    </tr>\n",
       "    <tr>\n",
       "      <th>2</th>\n",
       "      <td>Italian</td>\n",
       "      <td>3304</td>\n",
       "    </tr>\n",
       "    <tr>\n",
       "      <th>3</th>\n",
       "      <td>Chinese</td>\n",
       "      <td>1726</td>\n",
       "    </tr>\n",
       "    <tr>\n",
       "      <th>4</th>\n",
       "      <td>Japanese</td>\n",
       "      <td>1645</td>\n",
       "    </tr>\n",
       "    <tr>\n",
       "      <th>5</th>\n",
       "      <td>Thai</td>\n",
       "      <td>538</td>\n",
       "    </tr>\n",
       "    <tr>\n",
       "      <th>6</th>\n",
       "      <td>Mediterranean</td>\n",
       "      <td>511</td>\n",
       "    </tr>\n",
       "    <tr>\n",
       "      <th>7</th>\n",
       "      <td>Indian</td>\n",
       "      <td>493</td>\n",
       "    </tr>\n",
       "    <tr>\n",
       "      <th>8</th>\n",
       "      <td>Vietnamese</td>\n",
       "      <td>343</td>\n",
       "    </tr>\n",
       "    <tr>\n",
       "      <th>9</th>\n",
       "      <td>French</td>\n",
       "      <td>232</td>\n",
       "    </tr>\n",
       "    <tr>\n",
       "      <th>10</th>\n",
       "      <td>Korean</td>\n",
       "      <td>144</td>\n",
       "    </tr>\n",
       "    <tr>\n",
       "      <th>11</th>\n",
       "      <td>Greek</td>\n",
       "      <td>119</td>\n",
       "    </tr>\n",
       "    <tr>\n",
       "      <th>12</th>\n",
       "      <td>Spanish</td>\n",
       "      <td>100</td>\n",
       "    </tr>\n",
       "    <tr>\n",
       "      <th>13</th>\n",
       "      <td>Hawaiian</td>\n",
       "      <td>58</td>\n",
       "    </tr>\n",
       "    <tr>\n",
       "      <th>14</th>\n",
       "      <td>African</td>\n",
       "      <td>15</td>\n",
       "    </tr>\n",
       "  </tbody>\n",
       "</table>\n",
       "</div>\n",
       "      <button class=\"colab-df-convert\" onclick=\"convertToInteractive('df-941b2f19-2e62-4ff7-a271-42ff3c0e690d')\"\n",
       "              title=\"Convert this dataframe to an interactive table.\"\n",
       "              style=\"display:none;\">\n",
       "        \n",
       "  <svg xmlns=\"http://www.w3.org/2000/svg\" height=\"24px\"viewBox=\"0 0 24 24\"\n",
       "       width=\"24px\">\n",
       "    <path d=\"M0 0h24v24H0V0z\" fill=\"none\"/>\n",
       "    <path d=\"M18.56 5.44l.94 2.06.94-2.06 2.06-.94-2.06-.94-.94-2.06-.94 2.06-2.06.94zm-11 1L8.5 8.5l.94-2.06 2.06-.94-2.06-.94L8.5 2.5l-.94 2.06-2.06.94zm10 10l.94 2.06.94-2.06 2.06-.94-2.06-.94-.94-2.06-.94 2.06-2.06.94z\"/><path d=\"M17.41 7.96l-1.37-1.37c-.4-.4-.92-.59-1.43-.59-.52 0-1.04.2-1.43.59L10.3 9.45l-7.72 7.72c-.78.78-.78 2.05 0 2.83L4 21.41c.39.39.9.59 1.41.59.51 0 1.02-.2 1.41-.59l7.78-7.78 2.81-2.81c.8-.78.8-2.07 0-2.86zM5.41 20L4 18.59l7.72-7.72 1.47 1.35L5.41 20z\"/>\n",
       "  </svg>\n",
       "      </button>\n",
       "      \n",
       "  <style>\n",
       "    .colab-df-container {\n",
       "      display:flex;\n",
       "      flex-wrap:wrap;\n",
       "      gap: 12px;\n",
       "    }\n",
       "\n",
       "    .colab-df-convert {\n",
       "      background-color: #E8F0FE;\n",
       "      border: none;\n",
       "      border-radius: 50%;\n",
       "      cursor: pointer;\n",
       "      display: none;\n",
       "      fill: #1967D2;\n",
       "      height: 32px;\n",
       "      padding: 0 0 0 0;\n",
       "      width: 32px;\n",
       "    }\n",
       "\n",
       "    .colab-df-convert:hover {\n",
       "      background-color: #E2EBFA;\n",
       "      box-shadow: 0px 1px 2px rgba(60, 64, 67, 0.3), 0px 1px 3px 1px rgba(60, 64, 67, 0.15);\n",
       "      fill: #174EA6;\n",
       "    }\n",
       "\n",
       "    [theme=dark] .colab-df-convert {\n",
       "      background-color: #3B4455;\n",
       "      fill: #D2E3FC;\n",
       "    }\n",
       "\n",
       "    [theme=dark] .colab-df-convert:hover {\n",
       "      background-color: #434B5C;\n",
       "      box-shadow: 0px 1px 3px 1px rgba(0, 0, 0, 0.15);\n",
       "      filter: drop-shadow(0px 1px 2px rgba(0, 0, 0, 0.3));\n",
       "      fill: #FFFFFF;\n",
       "    }\n",
       "  </style>\n",
       "\n",
       "      <script>\n",
       "        const buttonEl =\n",
       "          document.querySelector('#df-941b2f19-2e62-4ff7-a271-42ff3c0e690d button.colab-df-convert');\n",
       "        buttonEl.style.display =\n",
       "          google.colab.kernel.accessAllowed ? 'block' : 'none';\n",
       "\n",
       "        async function convertToInteractive(key) {\n",
       "          const element = document.querySelector('#df-941b2f19-2e62-4ff7-a271-42ff3c0e690d');\n",
       "          const dataTable =\n",
       "            await google.colab.kernel.invokeFunction('convertToInteractive',\n",
       "                                                     [key], {});\n",
       "          if (!dataTable) return;\n",
       "\n",
       "          const docLinkHtml = 'Like what you see? Visit the ' +\n",
       "            '<a target=\"_blank\" href=https://colab.research.google.com/notebooks/data_table.ipynb>data table notebook</a>'\n",
       "            + ' to learn more about interactive tables.';\n",
       "          element.innerHTML = '';\n",
       "          dataTable['output_type'] = 'display_data';\n",
       "          await google.colab.output.renderOutput(dataTable, element);\n",
       "          const docLink = document.createElement('div');\n",
       "          docLink.innerHTML = docLinkHtml;\n",
       "          element.appendChild(docLink);\n",
       "        }\n",
       "      </script>\n",
       "    </div>\n",
       "  </div>\n",
       "  "
      ],
      "text/plain": [
       "         category  Number_positive_reviews\n",
       "0        American                    15057\n",
       "1         Mexican                     3359\n",
       "2         Italian                     3304\n",
       "3         Chinese                     1726\n",
       "4        Japanese                     1645\n",
       "5            Thai                      538\n",
       "6   Mediterranean                      511\n",
       "7          Indian                      493\n",
       "8      Vietnamese                      343\n",
       "9          French                      232\n",
       "10         Korean                      144\n",
       "11          Greek                      119\n",
       "12        Spanish                      100\n",
       "13       Hawaiian                       58\n",
       "14        African                       15"
      ]
     },
     "execution_count": 74,
     "metadata": {},
     "output_type": "execute_result"
    }
   ],
   "source": [
    "neg_rev_num"
   ]
  },
  {
   "cell_type": "code",
   "execution_count": null,
   "metadata": {
    "id": "AjbeNO3ztj06"
   },
   "outputs": [],
   "source": [
    ""
   ]
  },
  {
   "cell_type": "code",
   "execution_count": null,
   "metadata": {
    "id": "YdWulUeRtj3n"
   },
   "outputs": [],
   "source": [
    ""
   ]
  },
  {
   "cell_type": "code",
   "execution_count": null,
   "metadata": {
    "colab": {
     "base_uri": "https://localhost:8080/",
     "height": 455
    },
    "id": "MLOFh-d0gMRY",
    "outputId": "9d808a32-18d6-46d9-b51b-d7882c2d2b77"
   },
   "outputs": [
    {
     "data": {
      "text/html": [
       "\n",
       "  <div id=\"df-f136a4dc-f5d8-4cae-91e5-14895e5a1782\">\n",
       "    <div class=\"colab-df-container\">\n",
       "      <div>\n",
       "<style scoped>\n",
       "    .dataframe tbody tr th:only-of-type {\n",
       "        vertical-align: middle;\n",
       "    }\n",
       "\n",
       "    .dataframe tbody tr th {\n",
       "        vertical-align: top;\n",
       "    }\n",
       "\n",
       "    .dataframe thead th {\n",
       "        text-align: right;\n",
       "    }\n",
       "</style>\n",
       "<table border=\"1\" class=\"dataframe\">\n",
       "  <thead>\n",
       "    <tr style=\"text-align: right;\">\n",
       "      <th></th>\n",
       "      <th>Number_negative_reviews</th>\n",
       "    </tr>\n",
       "    <tr>\n",
       "      <th>name</th>\n",
       "      <th></th>\n",
       "    </tr>\n",
       "  </thead>\n",
       "  <tbody>\n",
       "    <tr>\n",
       "      <th>Applebee's Grill + Bar</th>\n",
       "      <td>153</td>\n",
       "    </tr>\n",
       "    <tr>\n",
       "      <th>Dadz Bar &amp; Grill</th>\n",
       "      <td>4</td>\n",
       "    </tr>\n",
       "    <tr>\n",
       "      <th>Tony Roni's Pizza Plymouth Meeting</th>\n",
       "      <td>1</td>\n",
       "    </tr>\n",
       "    <tr>\n",
       "      <th>Cedar Lounge</th>\n",
       "      <td>1</td>\n",
       "    </tr>\n",
       "    <tr>\n",
       "      <th>Twilight Tavern</th>\n",
       "      <td>1</td>\n",
       "    </tr>\n",
       "    <tr>\n",
       "      <th>...</th>\n",
       "      <td>...</td>\n",
       "    </tr>\n",
       "    <tr>\n",
       "      <th>Tacos De Oro</th>\n",
       "      <td>1</td>\n",
       "    </tr>\n",
       "    <tr>\n",
       "      <th>Danny's Wok 3</th>\n",
       "      <td>1</td>\n",
       "    </tr>\n",
       "    <tr>\n",
       "      <th>Taziki's Mediterranean Cafe - Tampa</th>\n",
       "      <td>1</td>\n",
       "    </tr>\n",
       "    <tr>\n",
       "      <th>Lew's Seafood Takeout Shop</th>\n",
       "      <td>1</td>\n",
       "    </tr>\n",
       "    <tr>\n",
       "      <th>Islands Cantina</th>\n",
       "      <td>1</td>\n",
       "    </tr>\n",
       "  </tbody>\n",
       "</table>\n",
       "<p>9520 rows × 1 columns</p>\n",
       "</div>\n",
       "      <button class=\"colab-df-convert\" onclick=\"convertToInteractive('df-f136a4dc-f5d8-4cae-91e5-14895e5a1782')\"\n",
       "              title=\"Convert this dataframe to an interactive table.\"\n",
       "              style=\"display:none;\">\n",
       "        \n",
       "  <svg xmlns=\"http://www.w3.org/2000/svg\" height=\"24px\"viewBox=\"0 0 24 24\"\n",
       "       width=\"24px\">\n",
       "    <path d=\"M0 0h24v24H0V0z\" fill=\"none\"/>\n",
       "    <path d=\"M18.56 5.44l.94 2.06.94-2.06 2.06-.94-2.06-.94-.94-2.06-.94 2.06-2.06.94zm-11 1L8.5 8.5l.94-2.06 2.06-.94-2.06-.94L8.5 2.5l-.94 2.06-2.06.94zm10 10l.94 2.06.94-2.06 2.06-.94-2.06-.94-.94-2.06-.94 2.06-2.06.94z\"/><path d=\"M17.41 7.96l-1.37-1.37c-.4-.4-.92-.59-1.43-.59-.52 0-1.04.2-1.43.59L10.3 9.45l-7.72 7.72c-.78.78-.78 2.05 0 2.83L4 21.41c.39.39.9.59 1.41.59.51 0 1.02-.2 1.41-.59l7.78-7.78 2.81-2.81c.8-.78.8-2.07 0-2.86zM5.41 20L4 18.59l7.72-7.72 1.47 1.35L5.41 20z\"/>\n",
       "  </svg>\n",
       "      </button>\n",
       "      \n",
       "  <style>\n",
       "    .colab-df-container {\n",
       "      display:flex;\n",
       "      flex-wrap:wrap;\n",
       "      gap: 12px;\n",
       "    }\n",
       "\n",
       "    .colab-df-convert {\n",
       "      background-color: #E8F0FE;\n",
       "      border: none;\n",
       "      border-radius: 50%;\n",
       "      cursor: pointer;\n",
       "      display: none;\n",
       "      fill: #1967D2;\n",
       "      height: 32px;\n",
       "      padding: 0 0 0 0;\n",
       "      width: 32px;\n",
       "    }\n",
       "\n",
       "    .colab-df-convert:hover {\n",
       "      background-color: #E2EBFA;\n",
       "      box-shadow: 0px 1px 2px rgba(60, 64, 67, 0.3), 0px 1px 3px 1px rgba(60, 64, 67, 0.15);\n",
       "      fill: #174EA6;\n",
       "    }\n",
       "\n",
       "    [theme=dark] .colab-df-convert {\n",
       "      background-color: #3B4455;\n",
       "      fill: #D2E3FC;\n",
       "    }\n",
       "\n",
       "    [theme=dark] .colab-df-convert:hover {\n",
       "      background-color: #434B5C;\n",
       "      box-shadow: 0px 1px 3px 1px rgba(0, 0, 0, 0.15);\n",
       "      filter: drop-shadow(0px 1px 2px rgba(0, 0, 0, 0.3));\n",
       "      fill: #FFFFFF;\n",
       "    }\n",
       "  </style>\n",
       "\n",
       "      <script>\n",
       "        const buttonEl =\n",
       "          document.querySelector('#df-f136a4dc-f5d8-4cae-91e5-14895e5a1782 button.colab-df-convert');\n",
       "        buttonEl.style.display =\n",
       "          google.colab.kernel.accessAllowed ? 'block' : 'none';\n",
       "\n",
       "        async function convertToInteractive(key) {\n",
       "          const element = document.querySelector('#df-f136a4dc-f5d8-4cae-91e5-14895e5a1782');\n",
       "          const dataTable =\n",
       "            await google.colab.kernel.invokeFunction('convertToInteractive',\n",
       "                                                     [key], {});\n",
       "          if (!dataTable) return;\n",
       "\n",
       "          const docLinkHtml = 'Like what you see? Visit the ' +\n",
       "            '<a target=\"_blank\" href=https://colab.research.google.com/notebooks/data_table.ipynb>data table notebook</a>'\n",
       "            + ' to learn more about interactive tables.';\n",
       "          element.innerHTML = '';\n",
       "          dataTable['output_type'] = 'display_data';\n",
       "          await google.colab.output.renderOutput(dataTable, element);\n",
       "          const docLink = document.createElement('div');\n",
       "          docLink.innerHTML = docLinkHtml;\n",
       "          element.appendChild(docLink);\n",
       "        }\n",
       "      </script>\n",
       "    </div>\n",
       "  </div>\n",
       "  "
      ],
      "text/plain": [
       "                                     Number_negative_reviews\n",
       "name                                                        \n",
       "Applebee's Grill + Bar                                   153\n",
       "Dadz Bar & Grill                                           4\n",
       "Tony Roni's Pizza Plymouth Meeting                         1\n",
       "Cedar Lounge                                               1\n",
       "Twilight Tavern                                            1\n",
       "...                                                      ...\n",
       "Tacos De Oro                                               1\n",
       "Danny's Wok 3                                              1\n",
       "Taziki's Mediterranean Cafe - Tampa                        1\n",
       "Lew's Seafood Takeout Shop                                 1\n",
       "Islands Cantina                                            1\n",
       "\n",
       "[9520 rows x 1 columns]"
      ]
     },
     "execution_count": 89,
     "metadata": {},
     "output_type": "execute_result"
    }
   ],
   "source": [
    ""
   ]
  },
  {
   "cell_type": "code",
   "execution_count": null,
   "metadata": {
    "colab": {
     "base_uri": "https://localhost:8080/",
     "height": 748
    },
    "id": "D9s6XgIpe8LT",
    "outputId": "a30594d9-697d-4891-befe-cad683203ed2"
   },
   "outputs": [
    {
     "data": {
      "text/plain": [
       "<matplotlib.legend.Legend at 0x7f2c8d7d6710>"
      ]
     },
     "execution_count": 109,
     "metadata": {},
     "output_type": "execute_result"
    },
    {
     "data": {
      "image/png": "[encoded data removed]",
      "text/plain": [
       "<Figure size 720x720 with 1 Axes>"
      ]
     },
     "metadata": {},
     "output_type": "display_data"
    }
   ],
   "source": [
    "#Percentage of negative reviews top and bottom 5\n",
    "neg_rev_num=restaurant_reviews.filter(restaurant_reviews.labels == \"negative\").groupby(\"name\").count().withColumnRenamed(\"count\",\"Number_negative_reviews\").toPandas().set_index('name')\n",
    "neg_rev_num\n",
    "temp=restaurant_reviews.groupby(\"name\").count().withColumnRenamed(\"count\",\"total_reviews\").toPandas().set_index('name')\n",
    "temp\n",
    "neg_rev_num['total_review_count']=temp\n",
    "neg_rev_num\n",
    "neg_rev_num['percentage']= (neg_rev_num['Number_negative_reviews']/neg_rev_num['total_review_count'])*100\n",
    "\n",
    "neg_rev_num=neg_rev_num.sort_values(\"percentage\")\n",
    "\n",
    "neg_rev_num.head(5).append(neg_rev_num[neg_rev_num.total_review_count>20].tail(5))['percentage'][:].plot(kind='bar',figsize=(10,10)).legend(title='Percentage of negative reviews top and bottom 5')\n"
   ]
  },
  {
   "cell_type": "code",
   "execution_count": null,
   "metadata": {
    "id": "v4Njj6ADfWuU"
   },
   "outputs": [],
   "source": [
    ""
   ]
  },
  {
   "cell_type": "code",
   "execution_count": null,
   "metadata": {
    "id": "0BX8z5DXa6k8"
   },
   "outputs": [],
   "source": [
    ""
   ]
  },
  {
   "cell_type": "code",
   "execution_count": null,
   "metadata": {
    "colab": {
     "base_uri": "https://localhost:8080/",
     "height": 463
    },
    "id": "oTaCQBQoK4YT",
    "outputId": "bbd664d2-1f9b-4710-80a5-b0d75f94ea6b"
   },
   "outputs": [
    {
     "name": "stderr",
     "output_type": "stream",
     "text": [
      "/usr/local/lib/python3.7/dist-packages/seaborn/_decorators.py:43: FutureWarning: Pass the following variables as keyword args: x, y. From version 0.12, the only valid positional argument will be `data`, and passing other arguments without an explicit keyword will result in an error or misinterpretation.\n",
      "  FutureWarning\n"
     ]
    },
    {
     "data": {
      "image/png": "[encoded data removed]",
      "text/plain": [
       "<Figure size 792x432 with 1 Axes>"
      ]
     },
     "metadata": {},
     "output_type": "display_data"
    }
   ],
   "source": [
    "plt.figure(figsize=(11,6))\n",
    "\n",
    "grouped = data_reviews.state.value_counts()\n",
    "\n",
    "sns.barplot(grouped.index, grouped.values,palette=sns.color_palette(\"inferno\", len(grouped)) )\n",
    "plt.ylabel('Number of restaurants')\n",
    "plt.xlabel('State')\n",
    "plt.title('Count of Restaurants by State')\n",
    "\n",
    "for  i, v in enumerate(grouped):\n",
    "    plt.text(i, v*1.02, str(v), horizontalalignment ='center')"
   ]
  },
  {
   "cell_type": "markdown",
   "metadata": {
    "id": "CKix8MuYMR0z"
   },
   "source": [
    "### Distribution of restaurants in each state"
   ]
  },
  {
   "cell_type": "code",
   "execution_count": null,
   "metadata": {
    "colab": {
     "base_uri": "https://localhost:8080/",
     "height": 463
    },
    "id": "E2bG-LyOMHcN",
    "outputId": "e25c49da-9999-4f55-96a0-9bbc6446647d"
   },
   "outputs": [
    {
     "name": "stderr",
     "output_type": "stream",
     "text": [
      "/usr/local/lib/python3.7/dist-packages/seaborn/_decorators.py:43: FutureWarning: Pass the following variables as keyword args: x, y. From version 0.12, the only valid positional argument will be `data`, and passing other arguments without an explicit keyword will result in an error or misinterpretation.\n",
      "  FutureWarning\n"
     ]
    },
    {
     "data": {
      "image/png": "[encoded data removed]",
      "text/plain": [
       "<Figure size 792x432 with 1 Axes>"
      ]
     },
     "metadata": {},
     "output_type": "display_data"
    }
   ],
   "source": [
    "plt.figure(figsize=(11,6))\n",
    "\n",
    "grouped = df.state.value_counts()\n",
    "\n",
    "sns.barplot(grouped.index, grouped.values,palette=sns.color_palette(\"inferno\", len(grouped)) )\n",
    "plt.ylabel('Number of restaurants')\n",
    "plt.xlabel('State')\n",
    "plt.title('Count of Restaurants by State')\n",
    "\n",
    "for  i, v in enumerate(grouped):\n",
    "    plt.text(i, v*1.02, str(v), horizontalalignment ='center')"
   ]
  },
  {
   "cell_type": "markdown",
   "metadata": {
    "id": "lSOSX1l_M5Ez"
   },
   "source": [
    "## Reviews Distribution\n",
    "### Distribution of reviews by cuisine type"
   ]
  },
  {
   "cell_type": "code",
   "execution_count": null,
   "metadata": {
    "colab": {
     "base_uri": "https://localhost:8080/",
     "height": 462
    },
    "id": "9KuWxm38Ma7S",
    "outputId": "f1bac388-8f1b-4e98-f8b3-1c704e440409"
   },
   "outputs": [
    {
     "data": {
      "image/png": "[encoded data removed]",
      "text/plain": [
       "<Figure size 792x504 with 1 Axes>"
      ]
     },
     "metadata": {},
     "output_type": "display_data"
    }
   ],
   "source": [
    "plt.figure(figsize=(11,7))\n",
    "grouped = df.groupby('category')['review_count'].sum().sort_values(ascending = False)\n",
    "\n",
    "sns.barplot(y=grouped.index, x = grouped.values, palette = sns.color_palette(\"inferno\", len(grouped)) )\n",
    "\n",
    "plt.ylabel('Category')\n",
    "plt.xlabel('Count of reviews')\n",
    "plt.title('Count of Reviews by Cuisine Type')\n",
    "\n",
    "for i,v in enumerate(grouped):\n",
    "    plt.text(v, i+0.15, str(v))\n"
   ]
  },
  {
   "cell_type": "markdown",
   "metadata": {
    "id": "MEsOlxc1O2no"
   },
   "source": [
    "### Top 10 cities with most reviews"
   ]
  },
  {
   "cell_type": "code",
   "execution_count": null,
   "metadata": {
    "colab": {
     "base_uri": "https://localhost:8080/",
     "height": 461
    },
    "id": "_vd42EopOpyF",
    "outputId": "5351185c-cdb7-4330-cef6-900e3f01cf47"
   },
   "outputs": [
    {
     "name": "stderr",
     "output_type": "stream",
     "text": [
      "/usr/local/lib/python3.7/dist-packages/seaborn/_decorators.py:43: FutureWarning: Pass the following variables as keyword args: x, y. From version 0.12, the only valid positional argument will be `data`, and passing other arguments without an explicit keyword will result in an error or misinterpretation.\n",
      "  FutureWarning\n"
     ]
    },
    {
     "data": {
      "image/png": "[encoded data removed]",
      "text/plain": [
       "<Figure size 792x432 with 1 Axes>"
      ]
     },
     "metadata": {},
     "output_type": "display_data"
    }
   ],
   "source": [
    "plt.figure(figsize=(11,6))\n",
    "\n",
    "grouped = df.groupby('city')['review_count'].sum().sort_values(ascending=False)[:10]\n",
    "\n",
    "sns.barplot(grouped.index, grouped.values, palette=sns.color_palette(\"inferno\", len(grouped)) )\n",
    "plt.xlabel('City')\n",
    "plt.ylabel('Count')\n",
    "plt.title('Count of Reviews by City (Top 10)')\n",
    "\n",
    "plt.xticks(rotation=15)\n",
    "for  i, v in enumerate(grouped):\n",
    "    plt.text(i, v*1.02, str(v), horizontalalignment ='center')"
   ]
  },
  {
   "cell_type": "markdown",
   "metadata": {
    "id": "5MA-zfeFPNrJ"
   },
   "source": [
    "### Top 9 restaurants with most reviews"
   ]
  },
  {
   "cell_type": "code",
   "execution_count": null,
   "metadata": {
    "colab": {
     "base_uri": "https://localhost:8080/",
     "height": 414
    },
    "id": "YpBS3I5pPAwh",
    "outputId": "9d5f3c60-c203-4c9f-ed8e-422403b9025c"
   },
   "outputs": [
    {
     "data": {
      "image/png": "[encoded data removed]",
      "text/plain": [
       "<Figure size 792x432 with 1 Axes>"
      ]
     },
     "metadata": {},
     "output_type": "display_data"
    }
   ],
   "source": [
    "plt.figure(figsize=(11,6))\n",
    "\n",
    "grouped = df[['name','review_count']].sort_values(by='review_count', ascending=False)[:9]\n",
    "\n",
    "sns.barplot(x=grouped.review_count, y = grouped.name, palette=sns.color_palette(\"inferno\", len(grouped)), ci=None)\n",
    "plt.xlabel('Count of Review')\n",
    "plt.ylabel('Restaurants')\n",
    "plt.title('TOP 9 Restaurants with Most Reviews')\n",
    "\n",
    "plt.xticks(rotation=15)\n",
    "for  i, v in enumerate(grouped.review_count):\n",
    "    plt.text(v, i, str(v))"
   ]
  },
  {
   "cell_type": "markdown",
   "metadata": {
    "id": "IKKjXi26PZDV"
   },
   "source": [
    "###  Average length of reviews"
   ]
  },
  {
   "cell_type": "code",
   "execution_count": null,
   "metadata": {
    "colab": {
     "base_uri": "https://localhost:8080/",
     "height": 505
    },
    "id": "grYc0MgqPWxZ",
    "outputId": "ae2d0acd-5733-4bc5-b758-118b4ea8826c"
   },
   "outputs": [
    {
     "data": {
      "image/png": "[encoded data removed]",
      "text/plain": [
       "<Figure size 792x576 with 2 Axes>"
      ]
     },
     "metadata": {},
     "output_type": "display_data"
    }
   ],
   "source": [
    "df_rr = restaurant_reviews.toPandas()\n",
    "\n",
    "table = df_rr.groupby(['category','labels'])['review_length'].mean().round().unstack()\n",
    "plt.figure(figsize=(11,8))\n",
    "\n",
    "sns.heatmap(table, cmap='inferno', fmt='g',annot=True, linewidths=1)\n",
    "\n",
    "plt.tick_params(labelsize=15)"
   ]
  },
  {
   "cell_type": "code",
   "execution_count": null,
   "metadata": {
    "colab": {
     "base_uri": "https://localhost:8080/",
     "height": 626
    },
    "id": "dtyohvRAdmwk",
    "outputId": "b43e33d4-ee9c-489f-e75f-3fbb8e0596f3"
   },
   "outputs": [
    {
     "data": {
      "text/plain": [
       "<matplotlib.axes._subplots.AxesSubplot at 0x7f0545518990>"
      ]
     },
     "execution_count": 80,
     "metadata": {},
     "output_type": "execute_result"
    },
    {
     "data": {
      "image/png": "[encoded data removed]",
      "text/plain": [
       "<Figure size 720x720 with 1 Axes>"
      ]
     },
     "metadata": {},
     "output_type": "display_data"
    }
   ],
   "source": [
    "# Top 5 restaurants with longest reviews\n",
    "restaurant_reviews.groupby(\"name\").mean().select(\"name\",\"avg(review_length)\").sort(\"avg(review_length)\",ascending=False).toPandas().set_index('name')[:5].plot(figsize=(10, 10),legend=True)"
   ]
  },
  {
   "cell_type": "markdown",
   "metadata": {
    "id": "0lJKPDooRD4E"
   },
   "source": [
    "## Ratings Distribution\n",
    "### Distribution of average ratings by restaurants"
   ]
  },
  {
   "cell_type": "code",
   "execution_count": null,
   "metadata": {
    "colab": {
     "base_uri": "https://localhost:8080/",
     "height": 443
    },
    "id": "ChlKnSeyPtlP",
    "outputId": "561dd4d6-257a-4106-ca35-45ab569dd8c5"
   },
   "outputs": [
    {
     "name": "stderr",
     "output_type": "stream",
     "text": [
      "/usr/local/lib/python3.7/dist-packages/seaborn/_decorators.py:43: FutureWarning: Pass the following variables as keyword args: x, y. From version 0.12, the only valid positional argument will be `data`, and passing other arguments without an explicit keyword will result in an error or misinterpretation.\n",
      "  FutureWarning\n"
     ]
    },
    {
     "data": {
      "image/png": "[encoded data removed]",
      "text/plain": [
       "<Figure size 792x432 with 1 Axes>"
      ]
     },
     "metadata": {},
     "output_type": "display_data"
    }
   ],
   "source": [
    "plt.figure(figsize=(11,6))\n",
    "\n",
    "grouped = df.avg_stars.value_counts().sort_index()\n",
    "sns.barplot(grouped.index, grouped.values, palette=sns.color_palette(\"inferno\", len(grouped)))\n",
    "plt.xlabel('Average Rating')\n",
    "plt.ylabel('Count of restaurants')\n",
    "plt.title('Count of Restaurants against Ratings')\n",
    "\n",
    "for  i, v in enumerate(grouped):\n",
    "    plt.text(i, v*1.02, str(v), horizontalalignment ='center')"
   ]
  },
  {
   "cell_type": "markdown",
   "metadata": {
    "id": "nY3_SkvWRsnD"
   },
   "source": [
    "### Distribution of ratings by reviews"
   ]
  },
  {
   "cell_type": "code",
   "execution_count": null,
   "metadata": {
    "colab": {
     "base_uri": "https://localhost:8080/",
     "height": 497
    },
    "id": "Gu3KNjbgRSjb",
    "outputId": "2ccd5466-bd6a-40da-da01-fbaddb9531b0"
   },
   "outputs": [
    {
     "name": "stderr",
     "output_type": "stream",
     "text": [
      "/usr/local/lib/python3.7/dist-packages/seaborn/_decorators.py:43: FutureWarning: Pass the following variables as keyword args: x, y. From version 0.12, the only valid positional argument will be `data`, and passing other arguments without an explicit keyword will result in an error or misinterpretation.\n",
      "  FutureWarning\n"
     ]
    },
    {
     "data": {
      "image/png": "[encoded data removed]",
      "text/plain": [
       "<Figure size 792x504 with 1 Axes>"
      ]
     },
     "metadata": {},
     "output_type": "display_data"
    }
   ],
   "source": [
    "plt.figure(figsize=(11,7))\n",
    "\n",
    "grouped = df_rr.stars.value_counts().sort_index()\n",
    "sns.barplot(grouped.index, grouped.values, palette=sns.color_palette(\"inferno\", len(grouped)))\n",
    "\n",
    "plt.xlabel('Review Rating')\n",
    "plt.ylabel('Count of reviews')\n",
    "plt.title('Count of Reviews against Rating')\n",
    "\n",
    "for  i, v in enumerate(grouped):\n",
    "    plt.text(i, v*1.02, str(v), horizontalalignment ='center')"
   ]
  },
  {
   "cell_type": "markdown",
   "metadata": {
    "id": "MuPJwpuCSEnW"
   },
   "source": [
    "## Review Analysis\n",
    "\n",
    "### Positive words and negative words"
   ]
  },
  {
   "cell_type": "code",
   "execution_count": null,
   "metadata": {
    "id": "e-1kWf-hR9AH"
   },
   "outputs": [],
   "source": [
    "import csv\n",
    "from sklearn.model_selection import train_test_split\n",
    "from sklearn.feature_extraction.text import CountVectorizer\n",
    "from sklearn.feature_extraction.text import CountVectorizer\n",
    "from sklearn.svm import LinearSVC"
   ]
  },
  {
   "cell_type": "code",
   "execution_count": null,
   "metadata": {
    "colab": {
     "base_uri": "https://localhost:8080/"
    },
    "id": "lX9hYLVZSMP1",
    "outputId": "535626a1-e8d4-49db-f009-53611a31f505"
   },
   "outputs": [
    {
     "name": "stdout",
     "output_type": "stream",
     "text": [
      "+----------------------+----+-------------------+-----+--------------------+-----+--------------------+------+--------------------+--------------------+--------------------+--------------------+--------------------+---------------+--------------------+-------+-------------+--------------+--------------------+-----------+------------+---------+-----+--------+-------------+--------+\n",
      "|business_id_duplicated|cool|               date|funny|           review_id|stars|                text|useful|             user_id|             address|          attributes|         business_id|          categories|           city|               hours|is_open|     latitude|     longitude|                name|postal_code|review_count|avg_stars|state|category|review_length|  labels|\n",
      "+----------------------+----+-------------------+-----+--------------------+-----+--------------------+------+--------------------+--------------------+--------------------+--------------------+--------------------+---------------+--------------------+-------+-------------+--------------+--------------------+-----------+------------+---------+-----+--------+-------------+--------+\n",
      "|  ---kPU91CF4Lq2-Wl...|   0|2020-09-05 20:09:03|    0|gzXaxjjTnrJJuG_gq...|  5.0|absolutely fantas...|     0|ey8tdgUgC2tFqw2df...|    4903 State Rd 54|{null, null, u'no...|---kPU91CF4Lq2-Wl...|Seafood, Restaura...|New Port Richey|{11:0-22:0, 0:0-0...|      1|   28.2172884|   -82.7333444|   Frankie's Raw Bar|      34652|          24|      4.5|   FL|American|           17|positive|\n",
      "|  --ZVrH2X2QXBFdCil...|   0|2015-04-08 20:11:02|    0|Bfv8fl0rYSv4S3lGA...|  5.0|i think this sand...|     1|9NFgiY_BLhODi93vb...| 1531 W Wynnewood Rd|{null, null, u'no...|--ZVrH2X2QXBFdCil...|American (Traditi...|        Ardmore|{11:0-21:0, 11:0-...|      0|   39.9972988|   -75.2922074|Chris's Sandwich ...|      19003|          32|      4.5|   PA|American|           65|positive|\n",
      "|  --ZVrH2X2QXBFdCil...|   3|2008-03-24 21:54:32|    2|tmmqnClYkkMMtAFGU...|  5.0|youve all heard t...|     7|HZRfI9weev2Vr_w0j...| 1531 W Wynnewood Rd|{null, null, u'no...|--ZVrH2X2QXBFdCil...|American (Traditi...|        Ardmore|{11:0-21:0, 11:0-...|      0|   39.9972988|   -75.2922074|Chris's Sandwich ...|      19003|          32|      4.5|   PA|American|          203|positive|\n",
      "|  --ZVrH2X2QXBFdCil...|   0|2015-01-09 21:57:01|    0|JxF41Y9WHQJINIhff...|  5.0|perfect hoagies a...|     1|KfDyITIWtA8h3dr_4...| 1531 W Wynnewood Rd|{null, null, u'no...|--ZVrH2X2QXBFdCil...|American (Traditi...|        Ardmore|{11:0-21:0, 11:0-...|      0|   39.9972988|   -75.2922074|Chris's Sandwich ...|      19003|          32|      4.5|   PA|American|           84|positive|\n",
      "|  --ZVrH2X2QXBFdCil...|   0|2017-05-06 21:54:36|    0|gDSj8le0w_iOwXQuH...|  4.0|so this was just ...|     2|GoeHBmVr2bb395Zb7...| 1531 W Wynnewood Rd|{null, null, u'no...|--ZVrH2X2QXBFdCil...|American (Traditi...|        Ardmore|{11:0-21:0, 11:0-...|      0|   39.9972988|   -75.2922074|Chris's Sandwich ...|      19003|          32|      4.5|   PA|American|           85|positive|\n",
      "|  -0EdehHjIQc0DtYU8...|   0|2017-02-02 03:16:17|    0|m7uNBa09CY7CUIjoh...|  5.0|i live 2 miles aw...|     0|siWSFOHE8HFcwazRQ...|7040 Land O Lakes...|{null, null, null...|-0EdehHjIQc0DtYU8...|Restaurants, Chinese|   Land O Lakes|                null|      1|   28.2601545|   -82.4748164|New Tung Tung Two...|      34638|          35|      3.0|   FL| Chinese|           81|positive|\n",
      "|  -0FX23yAacC4bbLaG...|   0|2021-10-06 18:51:00|    0|RGyU8xZE8c7zVhC2M...|  5.0|we had the most f...|     1|c88Hk7eXBNJrGOB_4...|552 Washington Cr...|{null, null, u'fu...|-0FX23yAacC4bbLaG...|American (Traditi...|        Newtown|{12:0-21:0, null,...|      1|40.2560822087|-74.9169758062|The Grey Stone Fi...|      18940|         155|      3.5|   PA|American|          157|positive|\n",
      "|  -0FX23yAacC4bbLaG...|   0|2021-10-16 12:12:49|    0|siK1UZ78T-yHrL52S...|  5.0|on oct 13 greysto...|     0|2tNXAqKNoKqX_sMkA...|552 Washington Cr...|{null, null, u'fu...|-0FX23yAacC4bbLaG...|American (Traditi...|        Newtown|{12:0-21:0, null,...|      1|40.2560822087|-74.9169758062|The Grey Stone Fi...|      18940|         155|      3.5|   PA|American|           39|positive|\n",
      "|  -0TffRSXXIlBYVbb5...|   0|2013-08-03 13:56:04|    0|UHJEcS_6Kf19h4QYO...|  5.0|this is a fabulou...|     5|Mj8mM0pGHEsTLn5uu...|   205 South 13th St|{null, null, u'fu...|-0TffRSXXIlBYVbb5...|Cocktail Bars, Fo...|   Philadelphia|{16:0-23:0, 0:0-0...|      1|39.9485078263|-75.1619688173|IndeBlue Modern I...|      19107|        1097|      4.5|   PA|  Indian|          111|positive|\n",
      "|  -0TffRSXXIlBYVbb5...|   0|2016-11-17 00:58:40|    0|n9GwX7OvEu5KTm7-A...|  4.0|expensive had a f...|     0|eofDWMecLSrGwIZs1...|   205 South 13th St|{null, null, u'fu...|-0TffRSXXIlBYVbb5...|Cocktail Bars, Fo...|   Philadelphia|{16:0-23:0, 0:0-0...|      1|39.9485078263|-75.1619688173|IndeBlue Modern I...|      19107|        1097|      4.5|   PA|  Indian|           46|positive|\n",
      "|  -0TffRSXXIlBYVbb5...|   0|2019-04-08 22:41:42|    0|0YOZDSXPP-5HBlpBe...|  5.0|i have eaten here...|     1|Nfddrl4wLxFW1c7EY...|   205 South 13th St|{null, null, u'fu...|-0TffRSXXIlBYVbb5...|Cocktail Bars, Fo...|   Philadelphia|{16:0-23:0, 0:0-0...|      1|39.9485078263|-75.1619688173|IndeBlue Modern I...|      19107|        1097|      4.5|   PA|  Indian|           79|positive|\n",
      "|  -0TffRSXXIlBYVbb5...|   2|2013-07-30 06:00:55|    0|Oc8yCatoIT2dp0MXT...|  5.0|we ate here the o...|     5|a-8ZuiQk4EsWgebrG...|   205 South 13th St|{null, null, u'fu...|-0TffRSXXIlBYVbb5...|Cocktail Bars, Fo...|   Philadelphia|{16:0-23:0, 0:0-0...|      1|39.9485078263|-75.1619688173|IndeBlue Modern I...|      19107|        1097|      4.5|   PA|  Indian|          380|positive|\n",
      "|  -0TffRSXXIlBYVbb5...|   1|2017-10-09 00:58:21|    0|axZ7DB3zVV1LdV8tb...|  5.0|we celebrated our...|     2|2yaDqd8M6ESBu_hbc...|   205 South 13th St|{null, null, u'fu...|-0TffRSXXIlBYVbb5...|Cocktail Bars, Fo...|   Philadelphia|{16:0-23:0, 0:0-0...|      1|39.9485078263|-75.1619688173|IndeBlue Modern I...|      19107|        1097|      4.5|   PA|  Indian|           74|positive|\n",
      "|  -0TffRSXXIlBYVbb5...|   0|2017-06-07 21:48:30|    0|vbfXHX0mQDQFWm-w6...|  5.0|this is a very co...|     1|oYCbUgZm76GdzTMbH...|   205 South 13th St|{null, null, u'fu...|-0TffRSXXIlBYVbb5...|Cocktail Bars, Fo...|   Philadelphia|{16:0-23:0, 0:0-0...|      1|39.9485078263|-75.1619688173|IndeBlue Modern I...|      19107|        1097|      4.5|   PA|  Indian|          175|positive|\n",
      "|  -0TffRSXXIlBYVbb5...|   0|2014-06-16 17:19:16|    0|eVrRCJxi7EA6Mz-Xp...|  5.0|came here for sat...|     1|_Snvv_nGfpctBG4OO...|   205 South 13th St|{null, null, u'fu...|-0TffRSXXIlBYVbb5...|Cocktail Bars, Fo...|   Philadelphia|{16:0-23:0, 0:0-0...|      1|39.9485078263|-75.1619688173|IndeBlue Modern I...|      19107|        1097|      4.5|   PA|  Indian|          239|positive|\n",
      "|  -0TffRSXXIlBYVbb5...|   2|2015-08-10 22:51:13|    0|VoHA31ER_gPEsqGj0...|  5.0|excellent indian ...|     2|X502HW78qhp_t8o4p...|   205 South 13th St|{null, null, u'fu...|-0TffRSXXIlBYVbb5...|Cocktail Bars, Fo...|   Philadelphia|{16:0-23:0, 0:0-0...|      1|39.9485078263|-75.1619688173|IndeBlue Modern I...|      19107|        1097|      4.5|   PA|  Indian|           16|positive|\n",
      "|  -0TffRSXXIlBYVbb5...|   0|2021-02-04 17:19:00|    0|l_wh_MtBeY4WMyoNK...|  5.0|i wish i could ea...|     1|vFdWLzeX73xetI7M7...|   205 South 13th St|{null, null, u'fu...|-0TffRSXXIlBYVbb5...|Cocktail Bars, Fo...|   Philadelphia|{16:0-23:0, 0:0-0...|      1|39.9485078263|-75.1619688173|IndeBlue Modern I...|      19107|        1097|      4.5|   PA|  Indian|           57|positive|\n",
      "|  -0TffRSXXIlBYVbb5...|   2|2014-12-04 23:56:08|    0|7nFiUZ3XntWlmL_cu...|  5.0|great place for a...|     2|nwuyUKjZlXukv0d0j...|   205 South 13th St|{null, null, u'fu...|-0TffRSXXIlBYVbb5...|Cocktail Bars, Fo...|   Philadelphia|{16:0-23:0, 0:0-0...|      1|39.9485078263|-75.1619688173|IndeBlue Modern I...|      19107|        1097|      4.5|   PA|  Indian|          389|positive|\n",
      "|  -0TffRSXXIlBYVbb5...|   1|2017-01-03 20:46:56|    0|cpZt0nvNdXOaQeMpD...|  5.0|friends and i ent...|     2|IH0ToaZ8hJXO2pVie...|   205 South 13th St|{null, null, u'fu...|-0TffRSXXIlBYVbb5...|Cocktail Bars, Fo...|   Philadelphia|{16:0-23:0, 0:0-0...|      1|39.9485078263|-75.1619688173|IndeBlue Modern I...|      19107|        1097|      4.5|   PA|  Indian|          177|positive|\n",
      "|  -0TffRSXXIlBYVbb5...|   0|2018-08-25 12:34:18|    0|KcTGXdkbPhrSvW5eH...|  4.0|really good moder...|     2|MmUvhVk6gKzDEx91H...|   205 South 13th St|{null, null, u'fu...|-0TffRSXXIlBYVbb5...|Cocktail Bars, Fo...|   Philadelphia|{16:0-23:0, 0:0-0...|      1|39.9485078263|-75.1619688173|IndeBlue Modern I...|      19107|        1097|      4.5|   PA|  Indian|           60|positive|\n",
      "+----------------------+----+-------------------+-----+--------------------+-----+--------------------+------+--------------------+--------------------+--------------------+--------------------+--------------------+---------------+--------------------+-------+-------------+--------------+--------------------+-----------+------------+---------+-----+--------+-------------+--------+\n",
      "only showing top 20 rows\n",
      "\n"
     ]
    }
   ],
   "source": [
    "## convert text to lower case\n",
    "from pyspark.sql.functions import lower, col\n",
    "restaurant_reviews = restaurant_reviews.withColumn(\"text\", lower(restaurant_reviews[\"text\"]))\n",
    "restaurant_reviews.show()\n",
    "\n"
   ]
  },
  {
   "cell_type": "code",
   "execution_count": null,
   "metadata": {
    "colab": {
     "base_uri": "https://localhost:8080/"
    },
    "id": "n3qpjLSyirxq",
    "outputId": "f452ccf0-513a-4ed4-f2b2-cecb4bf21a45"
   },
   "outputs": [
    {
     "name": "stdout",
     "output_type": "stream",
     "text": [
      "+--------------------+--------+\n",
      "|                text|  labels|\n",
      "+--------------------+--------+\n",
      "|as a local new or...|positive|\n",
      "|this has been my ...|positive|\n",
      "|the atmosphere is...|negative|\n",
      "|cant wait to get ...|positive|\n",
      "|i am a vegetarian...|negative|\n",
      "|i came here for m...|positive|\n",
      "|quoted 10 minutes...|negative|\n",
      "|lots of breweries...|positive|\n",
      "|so me and my wife...|negative|\n",
      "|best mexican food...|positive|\n",
      "|i have been wanti...|positive|\n",
      "|new owner have ta...|positive|\n",
      "|quickly becoming ...|positive|\n",
      "|i love this place...|positive|\n",
      "|this is one of my...|positive|\n",
      "|food was ok  noth...|negative|\n",
      "|hanging out waiti...|positive|\n",
      "|delicious my husb...|positive|\n",
      "|delicious food my...|positive|\n",
      "|we stopped in on ...|positive|\n",
      "+--------------------+--------+\n",
      "only showing top 20 rows\n",
      "\n"
     ]
    }
   ],
   "source": [
    "df=restaurant_reviews.select(\"text\",\"labels\")\n",
    "df.show()"
   ]
  },
  {
   "cell_type": "code",
   "execution_count": null,
   "metadata": {
    "colab": {
     "base_uri": "https://localhost:8080/"
    },
    "id": "KvZcusQC0a6W",
    "outputId": "6b4df3e3-e4c7-41f6-e53e-dd76a2d3bba1"
   },
   "outputs": [
    {
     "name": "stdout",
     "output_type": "stream",
     "text": [
      "+--------------------------------------------------------------------------------------------------------------------------------------------------------------------------------------------------------------------------------------------------------------------------------------------------------------------------------------------------------------------------------------------------------------------------------------------------------------------------------------------------------------------------------------------------------------------------------------------------------------------------------------------------------------------------------------------------------------------------------------------------------------------------------------------------------------------------------------------------------------------------------+\n",
      "|text                                                                                                                                                                                                                                                                                                                                                                                                                                                                                                                                                                                                                                                                                                                                                                                                                                                                            |\n",
      "+--------------------------------------------------------------------------------------------------------------------------------------------------------------------------------------------------------------------------------------------------------------------------------------------------------------------------------------------------------------------------------------------------------------------------------------------------------------------------------------------------------------------------------------------------------------------------------------------------------------------------------------------------------------------------------------------------------------------------------------------------------------------------------------------------------------------------------------------------------------------------------+\n",
      "|as a local new orleanian the area has many vietnamese restaurants to choose from td pho house is an moderneclectic restaurant combining authentic vietnamese dishes with the local flavors of louisiana located in the west bank you are able to reap the benefits of lower prices as compared to the city without sacrificing quality and customer service give them a visit and leave feeling satisfied and full                                                                                                                                                                                                                                                                                                                                                                                                                                                              |\n",
      "|this has been my go to banh mi spot for over a year now i could not ride harder for this place\\n\\nupon entering youll notice its a 1 woman shop while she also keeps her kid in the back and entertained very very impressive in my opinion despite this she does not disappoint\\n\\ni get the banh mi dac biet every time cut in half with extra carrots and daikon which she gladly adds at no extra charge it is consistently the best dac biet banh mi ive had in pinellas county and of all the shops ive been to perfectly toasted bun and great flavor in every bite for only 4\\n\\ni do also enjoy the thit nuong banh mi which is also very good for 5 i also recommend the vietnamese coffee good portions and great as always \\n\\nabsolutely love this place and recommend it to anyone searching for a banh mi in pinellas park                                       |\n",
      "|the atmosphere is pleasant and well designed  the hostess was friendly but the meal was less than acceptable  my soup was watery and i couldnt eat my sandwich  the waitress never asked us if the food was acceptable and i send my full plate back to the kitchen  a future visit will not be in the cards                                                                                                                                                                                                                                                                                                                                                                                                                                                                                                                                                                    |\n",
      "|cant wait to get back intimate and divey smells to tempt great music  wallpaper                                                                                                                                                                                                                                                                                                                                                                                                                                                                                                                                                                                                                                                                                                                                                                                                 |\n",
      "|i am a vegetarian i will ever come here again i was told that there were no vegetarian options yet my friend ordered a salad for me and i paid for my own salad even though he paid for mine so i deserve a refund for that i will never go back to this place i was treated very inappropriately by an african american woman with long hair and another with short hair when i asked for the simplest vegetarian option the woman at the register was the most helpful the employees working the food told me that i couldnt eat anything on the menu the woman at the register tonight deserves a raise  she knew more about the menu than the women and man working the food regardless of her i will never return  \\ngay pizza is more accommodating than this establishment im sorry i wasted over an hour of my time here and left with a salad that still had meat in it|\n",
      "+--------------------------------------------------------------------------------------------------------------------------------------------------------------------------------------------------------------------------------------------------------------------------------------------------------------------------------------------------------------------------------------------------------------------------------------------------------------------------------------------------------------------------------------------------------------------------------------------------------------------------------------------------------------------------------------------------------------------------------------------------------------------------------------------------------------------------------------------------------------------------------+\n",
      "only showing top 5 rows\n",
      "\n"
     ]
    }
   ],
   "source": [
    "df.select(\"text\").show(5,truncate=False)"
   ]
  },
  {
   "cell_type": "code",
   "execution_count": null,
   "metadata": {
    "colab": {
     "base_uri": "https://localhost:8080/"
    },
    "id": "oANJ30KBiygn",
    "outputId": "21854720-ee73-4364-de28-d1cb3d6f9b18"
   },
   "outputs": [
    {
     "data": {
      "text/plain": [
       "119324"
      ]
     },
     "execution_count": 127,
     "metadata": {},
     "output_type": "execute_result"
    }
   ],
   "source": [
    "df = df.dropna()\n",
    "df.count()"
   ]
  },
  {
   "cell_type": "code",
   "execution_count": null,
   "metadata": {
    "id": "nbuJV_EQjMBp"
   },
   "outputs": [],
   "source": [
    "(train_set, val_set, test_set) = df.randomSplit([0.80, 0.10, 0.10], seed = 2000)"
   ]
  },
  {
   "cell_type": "code",
   "execution_count": null,
   "metadata": {
    "colab": {
     "base_uri": "https://localhost:8080/"
    },
    "id": "K75vQgZGjVik",
    "outputId": "f85559f0-2d75-4a6c-9cab-05c9cd6d158a"
   },
   "outputs": [
    {
     "name": "stdout",
     "output_type": "stream",
     "text": [
      "+--------------------+--------+--------------------+--------------------+--------------------+-----+\n",
      "|                text|  labels|               words|                  tf|            features|label|\n",
      "+--------------------+--------+--------------------+--------------------+--------------------+-----+\n",
      "|                    |positive|                  []|(65536,[52572],[1...|(65536,[52572],[0...|  0.0|\n",
      "|                  \\n|positive|                  []|       (65536,[],[])|       (65536,[],[])|  0.0|\n",
      "|\\n\\n\\n\\n 2012 dun...|positive|[, , , , , 2012, ...|(65536,[31058,387...|(65536,[31058,387...|  0.0|\n",
      "|\\n\\n\\nconcise rev...|positive|[, , , concise, r...|(65536,[178,1587,...|(65536,[178,1587,...|  0.0|\n",
      "|\\n\\n\\nwwwwwwwwwww...|negative|[, , , wwwwwwwwww...|(65536,[47183,525...|(65536,[47183,525...|  1.0|\n",
      "|            \\n\\nin\\n|positive|            [, , in]|(65536,[52572,542...|(65536,[52572,542...|  0.0|\n",
      "|           \\n       |positive|                  []|       (65536,[],[])|       (65536,[],[])|  0.0|\n",
      "|\\nread the yelp r...|negative|[, read, the, yel...|(65536,[329,714,1...|(65536,[329,714,1...|  1.0|\n",
      "|   saturday night...|negative|[, , , saturday, ...|(65536,[308,389,5...|(65536,[308,389,5...|  1.0|\n",
      "|  i second every ...|positive|[, , i, second, e...|(65536,[1880,1981...|(65536,[1880,1981...|  0.0|\n",
      "| breakfastbrunch ...|positive|[, breakfastbrunc...|(65536,[308,1257,...|(65536,[308,1257,...|  0.0|\n",
      "| covid breeding g...|negative|[, covid, breedin...|(65536,[81,835,11...|(65536,[81,835,11...|  1.0|\n",
      "| hidden gem of me...|positive|[, hidden, gem, o...|(65536,[1981,3014...|(65536,[1981,3014...|  0.0|\n",
      "| loud  could bare...|negative|[, loud, , could,...|(65536,[308,1198,...|(65536,[308,1198,...|  1.0|\n",
      "| my bffs fave for...|positive|[, my, bffs, fave...|(65536,[991,1198,...|(65536,[991,1198,...|  0.0|\n",
      "| my granddaughter...|positive|[, my, granddaugh...|(65536,[13432,223...|(65536,[13432,223...|  0.0|\n",
      "| named after thei...|positive|[, named, after, ...|(65536,[308,1573,...|(65536,[308,1573,...|  0.0|\n",
      "| nice staff \\n bo...|positive|[, nice, staff, ,...|(65536,[517,9704,...|(65536,[517,9704,...|  0.0|\n",
      "| of visits 9\\nfoo...|positive|[, of, visits, 9,...|(65536,[1880,2359...|(65536,[1880,2359...|  0.0|\n",
      "| overall bbq spot...|positive|[, overall, bbq, ...|(65536,[1880,2568...|(65536,[1880,2568...|  0.0|\n",
      "| pyramid roll  \\n...|positive|[, pyramid, roll,...|(65536,[1880,2408...|(65536,[1880,2408...|  0.0|\n",
      "| salad bland seaw...|negative|[, salad, bland, ...|(65536,[338,774,1...|(65536,[338,774,1...|  1.0|\n",
      "| seriously the be...|positive|[, seriously, the...|(65536,[731,2685,...|(65536,[731,2685,...|  0.0|\n",
      "| simply  one of t...|positive|[, simply, , one,...|(65536,[1880,1981...|(65536,[1880,1981...|  0.0|\n",
      "| take out review\\...|positive|[, take, out, rev...|(65536,[308,513,9...|(65536,[308,513,9...|  0.0|\n",
      "| tasty food + a t...|positive|[, tasty, food, +...|(65536,[205,835,1...|(65536,[205,835,1...|  0.0|\n",
      "| that wasnt just ...|positive|[, that, wasnt, j...|(65536,[3085,5636...|(65536,[3085,5636...|  0.0|\n",
      "| the chicken korm...|negative|[, the, chicken, ...|(65536,[1257,1671...|(65536,[1257,1671...|  1.0|\n",
      "| the name doesnt ...|positive|[, the, name, doe...|(65536,[178,835,9...|(65536,[178,835,9...|  0.0|\n",
      "| they are open ag...|positive|[, they, are, ope...|(65536,[1004,1198...|(65536,[1004,1198...|  0.0|\n",
      "+--------------------+--------+--------------------+--------------------+--------------------+-----+\n",
      "only showing top 30 rows\n",
      "\n"
     ]
    }
   ],
   "source": [
    "from pyspark.ml.feature import HashingTF, IDF, Tokenizer\n",
    "from pyspark.ml.feature import StringIndexer\n",
    "from pyspark.ml import Pipeline\n",
    "\n",
    "tokenizer = Tokenizer(inputCol=\"text\", outputCol=\"words\")\n",
    "hashtf = HashingTF(numFeatures=2**16, inputCol=\"words\", outputCol='tf')\n",
    "idf = IDF(inputCol='tf', outputCol=\"features\", minDocFreq=5) #minDocFreq: remove sparse terms\n",
    "label_stringIdx = StringIndexer(inputCol = \"labels\", outputCol = \"label\")\n",
    "pipeline = Pipeline(stages=[tokenizer, hashtf, idf, label_stringIdx])\n",
    "\n",
    "pipelineFit = pipeline.fit(train_set)\n",
    "train_df = pipelineFit.transform(train_set)\n",
    "val_df = pipelineFit.transform(val_set)\n",
    "train_df.show(30)"
   ]
  },
  {
   "cell_type": "code",
   "execution_count": null,
   "metadata": {
    "id": "XmRXAndg0Ecg"
   },
   "outputs": [],
   "source": [
    "train_df.show(30)"
   ]
  },
  {
   "cell_type": "code",
   "execution_count": null,
   "metadata": {
    "colab": {
     "base_uri": "https://localhost:8080/"
    },
    "id": "9ELzHyXdjYoO",
    "outputId": "18012842-36e7-4528-a75b-d94fc6944143"
   },
   "outputs": [
    {
     "data": {
      "text/plain": [
       "0.9492387754986952"
      ]
     },
     "execution_count": 130,
     "metadata": {},
     "output_type": "execute_result"
    }
   ],
   "source": [
    "from pyspark.ml.classification import LogisticRegression\n",
    "lr = LogisticRegression(maxIter=100)\n",
    "lrModel = lr.fit(train_df)\n",
    "predictions = lrModel.transform(val_df)\n",
    "from pyspark.ml.evaluation import BinaryClassificationEvaluator\n",
    "evaluator = BinaryClassificationEvaluator(rawPredictionCol=\"rawPrediction\")\n",
    "evaluator.evaluate(predictions)"
   ]
  },
  {
   "cell_type": "code",
   "execution_count": null,
   "metadata": {
    "colab": {
     "base_uri": "https://localhost:8080/"
    },
    "id": "UjEFshgimgzc",
    "outputId": "0b17fdb0-7468-488b-a14c-ed88faba109b"
   },
   "outputs": [
    {
     "data": {
      "text/plain": [
       "0.9077800134138162"
      ]
     },
     "execution_count": 131,
     "metadata": {},
     "output_type": "execute_result"
    }
   ],
   "source": [
    "accuracy = predictions.filter(predictions.label == predictions.prediction).count() / float(val_set.count())\n",
    "accuracy"
   ]
  },
  {
   "cell_type": "code",
   "execution_count": null,
   "metadata": {
    "colab": {
     "base_uri": "https://localhost:8080/"
    },
    "id": "L2oGcSYemtvd",
    "outputId": "4c7ed51e-d79a-429d-f446-0e53ad84b006"
   },
   "outputs": [
    {
     "name": "stdout",
     "output_type": "stream",
     "text": [
      "Accuracy Score: 0.9136\n",
      "ROC-AUC: 0.9531\n"
     ]
    }
   ],
   "source": [
    "from pyspark.ml.feature import CountVectorizer\n",
    "\n",
    "tokenizer = Tokenizer(inputCol=\"text\", outputCol=\"words\")\n",
    "cv = CountVectorizer(vocabSize=2**16, inputCol=\"words\", outputCol='cv')\n",
    "idf = IDF(inputCol='cv', outputCol=\"features\", minDocFreq=5) #minDocFreq: remove sparse terms\n",
    "label_stringIdx = StringIndexer(inputCol = \"labels\", outputCol = \"label\")\n",
    "lr = LogisticRegression(maxIter=100)\n",
    "pipeline = Pipeline(stages=[tokenizer, cv, idf, label_stringIdx, lr])\n",
    "\n",
    "pipelineFit = pipeline.fit(train_set)\n",
    "predictions = pipelineFit.transform(val_set)\n",
    "accuracy = predictions.filter(predictions.label == predictions.prediction).count() / float(val_set.count())\n",
    "roc_auc = evaluator.evaluate(predictions)\n",
    "\n",
    "print(\"Accuracy Score: {0:.4f}\".format(accuracy))\n",
    "print(\"ROC-AUC: {0:.4f}\".format(roc_auc))"
   ]
  },
  {
   "cell_type": "code",
   "execution_count": null,
   "metadata": {
    "id": "kso7x5G5mwK0"
   },
   "outputs": [],
   "source": [
    " "
   ]
  },
  {
   "cell_type": "code",
   "execution_count": null,
   "metadata": {
    "id": "KQUebJ4k15o1"
   },
   "outputs": [],
   "source": [
    ""
   ]
  },
  {
   "cell_type": "code",
   "execution_count": null,
   "metadata": {
    "id": "2p6oG2Mg15rm"
   },
   "outputs": [],
   "source": [
    ""
   ]
  },
  {
   "cell_type": "code",
   "execution_count": null,
   "metadata": {
    "id": "U4uWligE15t5"
   },
   "outputs": [],
   "source": [
    ""
   ]
  },
  {
   "cell_type": "code",
   "execution_count": null,
   "metadata": {
    "id": "3HlpB8jt15v5"
   },
   "outputs": [],
   "source": [
    ""
   ]
  },
  {
   "cell_type": "code",
   "execution_count": null,
   "metadata": {
    "colab": {
     "base_uri": "https://localhost:8080/"
    },
    "id": "rVqrTagC15zU",
    "outputId": "d37c8255-4c64-4f82-e740-81724c540a71"
   },
   "outputs": [
    {
     "name": "stdout",
     "output_type": "stream",
     "text": [
      "Collecting vaderSentiment\n",
      "  Downloading vaderSentiment-3.3.2-py2.py3-none-any.whl (125 kB)\n",
      "\u001B[?25l\r\u001B[K     |██▋                             | 10 kB 27.0 MB/s eta 0:00:01\r\u001B[K     |█████▏                          | 20 kB 30.4 MB/s eta 0:00:01\r\u001B[K     |███████▉                        | 30 kB 18.5 MB/s eta 0:00:01\r\u001B[K     |██████████▍                     | 40 kB 15.2 MB/s eta 0:00:01\r\u001B[K     |█████████████                   | 51 kB 7.3 MB/s eta 0:00:01\r\u001B[K     |███████████████▋                | 61 kB 8.5 MB/s eta 0:00:01\r\u001B[K     |██████████████████▏             | 71 kB 8.3 MB/s eta 0:00:01\r\u001B[K     |████████████████████▉           | 81 kB 8.4 MB/s eta 0:00:01\r\u001B[K     |███████████████████████▍        | 92 kB 9.3 MB/s eta 0:00:01\r\u001B[K     |██████████████████████████      | 102 kB 7.7 MB/s eta 0:00:01\r\u001B[K     |████████████████████████████▋   | 112 kB 7.7 MB/s eta 0:00:01\r\u001B[K     |███████████████████████████████▏| 122 kB 7.7 MB/s eta 0:00:01\r\u001B[K     |████████████████████████████████| 125 kB 7.7 MB/s \n",
      "\u001B[?25hRequirement already satisfied: requests in /usr/local/lib/python3.7/dist-packages (from vaderSentiment) (2.23.0)\n",
      "Requirement already satisfied: urllib3!=1.25.0,!=1.25.1,<1.26,>=1.21.1 in /usr/local/lib/python3.7/dist-packages (from requests->vaderSentiment) (1.24.3)\n",
      "Requirement already satisfied: certifi>=2017.4.17 in /usr/local/lib/python3.7/dist-packages (from requests->vaderSentiment) (2021.10.8)\n",
      "Requirement already satisfied: idna<3,>=2.5 in /usr/local/lib/python3.7/dist-packages (from requests->vaderSentiment) (2.10)\n",
      "Requirement already satisfied: chardet<4,>=3.0.2 in /usr/local/lib/python3.7/dist-packages (from requests->vaderSentiment) (3.0.4)\n",
      "Installing collected packages: vaderSentiment\n",
      "Successfully installed vaderSentiment-3.3.2\n"
     ]
    }
   ],
   "source": [
    "!pip install vaderSentiment"
   ]
  },
  {
   "cell_type": "code",
   "execution_count": null,
   "metadata": {
    "id": "Mrpn-y8D159I"
   },
   "outputs": [],
   "source": [
    "import re\n",
    "import string\n",
    "import nltk\n",
    "from nltk.stem.wordnet import WordNetLemmatizer\n",
    "from nltk.corpus import stopwords\n",
    "from nltk import pos_tag\n",
    "import pandas as pd\n",
    "import numpy as np\n",
    "import nltk\n",
    "import string\n",
    "import matplotlib.pyplot as plt\n",
    "import numpy as np\n",
    "import string\n",
    "\n",
    "from sklearn.feature_extraction.text import TfidfTransformer\n",
    "from sklearn.feature_extraction.text import CountVectorizer\n",
    "from sklearn.model_selection import train_test_split\n",
    "from sklearn.metrics import confusion_matrix\n",
    "from sklearn import metrics\n",
    "from sklearn.metrics import roc_curve, auc\n",
    "from nltk.stem.porter import PorterStemmer\n",
    "from nltk.corpus import stopwords\n",
    "from nltk import word_tokenize   \n",
    "\n",
    "from pyspark import SparkContext\n",
    "from pyspark import SparkConf\n",
    "from pyspark import SQLContext\n",
    "\n",
    "from pyspark import HiveContext\n",
    "\n",
    "from pyspark.sql.functions import udf\n",
    "from pyspark.sql.types import *\n",
    "from pyspark.sql.types import DoubleType\n",
    "from pyspark.ml.feature import Tokenizer\n",
    "from pyspark.ml.feature import StopWordsRemover\n",
    "from pyspark.ml.feature import HashingTF, IDF\n",
    "from pyspark.ml.classification import LogisticRegression, NaiveBayes, GBTClassifier\n",
    "from pyspark.mllib.classification import LogisticRegressionWithLBFGS, LogisticRegressionModel,LogisticRegressionWithSGD\n",
    "from pyspark.mllib.regression import LabeledPoint\n",
    "from pyspark.ml import Pipeline\n",
    "from pyspark.ml.tuning import CrossValidator, ParamGridBuilder\n",
    "from pyspark.ml.evaluation import MulticlassClassificationEvaluator\n",
    "from pyspark.ml.evaluation import BinaryClassificationEvaluator\n",
    "from pyspark.ml.classification import DecisionTreeClassifier\n",
    "from pyspark.ml.feature import StringIndexer, VectorIndexer\n",
    "from vaderSentiment import vaderSentiment\n",
    "from pyspark.ml.feature import NGram\n",
    "import matplotlib"
   ]
  },
  {
   "cell_type": "code",
   "execution_count": null,
   "metadata": {
    "colab": {
     "base_uri": "https://localhost:8080/"
    },
    "id": "M90raNxR16aT",
    "outputId": "28fdc7b2-f435-4da9-c51a-7b0868d27674"
   },
   "outputs": [
    {
     "name": "stdout",
     "output_type": "stream",
     "text": [
      "+--------------------+--------+------+\n",
      "|                text|  labels|Target|\n",
      "+--------------------+--------+------+\n",
      "|as a local new or...|positive|     1|\n",
      "|this has been my ...|positive|     1|\n",
      "|the atmosphere is...|negative|     0|\n",
      "|cant wait to get ...|positive|     1|\n",
      "+--------------------+--------+------+\n",
      "only showing top 4 rows\n",
      "\n"
     ]
    }
   ],
   "source": [
    "def toBinary(score):\n",
    "    if score == 'positive': return 1\n",
    "    else: return 0\n",
    "udfScoretoBinary=udf(toBinary, StringType())\n",
    "\n",
    "df = df.withColumn(\"Target\", udfScoretoBinary(\"labels\"))\n",
    "df.show(4)"
   ]
  },
  {
   "cell_type": "code",
   "execution_count": null,
   "metadata": {
    "id": "b0wG7QZ72gxd"
   },
   "outputs": [],
   "source": [
    "#TEXT Pre-processing\n",
    "\n",
    "##COnvert to lower\n",
    "from pyspark.sql.functions import udf\n",
    "from pyspark.sql.types import *\n",
    "\n",
    "def lower(text):\n",
    "    return text.lower()\n",
    "\n",
    "lower_udf =udf(lower,StringType())\n",
    "\n",
    "\n",
    "##Remove nonAscii\n",
    "def strip_non_ascii(data_str):\n",
    "#''' Returns the string without non ASCII characters'''\n",
    "    stripped = (c for c in data_str if 0 < ord(c) < 127)\n",
    "    return ''.join(stripped)\n",
    "# setup pyspark udf function\n",
    "strip_non_ascii_udf = udf(strip_non_ascii, StringType())\n",
    "\n",
    "##FIx abbreviations\n",
    "def fix_abbreviation(data_str):\n",
    "    data_str = data_str.lower()\n",
    "    data_str = re.sub(r'\\bthats\\b', 'that is', data_str)\n",
    "    data_str = re.sub(r'\\bive\\b', 'i have', data_str)\n",
    "    data_str = re.sub(r'\\bim\\b', 'i am', data_str)\n",
    "    data_str = re.sub(r'\\bya\\b', 'yeah', data_str)\n",
    "    data_str = re.sub(r'\\bcant\\b', 'can not', data_str)\n",
    "    data_str = re.sub(r'\\bdont\\b', 'do not', data_str)\n",
    "    data_str = re.sub(r'\\bwont\\b', 'will not', data_str)\n",
    "    data_str = re.sub(r'\\bid\\b', 'i would', data_str)\n",
    "    data_str = re.sub(r'wtf', 'what the fuck', data_str)\n",
    "    data_str = re.sub(r'\\bwth\\b', 'what the hell', data_str)\n",
    "    data_str = re.sub(r'\\br\\b', 'are', data_str)\n",
    "    data_str = re.sub(r'\\bu\\b', 'you', data_str)\n",
    "    data_str = re.sub(r'\\bk\\b', 'OK', data_str)\n",
    "    data_str = re.sub(r'\\bsux\\b', 'sucks', data_str)\n",
    "    data_str = re.sub(r'\\bno+\\b', 'no', data_str)\n",
    "    data_str = re.sub(r'\\bcoo+\\b', 'cool', data_str)\n",
    "    data_str = re.sub(r'rt\\b', '', data_str)\n",
    "    data_str = data_str.strip()\n",
    "    return data_str\n",
    "\n",
    "\n",
    "##Remove punctuations mentions and alphanumeric characters\n",
    "def remove_features(data_str):\n",
    "# compile regex\n",
    "    url_re = re.compile('https?://(www.)?\\w+\\.\\w+(/\\w+)*/?')\n",
    "    punc_re = re.compile('[%s]' % re.escape(string.punctuation))\n",
    "    num_re = re.compile('(\\\\d+)')\n",
    "    mention_re = re.compile('@(\\w+)')\n",
    "    alpha_num_re = re.compile(\"^[a-z0-9_.]+$\")\n",
    "# convert to lowercase\n",
    "    data_str = data_str.lower()\n",
    "# remove hyperlinks\n",
    "    data_str = url_re.sub(' ', data_str)\n",
    "# remove @mentions\n",
    "    data_str = mention_re.sub(' ', data_str)\n",
    "# remove puncuation\n",
    "    data_str = punc_re.sub(' ', data_str)\n",
    "# remove numeric 'words'\n",
    "    data_str = num_re.sub(' ', data_str)\n",
    "# remove non a-z 0-9 characters and words shorter than 1 characters\n",
    "    list_pos = 0\n",
    "    cleaned_str = ''\n",
    "    for word in data_str.split():\n",
    "        if list_pos == 0:\n",
    "            if alpha_num_re.match(word):\n",
    "                cleaned_str = word\n",
    "            else:\n",
    "                cleaned_str = ' '\n",
    "        else:\n",
    "            if alpha_num_re.match(word):\n",
    "                cleaned_str = cleaned_str + ' ' + word\n",
    "            else:\n",
    "                cleaned_str += ' '\n",
    "        list_pos += 1\n",
    "# remove unwanted space, *.split() will automatically split on\n",
    "# whitespace and discard duplicates, the \" \".join() joins the\n",
    "# resulting list into one string.\n",
    "    return \" \".join(cleaned_str.split())\n",
    "# setup pyspark udf function\n",
    "\n",
    "\n",
    "\n",
    "##Remove stop words\n",
    "def remove_stops(data_str):\n",
    "# expects a string\n",
    "    stops = set(stopwords.words(\"english\"))\n",
    "    list_pos = 0\n",
    "    cleaned_str = ''\n",
    "    text = data_str.split()\n",
    "    for word in text:\n",
    "        if word not in stops:\n",
    "# rebuild cleaned_str\n",
    "            if list_pos == 0:\n",
    "                cleaned_str = word\n",
    "            else:\n",
    "                cleaned_str = cleaned_str + ' ' + word\n",
    "            list_pos += 1\n",
    "    return cleaned_str\n",
    "\n",
    "\n",
    "# Part-of-Speech Tagging\n",
    "def tag_and_remove(data_str):\n",
    "    cleaned_str = ' '\n",
    "# noun tags\n",
    "    nn_tags = ['NN', 'NNP', 'NNP', 'NNPS', 'NNS']\n",
    "# adjectives\n",
    "    jj_tags = ['JJ', 'JJR', 'JJS']\n",
    "# verbs\n",
    "    vb_tags = ['VB', 'VBD', 'VBG', 'VBN', 'VBP', 'VBZ']\n",
    "    nltk_tags = nn_tags + jj_tags + vb_tags\n",
    "# break string into 'words'\n",
    "    text = data_str.split()\n",
    "# tag the text and keep only those with the right tags\n",
    "    tagged_text = pos_tag(text)\n",
    "    for tagged_word in tagged_text:\n",
    "        if tagged_word[1] in nltk_tags:\n",
    "            cleaned_str += tagged_word[0] + ' '\n",
    "    return cleaned_str\n",
    "\n",
    "\n",
    "##Lemmatization\n",
    "def lemmatize(data_str):\n",
    "# expects a string\n",
    "    list_pos = 0\n",
    "    cleaned_str = ''\n",
    "    lmtzr = WordNetLemmatizer()\n",
    "    text = data_str.split()\n",
    "    tagged_words = pos_tag(text)\n",
    "    for word in tagged_words:\n",
    "        if 'v' in word[1].lower():\n",
    "            lemma = lmtzr.lemmatize(word[0], pos='v')\n",
    "        else:\n",
    "            lemma = lmtzr.lemmatize(word[0], pos='n')\n",
    "        if list_pos == 0:\n",
    "            cleaned_str = lemma\n",
    "        else:\n",
    "            cleaned_str = cleaned_str + ' ' + lemma\n",
    "        list_pos += 1\n",
    "    return cleaned_str"
   ]
  },
  {
   "cell_type": "code",
   "execution_count": null,
   "metadata": {
    "id": "jvgYYFhP25PX"
   },
   "outputs": [],
   "source": [
    "lower_udf =udf(lower,StringType())\n",
    "strip_non_ascii_udf = udf(strip_non_ascii, StringType())\n",
    "fix_abbreviation_udf = udf(fix_abbreviation, StringType())\n",
    "remove_features_udf = udf(remove_features, StringType())\n",
    "remove_stops_udf = udf(remove_stops, StringType())\n",
    "tag_and_remove_udf = udf(tag_and_remove, StringType())\n",
    "lemmatize_udf = udf(lemmatize, StringType())"
   ]
  },
  {
   "cell_type": "code",
   "execution_count": null,
   "metadata": {
    "colab": {
     "base_uri": "https://localhost:8080/"
    },
    "id": "60qp23Xl27GP",
    "outputId": "9ba57476-85ab-4a38-9c50-9ff02ed718e1"
   },
   "outputs": [
    {
     "name": "stdout",
     "output_type": "stream",
     "text": [
      "+--------------------+--------+------+--------------------+--------------------+--------------------+--------------------+\n",
      "|                text|  labels|Target|          lower_text|       text_non_asci|        fixed_abbrev|    removed_features|\n",
      "+--------------------+--------+------+--------------------+--------------------+--------------------+--------------------+\n",
      "|as a local new or...|positive|     1|as a local new or...|as a local new or...|as a local new or...|as a local new or...|\n",
      "|this has been my ...|positive|     1|this has been my ...|this has been my ...|this has been my ...|this has been my ...|\n",
      "|the atmosphere is...|negative|     0|the atmosphere is...|the atmosphere is...|the atmosphere is...|the atmosphere is...|\n",
      "|cant wait to get ...|positive|     1|cant wait to get ...|can not wait to g...|can not wait to g...|can not wait to g...|\n",
      "|i am a vegetarian...|negative|     0|i am a vegetarian...|i am a vegetarian...|i am a vegetarian...|i am a vegetarian...|\n",
      "+--------------------+--------+------+--------------------+--------------------+--------------------+--------------------+\n",
      "only showing top 5 rows\n",
      "\n"
     ]
    }
   ],
   "source": [
    "df = df.withColumn(\"lower_text\",lower_udf(df[\"Text\"]))\n",
    "df = df.withColumn(\"text_non_asci\",fix_abbreviation_udf(df[\"lower_text\"]))\n",
    "df = df.withColumn(\"fixed_abbrev\",fix_abbreviation_udf(df[\"text_non_asci\"]))\n",
    "df = df.withColumn('removed_features',remove_features_udf(df['fixed_abbrev']))\n",
    "df.show(5,True)"
   ]
  },
  {
   "cell_type": "code",
   "execution_count": null,
   "metadata": {
    "colab": {
     "base_uri": "https://localhost:8080/"
    },
    "id": "B5FHyVUr3GzG",
    "outputId": "6c9ccbed-4d9f-4444-fc4e-b18034edefb7"
   },
   "outputs": [
    {
     "name": "stdout",
     "output_type": "stream",
     "text": [
      "[nltk_data] Downloading package stopwords to /root/nltk_data...\n",
      "[nltk_data]   Package stopwords is already up-to-date!\n",
      "[nltk_data] Downloading package averaged_perceptron_tagger to\n",
      "[nltk_data]     /root/nltk_data...\n",
      "[nltk_data]   Package averaged_perceptron_tagger is already up-to-\n",
      "[nltk_data]       date!\n",
      "[nltk_data] Downloading package wordnet to /root/nltk_data...\n",
      "[nltk_data]   Unzipping corpora/wordnet.zip.\n"
     ]
    },
    {
     "data": {
      "text/plain": [
       "True"
      ]
     },
     "execution_count": 170,
     "metadata": {},
     "output_type": "execute_result"
    }
   ],
   "source": [
    "import nltk\n",
    "nltk.download('stopwords')\n",
    "nltk.download('averaged_perceptron_tagger')\n",
    "nltk.download('wordnet')\n"
   ]
  },
  {
   "cell_type": "code",
   "execution_count": null,
   "metadata": {
    "colab": {
     "base_uri": "https://localhost:8080/"
    },
    "id": "c8N7cwTq29dB",
    "outputId": "638bc2d1-d6d8-4a44-f7ea-f2297b6e7857"
   },
   "outputs": [
    {
     "name": "stdout",
     "output_type": "stream",
     "text": [
      "+--------------------+--------------------+------+\n",
      "|                Text|       removed_stops|Target|\n",
      "+--------------------+--------------------+------+\n",
      "|as a local new or...|local new orleani...|     1|\n",
      "|this has been my ...|go banh mi spot y...|     1|\n",
      "|the atmosphere is...|atmosphere pleasa...|     0|\n",
      "|cant wait to get ...|wait get back int...|     1|\n",
      "|i am a vegetarian...|vegetarian ever c...|     0|\n",
      "+--------------------+--------------------+------+\n",
      "only showing top 5 rows\n",
      "\n"
     ]
    }
   ],
   "source": [
    "df = df.withColumnRenamed(\"text\", \"Text\")\n",
    "df_no_stop_words = df.withColumn(\"removed_stops\", remove_stops_udf(\"removed_features\")).select('Text','removed_stops','Target')\n",
    "df_no_stop_words.show(5)"
   ]
  },
  {
   "cell_type": "code",
   "execution_count": null,
   "metadata": {
    "id": "1ndkZdFp3Bf2"
   },
   "outputs": [],
   "source": [
    "df_pos_tagging=df_no_stop_words.withColumn(\"tag_and_remove_pos\", tag_and_remove_udf(\"removed_stops\")).select('Text','tag_and_remove_pos','Target')\n"
   ]
  },
  {
   "cell_type": "code",
   "execution_count": null,
   "metadata": {
    "colab": {
     "base_uri": "https://localhost:8080/"
    },
    "id": "O-e_30dh3k_A",
    "outputId": "00586ac5-8591-438f-bb8f-e959e058496f"
   },
   "outputs": [
    {
     "name": "stdout",
     "output_type": "stream",
     "text": [
      "Row(words=['', 'local', 'new', 'orleanian', 'area', 'many', 'vietnamese', 'restaurants', 'choose', 'td', 'pho', 'house', 'moderneclectic', 'restaurant', 'combining', 'authentic', 'vietnamese', 'dishes', 'local', 'flavors', 'louisiana', 'located', 'west', 'bank', 'able', 'reap', 'benefits', 'lower', 'prices', 'compared', 'city', 'sacrificing', 'quality', 'customer', 'service', 'give', 'visit', 'leave', 'feeling', 'satisfied', 'full'], Target='1')\n",
      "Row(words=['', 'go', 'banh', 'mi', 'spot', 'year', 'ride', 'harder', 'place', 'entering', 'youll', 'notice', 'woman', 'shop', 'keeps', 'kid', 'entertained', 'impressive', 'opinion', 'disappoint', 'get', 'banh', 'mi', 'dac', 'biet', 'time', 'cut', 'half', 'extra', 'carrots', 'daikon', 'adds', 'extra', 'charge', 'best', 'dac', 'biet', 'banh', 'mi', 'pinellas', 'county', 'shops', 'toasted', 'bun', 'great', 'flavor', 'bite', 'enjoy', 'thit', 'banh', 'mi', 'good', 'recommend', 'vietnamese', 'coffee', 'good', 'portions', 'great', 'love', 'place', 'recommend', 'anyone', 'searching', 'banh', 'mi', 'pinellas', 'park'], Target='1')\n",
      "Row(words=['', 'pleasant', 'well', 'designed', 'hostess', 'friendly', 'meal', 'acceptable', 'soup', 'watery', 'couldnt', 'eat', 'sandwich', 'waitress', 'asked', 'food', 'acceptable', 'send', 'full', 'plate', 'kitchen', 'future', 'visit', 'cards'], Target='0')\n"
     ]
    }
   ],
   "source": [
    "#Tokenizing the document\n",
    "tokenizer = Tokenizer(inputCol=\"tag_and_remove_pos\", outputCol=\"words\")\n",
    "wordsDataFrame = tokenizer.transform(df_pos_tagging)\n",
    "for words_label in wordsDataFrame.select(\"words\", \"Target\").take(3):\n",
    "    print(words_label)\n",
    "\n",
    "df_text = df.withColumn(\"text_lower\",lower_udf(df[\"Text\"])).select('text_lower','Target')"
   ]
  },
  {
   "cell_type": "code",
   "execution_count": null,
   "metadata": {
    "colab": {
     "base_uri": "https://localhost:8080/"
    },
    "id": "MXZzMrzw3m7r",
    "outputId": "0ab45c23-92ba-4cf7-fba6-89f3668cb5c6"
   },
   "outputs": [
    {
     "name": "stdout",
     "output_type": "stream",
     "text": [
      "+------+--------------------+\n",
      "|Target|      words_filtered|\n",
      "+------+--------------------+\n",
      "|     1|[, local, new, or...|\n",
      "|     1|[, go, banh, mi, ...|\n",
      "+------+--------------------+\n",
      "only showing top 2 rows\n",
      "\n"
     ]
    }
   ],
   "source": [
    "remover = StopWordsRemover(inputCol=\"words\", outputCol=\"words_filtered\")\n",
    "wordsDataFrame1 = remover.transform(wordsDataFrame).select(\"Target\",\"words_filtered\")\n",
    "wordsDataFrame1.show(2)"
   ]
  },
  {
   "cell_type": "code",
   "execution_count": null,
   "metadata": {
    "colab": {
     "base_uri": "https://localhost:8080/"
    },
    "id": "fmh0VMlT3wZ_",
    "outputId": "b1998117-3168-495c-a56e-eb988f935717"
   },
   "outputs": [
    {
     "name": "stdout",
     "output_type": "stream",
     "text": [
      "+--------------------+--------------------+------+\n",
      "|                Text|     lemmatized_text|Target|\n",
      "+--------------------+--------------------+------+\n",
      "|as a local new or...|local new orleani...|     1|\n",
      "|this has been my ...|go banh mi spot y...|     1|\n",
      "|the atmosphere is...|pleasant well des...|     0|\n",
      "|cant wait to get ...|wait get intimate...|     1|\n",
      "|i am a vegetarian...|vegetarian come t...|     0|\n",
      "+--------------------+--------------------+------+\n",
      "only showing top 5 rows\n",
      "\n"
     ]
    }
   ],
   "source": [
    "df_text_lemma=df_pos_tagging.withColumn(\"lemmatized_text\",lemmatize_udf(\"tag_and_remove_pos\")).select('Text','lemmatized_text','Target')\n",
    "df_text_lemma.show(5)"
   ]
  },
  {
   "cell_type": "code",
   "execution_count": null,
   "metadata": {
    "colab": {
     "base_uri": "https://localhost:8080/"
    },
    "id": "BcH7cLxN30Oo",
    "outputId": "de8ea654-8b6f-4160-cc91-6071a5b84881"
   },
   "outputs": [
    {
     "name": "stdout",
     "output_type": "stream",
     "text": [
      "+--------------------+--------------------+------+---+\n",
      "|                Text|     lemmatized_text|Target|uid|\n",
      "+--------------------+--------------------+------+---+\n",
      "|as a local new or...|local new orleani...|     1|  0|\n",
      "|this has been my ...|go banh mi spot y...|     1|  1|\n",
      "|the atmosphere is...|pleasant well des...|     0|  2|\n",
      "|cant wait to get ...|wait get intimate...|     1|  3|\n",
      "+--------------------+--------------------+------+---+\n",
      "only showing top 4 rows\n",
      "\n"
     ]
    }
   ],
   "source": [
    "from pyspark.sql.functions import monotonically_increasing_id\n",
    "# Create Unique ID\n",
    "df_text_lemma = df_text_lemma.withColumn(\"uid\", monotonically_increasing_id())\n",
    "df_text_lemma.show(4)"
   ]
  },
  {
   "cell_type": "code",
   "execution_count": null,
   "metadata": {
    "colab": {
     "base_uri": "https://localhost:8080/"
    },
    "id": "m8iAnq3Q4EFe",
    "outputId": "2b7a016c-cc06-4f77-82ff-87b32a9dcab9"
   },
   "outputs": [
    {
     "name": "stdout",
     "output_type": "stream",
     "text": [
      "+---+--------------------+------+\n",
      "|uid|     lemmatized_text|Target|\n",
      "+---+--------------------+------+\n",
      "|  0|local new orleani...|     1|\n",
      "|  1|go banh mi spot y...|     1|\n",
      "|  2|pleasant well des...|     0|\n",
      "|  3|wait get intimate...|     1|\n",
      "+---+--------------------+------+\n",
      "only showing top 4 rows\n",
      "\n"
     ]
    }
   ],
   "source": [
    "# Preparing Data For Modelling\n",
    "# a. Creating Final Dataset with apt columns\n",
    "\n",
    "data = df_text_lemma.select('uid', 'lemmatized_text','Target')\n",
    "#data=wordsDataFrame2\n",
    "data.show(4)"
   ]
  },
  {
   "cell_type": "code",
   "execution_count": null,
   "metadata": {
    "id": "Hc3iizjA4Pga"
   },
   "outputs": [],
   "source": [
    "#b. Dividing it into Training and Test Set\n",
    "(trainingData, testData) = data.randomSplit([0.7, 0.3])\n",
    "\n",
    "# Caching the RDD for training\n",
    "trainingData\n",
    "#Renaming features for modeling\n",
    "training = trainingData.selectExpr(\"lemmatized_text as text\", \"Target as label\")\n",
    "training = training.withColumn(\"label\", training[\"label\"].cast(DoubleType()))\n",
    "\n",
    "# Caching the RDD for test\n",
    "testData\n",
    "#Renaming features for modeling\n",
    "test = testData.selectExpr(\"lemmatized_text as text\", \"Target as label\")\n",
    "test = test.withColumn(\"label\", test[\"label\"].cast(DoubleType()))\n",
    "\n",
    "# c. Tokenizing the Training set anc creating TF-IDF matrix using HashingTF\n",
    "\n",
    "tokenizer = Tokenizer(inputCol=\"text\", outputCol=\"words\")\n",
    "hashingTF = HashingTF(inputCol=tokenizer.getOutputCol(), outputCol=\"hashing\")\n",
    "idf = IDF(inputCol=hashingTF.getOutputCol(), outputCol=\"features\")"
   ]
  },
  {
   "cell_type": "code",
   "execution_count": null,
   "metadata": {
    "id": "npZYzJ2O4fCA"
   },
   "outputs": [],
   "source": [
    ""
   ]
  },
  {
   "cell_type": "markdown",
   "metadata": {
    "id": "0ZHwNQf_4kI0"
   },
   "source": [
    "# 6. Modelling and Evaluating"
   ]
  },
  {
   "cell_type": "code",
   "execution_count": null,
   "metadata": {
    "id": "ETxZcDxu4iId"
   },
   "outputs": [],
   "source": [
    ""
   ]
  },
  {
   "cell_type": "markdown",
   "metadata": {
    "id": "IulVU0oz4odW"
   },
   "source": [
    "## a. Logistic Regression Model"
   ]
  },
  {
   "cell_type": "code",
   "execution_count": null,
   "metadata": {
    "colab": {
     "base_uri": "https://localhost:8080/"
    },
    "id": "qZTaF8mo4qCQ",
    "outputId": "09d89a66-e291-4795-c763-4a31969634df"
   },
   "outputs": [
    {
     "name": "stdout",
     "output_type": "stream",
     "text": [
      "+-----+----------+\n",
      "|label|prediction|\n",
      "+-----+----------+\n",
      "|0.0  |0.0       |\n",
      "|1.0  |1.0       |\n",
      "|1.0  |1.0       |\n",
      "|1.0  |1.0       |\n",
      "|1.0  |1.0       |\n",
      "|0.0  |0.0       |\n",
      "|1.0  |1.0       |\n",
      "|1.0  |1.0       |\n",
      "|1.0  |1.0       |\n",
      "|1.0  |1.0       |\n",
      "+-----+----------+\n",
      "only showing top 10 rows\n",
      "\n"
     ]
    }
   ],
   "source": [
    "lr = LogisticRegression(maxIter=10, regParam=0.01)\n",
    "pipeline = Pipeline(stages=[tokenizer, hashingTF, idf, lr])\n",
    "# Training the model\n",
    "model = pipeline.fit(training)\n",
    "#Predicing Output\n",
    "prediction = model.transform(test)\n",
    "prediction.select(\"label\", \"prediction\").show(10,False)"
   ]
  },
  {
   "cell_type": "code",
   "execution_count": null,
   "metadata": {
    "colab": {
     "base_uri": "https://localhost:8080/"
    },
    "id": "KysPnNdP4t0n",
    "outputId": "9bcf3684-19fc-4a6b-b74b-fbb400cce44a"
   },
   "outputs": [
    {
     "name": "stdout",
     "output_type": "stream",
     "text": [
      "root\n",
      " |-- text: string (nullable = true)\n",
      " |-- label: double (nullable = true)\n",
      " |-- words: array (nullable = true)\n",
      " |    |-- element: string (containsNull = true)\n",
      " |-- hashing: vector (nullable = true)\n",
      " |-- features: vector (nullable = true)\n",
      " |-- rawPrediction: vector (nullable = true)\n",
      " |-- probability: vector (nullable = true)\n",
      " |-- prediction: double (nullable = false)\n",
      "\n"
     ]
    }
   ],
   "source": [
    "prediction.printSchema()"
   ]
  },
  {
   "cell_type": "code",
   "execution_count": 1,
   "metadata": {
    "id": "p03CxzYW4_I_"
   },
   "outputs": [],
   "source": [
    "# from pyspark.ml.evaluation import MulticlassClassificationEvaluator\n",
    "# evaluator = MulticlassClassificationEvaluator(predictionCol=\"prediction\")\n",
    "# evaluator.evaluate(prediction)"
   ]
  },
  {
   "cell_type": "code",
   "execution_count": null,
   "metadata": {
    "colab": {
     "background_save": true
    },
    "id": "claSxnNJ5ARM",
    "outputId": "e5b829ce-f0ac-40db-dd1f-c41ecc899022"
   },
   "outputs": [
    {
     "data": {
      "text/html": [
       "\n",
       "  <div id=\"df-dd52c708-958f-4617-9ae2-5d1fc4a741ea\">\n",
       "    <div class=\"colab-df-container\">\n",
       "      <div>\n",
       "<style scoped>\n",
       "    .dataframe tbody tr th:only-of-type {\n",
       "        vertical-align: middle;\n",
       "    }\n",
       "\n",
       "    .dataframe tbody tr th {\n",
       "        vertical-align: top;\n",
       "    }\n",
       "\n",
       "    .dataframe thead th {\n",
       "        text-align: right;\n",
       "    }\n",
       "</style>\n",
       "<table border=\"1\" class=\"dataframe\">\n",
       "  <thead>\n",
       "    <tr style=\"text-align: right;\">\n",
       "      <th></th>\n",
       "      <th>label</th>\n",
       "      <th>prediction</th>\n",
       "    </tr>\n",
       "  </thead>\n",
       "  <tbody>\n",
       "    <tr>\n",
       "      <th>0</th>\n",
       "      <td>0.0</td>\n",
       "      <td>0.0</td>\n",
       "    </tr>\n",
       "    <tr>\n",
       "      <th>1</th>\n",
       "      <td>1.0</td>\n",
       "      <td>1.0</td>\n",
       "    </tr>\n",
       "    <tr>\n",
       "      <th>2</th>\n",
       "      <td>1.0</td>\n",
       "      <td>1.0</td>\n",
       "    </tr>\n",
       "    <tr>\n",
       "      <th>3</th>\n",
       "      <td>1.0</td>\n",
       "      <td>1.0</td>\n",
       "    </tr>\n",
       "    <tr>\n",
       "      <th>4</th>\n",
       "      <td>1.0</td>\n",
       "      <td>1.0</td>\n",
       "    </tr>\n",
       "    <tr>\n",
       "      <th>...</th>\n",
       "      <td>...</td>\n",
       "      <td>...</td>\n",
       "    </tr>\n",
       "    <tr>\n",
       "      <th>35621</th>\n",
       "      <td>1.0</td>\n",
       "      <td>1.0</td>\n",
       "    </tr>\n",
       "    <tr>\n",
       "      <th>35622</th>\n",
       "      <td>0.0</td>\n",
       "      <td>0.0</td>\n",
       "    </tr>\n",
       "    <tr>\n",
       "      <th>35623</th>\n",
       "      <td>1.0</td>\n",
       "      <td>1.0</td>\n",
       "    </tr>\n",
       "    <tr>\n",
       "      <th>35624</th>\n",
       "      <td>0.0</td>\n",
       "      <td>0.0</td>\n",
       "    </tr>\n",
       "    <tr>\n",
       "      <th>35625</th>\n",
       "      <td>1.0</td>\n",
       "      <td>1.0</td>\n",
       "    </tr>\n",
       "  </tbody>\n",
       "</table>\n",
       "<p>35626 rows × 2 columns</p>\n",
       "</div>\n",
       "      <button class=\"colab-df-convert\" onclick=\"convertToInteractive('df-dd52c708-958f-4617-9ae2-5d1fc4a741ea')\"\n",
       "              title=\"Convert this dataframe to an interactive table.\"\n",
       "              style=\"display:none;\">\n",
       "        \n",
       "  <svg xmlns=\"http://www.w3.org/2000/svg\" height=\"24px\"viewBox=\"0 0 24 24\"\n",
       "       width=\"24px\">\n",
       "    <path d=\"M0 0h24v24H0V0z\" fill=\"none\"/>\n",
       "    <path d=\"M18.56 5.44l.94 2.06.94-2.06 2.06-.94-2.06-.94-.94-2.06-.94 2.06-2.06.94zm-11 1L8.5 8.5l.94-2.06 2.06-.94-2.06-.94L8.5 2.5l-.94 2.06-2.06.94zm10 10l.94 2.06.94-2.06 2.06-.94-2.06-.94-.94-2.06-.94 2.06-2.06.94z\"/><path d=\"M17.41 7.96l-1.37-1.37c-.4-.4-.92-.59-1.43-.59-.52 0-1.04.2-1.43.59L10.3 9.45l-7.72 7.72c-.78.78-.78 2.05 0 2.83L4 21.41c.39.39.9.59 1.41.59.51 0 1.02-.2 1.41-.59l7.78-7.78 2.81-2.81c.8-.78.8-2.07 0-2.86zM5.41 20L4 18.59l7.72-7.72 1.47 1.35L5.41 20z\"/>\n",
       "  </svg>\n",
       "      </button>\n",
       "      \n",
       "  <style>\n",
       "    .colab-df-container {\n",
       "      display:flex;\n",
       "      flex-wrap:wrap;\n",
       "      gap: 12px;\n",
       "    }\n",
       "\n",
       "    .colab-df-convert {\n",
       "      background-color: #E8F0FE;\n",
       "      border: none;\n",
       "      border-radius: 50%;\n",
       "      cursor: pointer;\n",
       "      display: none;\n",
       "      fill: #1967D2;\n",
       "      height: 32px;\n",
       "      padding: 0 0 0 0;\n",
       "      width: 32px;\n",
       "    }\n",
       "\n",
       "    .colab-df-convert:hover {\n",
       "      background-color: #E2EBFA;\n",
       "      box-shadow: 0px 1px 2px rgba(60, 64, 67, 0.3), 0px 1px 3px 1px rgba(60, 64, 67, 0.15);\n",
       "      fill: #174EA6;\n",
       "    }\n",
       "\n",
       "    [theme=dark] .colab-df-convert {\n",
       "      background-color: #3B4455;\n",
       "      fill: #D2E3FC;\n",
       "    }\n",
       "\n",
       "    [theme=dark] .colab-df-convert:hover {\n",
       "      background-color: #434B5C;\n",
       "      box-shadow: 0px 1px 3px 1px rgba(0, 0, 0, 0.15);\n",
       "      filter: drop-shadow(0px 1px 2px rgba(0, 0, 0, 0.3));\n",
       "      fill: #FFFFFF;\n",
       "    }\n",
       "  </style>\n",
       "\n",
       "      <script>\n",
       "        const buttonEl =\n",
       "          document.querySelector('#df-dd52c708-958f-4617-9ae2-5d1fc4a741ea button.colab-df-convert');\n",
       "        buttonEl.style.display =\n",
       "          google.colab.kernel.accessAllowed ? 'block' : 'none';\n",
       "\n",
       "        async function convertToInteractive(key) {\n",
       "          const element = document.querySelector('#df-dd52c708-958f-4617-9ae2-5d1fc4a741ea');\n",
       "          const dataTable =\n",
       "            await google.colab.kernel.invokeFunction('convertToInteractive',\n",
       "                                                     [key], {});\n",
       "          if (!dataTable) return;\n",
       "\n",
       "          const docLinkHtml = 'Like what you see? Visit the ' +\n",
       "            '<a target=\"_blank\" href=https://colab.research.google.com/notebooks/data_table.ipynb>data table notebook</a>'\n",
       "            + ' to learn more about interactive tables.';\n",
       "          element.innerHTML = '';\n",
       "          dataTable['output_type'] = 'display_data';\n",
       "          await google.colab.output.renderOutput(dataTable, element);\n",
       "          const docLink = document.createElement('div');\n",
       "          docLink.innerHTML = docLinkHtml;\n",
       "          element.appendChild(docLink);\n",
       "        }\n",
       "      </script>\n",
       "    </div>\n",
       "  </div>\n",
       "  "
      ],
      "text/plain": [
       "       label  prediction\n",
       "0        0.0         0.0\n",
       "1        1.0         1.0\n",
       "2        1.0         1.0\n",
       "3        1.0         1.0\n",
       "4        1.0         1.0\n",
       "...      ...         ...\n",
       "35621    1.0         1.0\n",
       "35622    0.0         0.0\n",
       "35623    1.0         1.0\n",
       "35624    0.0         0.0\n",
       "35625    1.0         1.0\n",
       "\n",
       "[35626 rows x 2 columns]"
      ]
     },
     "execution_count": null,
     "metadata": {},
     "output_type": "execute_result"
    }
   ],
   "source": [
    "result=prediction.select(\"label\", \"prediction\").toPandas()\n",
    "result"
   ]
  },
  {
   "cell_type": "code",
   "execution_count": null,
   "metadata": {
    "id": "eVXNsiZkF-kM"
   },
   "outputs": [],
   "source": [
    ""
   ]
  }
 ],
 "metadata": {
  "colab": {
   "collapsed_sections": [],
   "name": "Project_Yelp_Analysis.ipynb",
   "provenance": []
  },
  "kernelspec": {
   "display_name": "Python 3",
   "name": "python3"
  },
  "language_info": {
   "name": "python"
  }
 },
 "nbformat": 4,
 "nbformat_minor": 0
}